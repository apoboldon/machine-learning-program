{
 "cells": [
  {
   "cell_type": "markdown",
   "id": "7f3ced07-6052-4e58-baa8-1e308ff27bb4",
   "metadata": {},
   "source": [
    "<center>\n",
    "<div>\n",
    "    <img src=\"./src/logo.svg\" alt=\"\">\n",
    "</div>\n",
    "    <b>© Jesús López 2022</b>\n",
    "    <br>Follow him on <a href=\"https://twitter.com/jsulopzs\">Twitter</a> or <a href=\"https://linkedin.com/in/jsulopzs\"><b>LinkedIn</b></a>\n",
    "</center>"
   ]
  },
  {
   "cell_type": "markdown",
   "id": "0267d5ce-018f-4a23-9bbf-79089968dddc",
   "metadata": {},
   "source": [
    "# What happens when you execute a `function()`?"
   ]
  },
  {
   "cell_type": "markdown",
   "id": "223a0a23-4d4a-42c9-aa33-eaeb9f7ee73c",
   "metadata": {},
   "source": [
    "**Table of Contents**\n",
    "\n",
    "1. [The Library](#1.-The-Library)\n",
    "2. [The Dot Notation](#2.-The-Dot-Notation)\n",
    "3. [The Function](#3.-The-Function)\n",
    "4. [Giving Objects to the Parameters](#4.-Giving-Objects-to-the-Parameters)\n",
    "5. [The Function Returns an Object](#5.-The-Function-Returns-an-Object)\n",
    "6. [The Execution: Inside the Black Box](#6.-The-Execution:-Inside-the-Black-Box)"
   ]
  },
  {
   "cell_type": "markdown",
   "id": "92e1f3ee-a637-4880-804d-91f0282a2f40",
   "metadata": {},
   "source": [
    "## The Challenge\n",
    "\n",
    "- [ ] How to load an `Excel` file ..."
   ]
  },
  {
   "cell_type": "markdown",
   "id": "8f228b4b-0710-4c1c-99a8-2c6935d7768f",
   "metadata": {},
   "source": [
    "![](src/excel.png)"
   ]
  },
  {
   "cell_type": "markdown",
   "id": "2e6c49ac-72ee-430c-9287-7c3db477bdb1",
   "metadata": {},
   "source": [
    "- ... in Python ↓"
   ]
  },
  {
   "cell_type": "markdown",
   "id": "c1b32513-fc4b-404b-ac6a-0758c9c287ff",
   "metadata": {},
   "source": [
    "# The Covered Solution"
   ]
  },
  {
   "cell_type": "code",
   "execution_count": 12,
   "id": "83dfe641-c8a4-4e79-aa01-6725d9c0b68e",
   "metadata": {},
   "outputs": [
    {
     "data": {
      "text/html": [
       "<div>\n",
       "<style scoped>\n",
       "    .dataframe tbody tr th:only-of-type {\n",
       "        vertical-align: middle;\n",
       "    }\n",
       "\n",
       "    .dataframe tbody tr th {\n",
       "        vertical-align: top;\n",
       "    }\n",
       "\n",
       "    .dataframe thead th {\n",
       "        text-align: right;\n",
       "    }\n",
       "</style>\n",
       "<table border=\"1\" class=\"dataframe\">\n",
       "  <thead>\n",
       "    <tr style=\"text-align: right;\">\n",
       "      <th></th>\n",
       "      <th>name</th>\n",
       "      <th>internet_usage</th>\n",
       "      <th>sex</th>\n",
       "      <th>age</th>\n",
       "      <th>education</th>\n",
       "      <th>weight</th>\n",
       "    </tr>\n",
       "  </thead>\n",
       "  <tbody>\n",
       "    <tr>\n",
       "      <th>0</th>\n",
       "      <td>Josefina</td>\n",
       "      <td>0</td>\n",
       "      <td>Female</td>\n",
       "      <td>66</td>\n",
       "      <td>Elementary</td>\n",
       "      <td>81</td>\n",
       "    </tr>\n",
       "    <tr>\n",
       "      <th>1</th>\n",
       "      <td>Vicki</td>\n",
       "      <td>1</td>\n",
       "      <td>Male</td>\n",
       "      <td>72</td>\n",
       "      <td>Elementary</td>\n",
       "      <td>78</td>\n",
       "    </tr>\n",
       "    <tr>\n",
       "      <th>2</th>\n",
       "      <td>David</td>\n",
       "      <td>1</td>\n",
       "      <td>Male</td>\n",
       "      <td>48</td>\n",
       "      <td>University</td>\n",
       "      <td>69</td>\n",
       "    </tr>\n",
       "    <tr>\n",
       "      <th>3</th>\n",
       "      <td>Curtis</td>\n",
       "      <td>0</td>\n",
       "      <td>Male</td>\n",
       "      <td>59</td>\n",
       "      <td>PhD</td>\n",
       "      <td>107</td>\n",
       "    </tr>\n",
       "    <tr>\n",
       "      <th>4</th>\n",
       "      <td>Josephine</td>\n",
       "      <td>1</td>\n",
       "      <td>Female</td>\n",
       "      <td>44</td>\n",
       "      <td>PhD</td>\n",
       "      <td>80</td>\n",
       "    </tr>\n",
       "    <tr>\n",
       "      <th>...</th>\n",
       "      <td>...</td>\n",
       "      <td>...</td>\n",
       "      <td>...</td>\n",
       "      <td>...</td>\n",
       "      <td>...</td>\n",
       "      <td>...</td>\n",
       "    </tr>\n",
       "    <tr>\n",
       "      <th>2450</th>\n",
       "      <td>Frances</td>\n",
       "      <td>1</td>\n",
       "      <td>Male</td>\n",
       "      <td>43</td>\n",
       "      <td>Elementary</td>\n",
       "      <td>94</td>\n",
       "    </tr>\n",
       "    <tr>\n",
       "      <th>2451</th>\n",
       "      <td>Harry</td>\n",
       "      <td>1</td>\n",
       "      <td>Female</td>\n",
       "      <td>18</td>\n",
       "      <td>High School</td>\n",
       "      <td>70</td>\n",
       "    </tr>\n",
       "    <tr>\n",
       "      <th>2452</th>\n",
       "      <td>Adam</td>\n",
       "      <td>0</td>\n",
       "      <td>Female</td>\n",
       "      <td>54</td>\n",
       "      <td>Elementary</td>\n",
       "      <td>60</td>\n",
       "    </tr>\n",
       "    <tr>\n",
       "      <th>2453</th>\n",
       "      <td>Christine</td>\n",
       "      <td>1</td>\n",
       "      <td>Male</td>\n",
       "      <td>31</td>\n",
       "      <td>High School</td>\n",
       "      <td>89</td>\n",
       "    </tr>\n",
       "    <tr>\n",
       "      <th>2454</th>\n",
       "      <td>Kimberly</td>\n",
       "      <td>0</td>\n",
       "      <td>Male</td>\n",
       "      <td>52</td>\n",
       "      <td>Elementary</td>\n",
       "      <td>88</td>\n",
       "    </tr>\n",
       "  </tbody>\n",
       "</table>\n",
       "<p>2455 rows × 6 columns</p>\n",
       "</div>"
      ],
      "text/plain": [
       "           name  internet_usage     sex  age    education  weight\n",
       "0      Josefina               0  Female   66   Elementary      81\n",
       "1         Vicki               1    Male   72   Elementary      78\n",
       "2         David               1    Male   48   University      69\n",
       "3        Curtis               0    Male   59          PhD     107\n",
       "4     Josephine               1  Female   44          PhD      80\n",
       "...         ...             ...     ...  ...          ...     ...\n",
       "2450    Frances               1    Male   43   Elementary      94\n",
       "2451      Harry               1  Female   18  High School      70\n",
       "2452       Adam               0  Female   54   Elementary      60\n",
       "2453  Christine               1    Male   31  High School      89\n",
       "2454   Kimberly               0    Male   52   Elementary      88\n",
       "\n",
       "[2455 rows x 6 columns]"
      ]
     },
     "execution_count": 12,
     "metadata": {},
     "output_type": "execute_result"
    }
   ],
   "source": [
    "?? # read the full story to find out the solution"
   ]
  },
  {
   "cell_type": "markdown",
   "id": "ce943800-589f-4bc2-9c7b-14f0e24cf5bb",
   "metadata": {},
   "source": [
    "## 1. The Library"
   ]
  },
  {
   "cell_type": "markdown",
   "id": "42680cb8-d51d-4106-a931-dce214c20e2d",
   "metadata": {},
   "source": [
    "1. ✅ Think of the library that may contain\n",
    "2. the `function()` that *loads the Excel file*"
   ]
  },
  {
   "cell_type": "code",
   "execution_count": 10,
   "id": "682c5a08-6bf9-4b13-8961-b80266d5ba6d",
   "metadata": {},
   "outputs": [],
   "source": [
    "import pandas"
   ]
  },
  {
   "cell_type": "code",
   "execution_count": null,
   "id": "f58ccfb4-39da-42ed-bc04-df85cae6b39d",
   "metadata": {},
   "outputs": [],
   "source": [
    "pandas."
   ]
  },
  {
   "cell_type": "markdown",
   "id": "35c7a51f-c3f9-4a85-81a8-34c9544c3ee2",
   "metadata": {
    "tags": []
   },
   "source": [
    "## 2. The Dot Notation\n",
    "\n",
    "1. ✅ `library.↹` to get the **autocompletion list**\n",
    "2. of all functions inside the library \n",
    "\n",
    "![](src/suggestion.gif)"
   ]
  },
  {
   "cell_type": "markdown",
   "id": "a35fac2d-86f4-4e0b-a253-2f8a2d66807a",
   "metadata": {},
   "source": [
    "## 3. The Function"
   ]
  },
  {
   "cell_type": "markdown",
   "id": "654b2f18-2d93-46af-ae13-e0b9c66cba8c",
   "metadata": {},
   "source": [
    "1. Apply [**intuition**](<../01_Code of Discipline/01_Deduction Method.md>) to let Python\n",
    "2. give you the name of the `function()`\n",
    "3. that loads the `Excel` file\n",
    "- [ ] **Which word** do you think the function contains?\n",
    "\n",
    "![](src/excel-suggestion.gif)"
   ]
  },
  {
   "cell_type": "markdown",
   "id": "997aff8f-0a47-475e-84e8-d342424f52db",
   "metadata": {
    "tags": []
   },
   "source": [
    "## 4. Giving Objects to the Parameters"
   ]
  },
  {
   "cell_type": "markdown",
   "id": "cca2a6d6-2e69-4cc5-bf6c-af8aeea27123",
   "metadata": {},
   "source": [
    "- Pass the `objects` to the `parameters`"
   ]
  },
  {
   "cell_type": "markdown",
   "id": "41740e77-578d-46e4-a542-ec2fc4078403",
   "metadata": {},
   "source": [
    "### A. `(io='internet_usage_spain.xlsx')`\n",
    "\n",
    "- we pass the `string` object `'internet_usage_spain.xlsx'` to the parameter `io`\n",
    "    - because it's the name of the `Excel` file we want to load"
   ]
  },
  {
   "cell_type": "code",
   "execution_count": 11,
   "id": "1b0cb29c-0734-4caf-8074-3cde7777281a",
   "metadata": {},
   "outputs": [
    {
     "data": {
      "text/html": [
       "<div>\n",
       "<style scoped>\n",
       "    .dataframe tbody tr th:only-of-type {\n",
       "        vertical-align: middle;\n",
       "    }\n",
       "\n",
       "    .dataframe tbody tr th {\n",
       "        vertical-align: top;\n",
       "    }\n",
       "\n",
       "    .dataframe thead th {\n",
       "        text-align: right;\n",
       "    }\n",
       "</style>\n",
       "<table border=\"1\" class=\"dataframe\">\n",
       "  <thead>\n",
       "    <tr style=\"text-align: right;\">\n",
       "      <th></th>\n",
       "      <th>nombre</th>\n",
       "      <th>peso</th>\n",
       "    </tr>\n",
       "  </thead>\n",
       "  <tbody>\n",
       "    <tr>\n",
       "      <th>0</th>\n",
       "      <td>pepe</td>\n",
       "      <td>34</td>\n",
       "    </tr>\n",
       "    <tr>\n",
       "      <th>1</th>\n",
       "      <td>juana</td>\n",
       "      <td>78</td>\n",
       "    </tr>\n",
       "    <tr>\n",
       "      <th>2</th>\n",
       "      <td>maria</td>\n",
       "      <td>36</td>\n",
       "    </tr>\n",
       "  </tbody>\n",
       "</table>\n",
       "</div>"
      ],
      "text/plain": [
       "  nombre  peso\n",
       "0   pepe    34\n",
       "1  juana    78\n",
       "2  maria    36"
      ]
     },
     "execution_count": 11,
     "metadata": {},
     "output_type": "execute_result"
    }
   ],
   "source": [
    "pandas.read_excel(io='internet_usage_spain.xlsx')"
   ]
  },
  {
   "cell_type": "markdown",
   "id": "c50fa3e5-73de-41b6-8093-6ffe1b4ba28b",
   "metadata": {},
   "source": [
    "1. [ ] How can we change the configuration of the `function()`\n",
    "2. to load the second table?\n",
    "    1. You should **ask yourself**: is there any `(parameter=?)`\n",
    "    2. to choose the table sheet?\n",
    "    3. Ask Python with `shift` + `↹` inside the parenthesis"
   ]
  },
  {
   "cell_type": "markdown",
   "id": "d20c540c-e494-4265-9f4e-2c2fad14dfc9",
   "metadata": {},
   "source": [
    "![](src/change-parameter.gif)"
   ]
  },
  {
   "cell_type": "markdown",
   "id": "1df51100-fbce-445a-8101-766dd07fc60e",
   "metadata": {},
   "source": [
    "### B. `(sheet_name=1)`\n",
    "- we pass the `integer` object `1` to the parameter `sheet_name`\n",
    "    - beacuse it's the position of the `Sheet` we want to load"
   ]
  },
  {
   "cell_type": "code",
   "execution_count": 12,
   "id": "5150701c-a8dd-449b-99b4-0f3d00f1f467",
   "metadata": {},
   "outputs": [
    {
     "data": {
      "text/html": [
       "<div>\n",
       "<style scoped>\n",
       "    .dataframe tbody tr th:only-of-type {\n",
       "        vertical-align: middle;\n",
       "    }\n",
       "\n",
       "    .dataframe tbody tr th {\n",
       "        vertical-align: top;\n",
       "    }\n",
       "\n",
       "    .dataframe thead th {\n",
       "        text-align: right;\n",
       "    }\n",
       "</style>\n",
       "<table border=\"1\" class=\"dataframe\">\n",
       "  <thead>\n",
       "    <tr style=\"text-align: right;\">\n",
       "      <th></th>\n",
       "      <th>name</th>\n",
       "      <th>internet_usage</th>\n",
       "      <th>sex</th>\n",
       "      <th>age</th>\n",
       "      <th>education</th>\n",
       "      <th>weight</th>\n",
       "    </tr>\n",
       "  </thead>\n",
       "  <tbody>\n",
       "    <tr>\n",
       "      <th>0</th>\n",
       "      <td>Josefina</td>\n",
       "      <td>0</td>\n",
       "      <td>Female</td>\n",
       "      <td>66</td>\n",
       "      <td>Elementary</td>\n",
       "      <td>81</td>\n",
       "    </tr>\n",
       "    <tr>\n",
       "      <th>1</th>\n",
       "      <td>Vicki</td>\n",
       "      <td>1</td>\n",
       "      <td>Male</td>\n",
       "      <td>72</td>\n",
       "      <td>Elementary</td>\n",
       "      <td>78</td>\n",
       "    </tr>\n",
       "    <tr>\n",
       "      <th>2</th>\n",
       "      <td>David</td>\n",
       "      <td>1</td>\n",
       "      <td>Male</td>\n",
       "      <td>48</td>\n",
       "      <td>University</td>\n",
       "      <td>69</td>\n",
       "    </tr>\n",
       "    <tr>\n",
       "      <th>3</th>\n",
       "      <td>Curtis</td>\n",
       "      <td>0</td>\n",
       "      <td>Male</td>\n",
       "      <td>59</td>\n",
       "      <td>PhD</td>\n",
       "      <td>107</td>\n",
       "    </tr>\n",
       "    <tr>\n",
       "      <th>4</th>\n",
       "      <td>Josephine</td>\n",
       "      <td>1</td>\n",
       "      <td>Female</td>\n",
       "      <td>44</td>\n",
       "      <td>PhD</td>\n",
       "      <td>80</td>\n",
       "    </tr>\n",
       "    <tr>\n",
       "      <th>...</th>\n",
       "      <td>...</td>\n",
       "      <td>...</td>\n",
       "      <td>...</td>\n",
       "      <td>...</td>\n",
       "      <td>...</td>\n",
       "      <td>...</td>\n",
       "    </tr>\n",
       "    <tr>\n",
       "      <th>2450</th>\n",
       "      <td>Frances</td>\n",
       "      <td>1</td>\n",
       "      <td>Male</td>\n",
       "      <td>43</td>\n",
       "      <td>Elementary</td>\n",
       "      <td>94</td>\n",
       "    </tr>\n",
       "    <tr>\n",
       "      <th>2451</th>\n",
       "      <td>Harry</td>\n",
       "      <td>1</td>\n",
       "      <td>Female</td>\n",
       "      <td>18</td>\n",
       "      <td>High School</td>\n",
       "      <td>70</td>\n",
       "    </tr>\n",
       "    <tr>\n",
       "      <th>2452</th>\n",
       "      <td>Adam</td>\n",
       "      <td>0</td>\n",
       "      <td>Female</td>\n",
       "      <td>54</td>\n",
       "      <td>Elementary</td>\n",
       "      <td>60</td>\n",
       "    </tr>\n",
       "    <tr>\n",
       "      <th>2453</th>\n",
       "      <td>Christine</td>\n",
       "      <td>1</td>\n",
       "      <td>Male</td>\n",
       "      <td>31</td>\n",
       "      <td>High School</td>\n",
       "      <td>89</td>\n",
       "    </tr>\n",
       "    <tr>\n",
       "      <th>2454</th>\n",
       "      <td>Kimberly</td>\n",
       "      <td>0</td>\n",
       "      <td>Male</td>\n",
       "      <td>52</td>\n",
       "      <td>Elementary</td>\n",
       "      <td>88</td>\n",
       "    </tr>\n",
       "  </tbody>\n",
       "</table>\n",
       "<p>2455 rows × 6 columns</p>\n",
       "</div>"
      ],
      "text/plain": [
       "           name  internet_usage     sex  age    education  weight\n",
       "0      Josefina               0  Female   66   Elementary      81\n",
       "1         Vicki               1    Male   72   Elementary      78\n",
       "2         David               1    Male   48   University      69\n",
       "3        Curtis               0    Male   59          PhD     107\n",
       "4     Josephine               1  Female   44          PhD      80\n",
       "...         ...             ...     ...  ...          ...     ...\n",
       "2450    Frances               1    Male   43   Elementary      94\n",
       "2451      Harry               1  Female   18  High School      70\n",
       "2452       Adam               0  Female   54   Elementary      60\n",
       "2453  Christine               1    Male   31  High School      89\n",
       "2454   Kimberly               0    Male   52   Elementary      88\n",
       "\n",
       "[2455 rows x 6 columns]"
      ]
     },
     "execution_count": 12,
     "metadata": {},
     "output_type": "execute_result"
    }
   ],
   "source": [
    "pandas.read_excel(io='internet_usage_spain.xlsx', sheet_name=1)"
   ]
  },
  {
   "cell_type": "markdown",
   "id": "0a8287d2-38fe-4c4a-847f-8a450cd062a1",
   "metadata": {},
   "source": [
    "## 5. The Function Returns an Object"
   ]
  },
  {
   "cell_type": "code",
   "execution_count": 3,
   "id": "6f1f6045-6e45-477f-9bcd-4912f681e520",
   "metadata": {},
   "outputs": [],
   "source": [
    "import pandas"
   ]
  },
  {
   "cell_type": "code",
   "execution_count": 5,
   "id": "282c9147-7a49-451e-a6cb-ea045c828f6b",
   "metadata": {},
   "outputs": [
    {
     "data": {
      "text/html": [
       "<div>\n",
       "<style scoped>\n",
       "    .dataframe tbody tr th:only-of-type {\n",
       "        vertical-align: middle;\n",
       "    }\n",
       "\n",
       "    .dataframe tbody tr th {\n",
       "        vertical-align: top;\n",
       "    }\n",
       "\n",
       "    .dataframe thead th {\n",
       "        text-align: right;\n",
       "    }\n",
       "</style>\n",
       "<table border=\"1\" class=\"dataframe\">\n",
       "  <thead>\n",
       "    <tr style=\"text-align: right;\">\n",
       "      <th></th>\n",
       "      <th>name</th>\n",
       "      <th>internet_usage</th>\n",
       "      <th>sex</th>\n",
       "      <th>age</th>\n",
       "      <th>education</th>\n",
       "      <th>weight</th>\n",
       "    </tr>\n",
       "  </thead>\n",
       "  <tbody>\n",
       "    <tr>\n",
       "      <th>0</th>\n",
       "      <td>Josefina</td>\n",
       "      <td>0</td>\n",
       "      <td>Female</td>\n",
       "      <td>66</td>\n",
       "      <td>Elementary</td>\n",
       "      <td>81</td>\n",
       "    </tr>\n",
       "    <tr>\n",
       "      <th>1</th>\n",
       "      <td>Vicki</td>\n",
       "      <td>1</td>\n",
       "      <td>Male</td>\n",
       "      <td>72</td>\n",
       "      <td>Elementary</td>\n",
       "      <td>78</td>\n",
       "    </tr>\n",
       "    <tr>\n",
       "      <th>2</th>\n",
       "      <td>David</td>\n",
       "      <td>1</td>\n",
       "      <td>Male</td>\n",
       "      <td>48</td>\n",
       "      <td>University</td>\n",
       "      <td>69</td>\n",
       "    </tr>\n",
       "    <tr>\n",
       "      <th>3</th>\n",
       "      <td>Curtis</td>\n",
       "      <td>0</td>\n",
       "      <td>Male</td>\n",
       "      <td>59</td>\n",
       "      <td>PhD</td>\n",
       "      <td>107</td>\n",
       "    </tr>\n",
       "    <tr>\n",
       "      <th>4</th>\n",
       "      <td>Josephine</td>\n",
       "      <td>1</td>\n",
       "      <td>Female</td>\n",
       "      <td>44</td>\n",
       "      <td>PhD</td>\n",
       "      <td>80</td>\n",
       "    </tr>\n",
       "    <tr>\n",
       "      <th>...</th>\n",
       "      <td>...</td>\n",
       "      <td>...</td>\n",
       "      <td>...</td>\n",
       "      <td>...</td>\n",
       "      <td>...</td>\n",
       "      <td>...</td>\n",
       "    </tr>\n",
       "    <tr>\n",
       "      <th>2450</th>\n",
       "      <td>Frances</td>\n",
       "      <td>1</td>\n",
       "      <td>Male</td>\n",
       "      <td>43</td>\n",
       "      <td>Elementary</td>\n",
       "      <td>94</td>\n",
       "    </tr>\n",
       "    <tr>\n",
       "      <th>2451</th>\n",
       "      <td>Harry</td>\n",
       "      <td>1</td>\n",
       "      <td>Female</td>\n",
       "      <td>18</td>\n",
       "      <td>High School</td>\n",
       "      <td>70</td>\n",
       "    </tr>\n",
       "    <tr>\n",
       "      <th>2452</th>\n",
       "      <td>Adam</td>\n",
       "      <td>0</td>\n",
       "      <td>Female</td>\n",
       "      <td>54</td>\n",
       "      <td>Elementary</td>\n",
       "      <td>60</td>\n",
       "    </tr>\n",
       "    <tr>\n",
       "      <th>2453</th>\n",
       "      <td>Christine</td>\n",
       "      <td>1</td>\n",
       "      <td>Male</td>\n",
       "      <td>31</td>\n",
       "      <td>High School</td>\n",
       "      <td>89</td>\n",
       "    </tr>\n",
       "    <tr>\n",
       "      <th>2454</th>\n",
       "      <td>Pepe</td>\n",
       "      <td>0</td>\n",
       "      <td>Male</td>\n",
       "      <td>52</td>\n",
       "      <td>Elementary</td>\n",
       "      <td>88</td>\n",
       "    </tr>\n",
       "  </tbody>\n",
       "</table>\n",
       "<p>2455 rows × 6 columns</p>\n",
       "</div>"
      ],
      "text/plain": [
       "           name  internet_usage     sex  age    education  weight\n",
       "0      Josefina               0  Female   66   Elementary      81\n",
       "1         Vicki               1    Male   72   Elementary      78\n",
       "2         David               1    Male   48   University      69\n",
       "3        Curtis               0    Male   59          PhD     107\n",
       "4     Josephine               1  Female   44          PhD      80\n",
       "...         ...             ...     ...  ...          ...     ...\n",
       "2450    Frances               1    Male   43   Elementary      94\n",
       "2451      Harry               1  Female   18  High School      70\n",
       "2452       Adam               0  Female   54   Elementary      60\n",
       "2453  Christine               1    Male   31  High School      89\n",
       "2454       Pepe               0    Male   52   Elementary      88\n",
       "\n",
       "[2455 rows x 6 columns]"
      ]
     },
     "execution_count": 5,
     "metadata": {},
     "output_type": "execute_result"
    }
   ],
   "source": [
    "pandas.read_excel(io='data/internet_usage_spain.xlsx', sheet_name=1)"
   ]
  },
  {
   "cell_type": "code",
   "execution_count": 8,
   "id": "4430b52f-bdf0-449a-8fbe-8e2e2a1fac9f",
   "metadata": {},
   "outputs": [
    {
     "data": {
      "text/plain": [
       "pandas.core.frame.DataFrame"
      ]
     },
     "execution_count": 8,
     "metadata": {},
     "output_type": "execute_result"
    }
   ],
   "source": [
    "type(pandas.read_excel(io='data/internet_usage_spain.xlsx', sheet_name=1))"
   ]
  },
  {
   "cell_type": "markdown",
   "id": "73d8f872-c69e-4514-ba9e-5e0a14aefe45",
   "metadata": {
    "tags": []
   },
   "source": [
    "## 6. The Execution: Inside the Black Box\n",
    "\n",
    "- [ ] What's tha **magic** that happens inside the computer?"
   ]
  },
  {
   "cell_type": "markdown",
   "id": "722fc15f-83f3-4d6f-a7ce-c5216a2c2496",
   "metadata": {},
   "source": [
    "![](src/read-error.png)"
   ]
  },
  {
   "cell_type": "markdown",
   "id": "cd6427dc-98c9-4ecf-9e12-fbbfaab7093c",
   "metadata": {},
   "source": [
    "![](src/source-code.gif)"
   ]
  },
  {
   "cell_type": "markdown",
   "id": "a23a7051-12b0-4d69-9efd-73703a7deade",
   "metadata": {},
   "source": [
    "# Reflections"
   ]
  },
  {
   "cell_type": "markdown",
   "id": "6e883ebe-2dfb-4ac2-bc26-c0c727b5bad2",
   "metadata": {},
   "source": [
    "Do you believe that Python knows about an **Excel file**?\n",
    "\n",
    "- It doesn't"
   ]
  },
  {
   "cell_type": "markdown",
   "id": "26a90112-d740-4b44-b68e-a41642e79072",
   "metadata": {},
   "source": [
    "Python knows a `string`: `\"data/internet_usage_spain.xlsx\"` that will be use to go through the folder system"
   ]
  },
  {
   "cell_type": "code",
   "execution_count": 6,
   "id": "2e1b053d-2ca5-4ce4-800b-90f9d96c9e92",
   "metadata": {},
   "outputs": [
    {
     "data": {
      "text/plain": [
       "'data/internet_usage_spain.xlsx'"
      ]
     },
     "execution_count": 6,
     "metadata": {},
     "output_type": "execute_result"
    }
   ],
   "source": [
    "'data/internet_usage_spain.xlsx'"
   ]
  },
  {
   "cell_type": "markdown",
   "id": "7018c2c4-7b9f-4e04-888d-eb3c3fb9ddbc",
   "metadata": {},
   "source": [
    "Do you believe that Python knows about the **sheet name** within the Excel file?\n",
    "\n",
    "- It doesn't"
   ]
  },
  {
   "cell_type": "markdown",
   "id": "c882b547-b14f-4a9e-89f9-d4631b0c28bb",
   "metadata": {},
   "source": [
    "Python knows an `integer`: `1` that will be used to access the second table within the Excel file"
   ]
  },
  {
   "cell_type": "code",
   "execution_count": 7,
   "id": "f571acc7-d0ef-4070-8313-3adeb2c27707",
   "metadata": {},
   "outputs": [
    {
     "data": {
      "text/plain": [
       "1"
      ]
     },
     "execution_count": 7,
     "metadata": {},
     "output_type": "execute_result"
    }
   ],
   "source": [
    "1"
   ]
  },
  {
   "cell_type": "code",
   "execution_count": 5,
   "id": "710ac422-77ff-49a9-8095-063c5fe69d65",
   "metadata": {},
   "outputs": [
    {
     "data": {
      "text/html": [
       "<div>\n",
       "<style scoped>\n",
       "    .dataframe tbody tr th:only-of-type {\n",
       "        vertical-align: middle;\n",
       "    }\n",
       "\n",
       "    .dataframe tbody tr th {\n",
       "        vertical-align: top;\n",
       "    }\n",
       "\n",
       "    .dataframe thead th {\n",
       "        text-align: right;\n",
       "    }\n",
       "</style>\n",
       "<table border=\"1\" class=\"dataframe\">\n",
       "  <thead>\n",
       "    <tr style=\"text-align: right;\">\n",
       "      <th></th>\n",
       "      <th>name</th>\n",
       "      <th>internet_usage</th>\n",
       "      <th>sex</th>\n",
       "      <th>age</th>\n",
       "      <th>education</th>\n",
       "      <th>weight</th>\n",
       "    </tr>\n",
       "  </thead>\n",
       "  <tbody>\n",
       "    <tr>\n",
       "      <th>0</th>\n",
       "      <td>Josefina</td>\n",
       "      <td>0</td>\n",
       "      <td>Female</td>\n",
       "      <td>66</td>\n",
       "      <td>Elementary</td>\n",
       "      <td>81</td>\n",
       "    </tr>\n",
       "    <tr>\n",
       "      <th>1</th>\n",
       "      <td>Vicki</td>\n",
       "      <td>1</td>\n",
       "      <td>Male</td>\n",
       "      <td>72</td>\n",
       "      <td>Elementary</td>\n",
       "      <td>78</td>\n",
       "    </tr>\n",
       "    <tr>\n",
       "      <th>2</th>\n",
       "      <td>David</td>\n",
       "      <td>1</td>\n",
       "      <td>Male</td>\n",
       "      <td>48</td>\n",
       "      <td>University</td>\n",
       "      <td>69</td>\n",
       "    </tr>\n",
       "    <tr>\n",
       "      <th>3</th>\n",
       "      <td>Curtis</td>\n",
       "      <td>0</td>\n",
       "      <td>Male</td>\n",
       "      <td>59</td>\n",
       "      <td>PhD</td>\n",
       "      <td>107</td>\n",
       "    </tr>\n",
       "    <tr>\n",
       "      <th>4</th>\n",
       "      <td>Josephine</td>\n",
       "      <td>1</td>\n",
       "      <td>Female</td>\n",
       "      <td>44</td>\n",
       "      <td>PhD</td>\n",
       "      <td>80</td>\n",
       "    </tr>\n",
       "    <tr>\n",
       "      <th>...</th>\n",
       "      <td>...</td>\n",
       "      <td>...</td>\n",
       "      <td>...</td>\n",
       "      <td>...</td>\n",
       "      <td>...</td>\n",
       "      <td>...</td>\n",
       "    </tr>\n",
       "    <tr>\n",
       "      <th>2450</th>\n",
       "      <td>Frances</td>\n",
       "      <td>1</td>\n",
       "      <td>Male</td>\n",
       "      <td>43</td>\n",
       "      <td>Elementary</td>\n",
       "      <td>94</td>\n",
       "    </tr>\n",
       "    <tr>\n",
       "      <th>2451</th>\n",
       "      <td>Harry</td>\n",
       "      <td>1</td>\n",
       "      <td>Female</td>\n",
       "      <td>18</td>\n",
       "      <td>High School</td>\n",
       "      <td>70</td>\n",
       "    </tr>\n",
       "    <tr>\n",
       "      <th>2452</th>\n",
       "      <td>Adam</td>\n",
       "      <td>0</td>\n",
       "      <td>Female</td>\n",
       "      <td>54</td>\n",
       "      <td>Elementary</td>\n",
       "      <td>60</td>\n",
       "    </tr>\n",
       "    <tr>\n",
       "      <th>2453</th>\n",
       "      <td>Christine</td>\n",
       "      <td>1</td>\n",
       "      <td>Male</td>\n",
       "      <td>31</td>\n",
       "      <td>High School</td>\n",
       "      <td>89</td>\n",
       "    </tr>\n",
       "    <tr>\n",
       "      <th>2454</th>\n",
       "      <td>Pepe</td>\n",
       "      <td>0</td>\n",
       "      <td>Male</td>\n",
       "      <td>52</td>\n",
       "      <td>Elementary</td>\n",
       "      <td>88</td>\n",
       "    </tr>\n",
       "  </tbody>\n",
       "</table>\n",
       "<p>2455 rows × 6 columns</p>\n",
       "</div>"
      ],
      "text/plain": [
       "           name  internet_usage     sex  age    education  weight\n",
       "0      Josefina               0  Female   66   Elementary      81\n",
       "1         Vicki               1    Male   72   Elementary      78\n",
       "2         David               1    Male   48   University      69\n",
       "3        Curtis               0    Male   59          PhD     107\n",
       "4     Josephine               1  Female   44          PhD      80\n",
       "...         ...             ...     ...  ...          ...     ...\n",
       "2450    Frances               1    Male   43   Elementary      94\n",
       "2451      Harry               1  Female   18  High School      70\n",
       "2452       Adam               0  Female   54   Elementary      60\n",
       "2453  Christine               1    Male   31  High School      89\n",
       "2454       Pepe               0    Male   52   Elementary      88\n",
       "\n",
       "[2455 rows x 6 columns]"
      ]
     },
     "execution_count": 5,
     "metadata": {},
     "output_type": "execute_result"
    }
   ],
   "source": [
    "pandas.read_excel(io='data/internet_usage_spain.xlsx', sheet_name=1)"
   ]
  },
  {
   "cell_type": "markdown",
   "id": "23dd54a5-1421-4c40-a583-59720736a3b5",
   "metadata": {},
   "source": [
    "# Other Examples"
   ]
  },
  {
   "cell_type": "markdown",
   "id": "ffd36a01-3f8e-4937-abf5-805ae78d196e",
   "metadata": {},
   "source": [
    "- [ ] request from api\n",
    "- [ ] read json\n",
    "- [ ] read html\n",
    "- [ ] do some other expectacular thing..."
   ]
  },
  {
   "cell_type": "markdown",
   "id": "9b51ae6f-d6dd-4788-aad9-8f38f734e515",
   "metadata": {},
   "source": [
    "<a rel=\"license\" href=\"http://creativecommons.org/licenses/by-nc-nd/4.0/\"><img alt=\"Creative Commons License\" style=\"border-width:0\" src=\"https://i.creativecommons.org/l/by-nc-nd/4.0/88x31.png\" /></a><br />This work is licensed under a <a rel=\"license\" href=\"http://creativecommons.org/licenses/by-nc-nd/4.0/\">Creative Commons Attribution-NonCommercial-NoDerivatives 4.0 International License</a>."
   ]
  }
 ],
 "metadata": {
  "kernelspec": {
   "display_name": "Python 3 (ipykernel)",
   "language": "python",
   "name": "python3"
  },
  "language_info": {
   "codemirror_mode": {
    "name": "ipython",
    "version": 3
   },
   "file_extension": ".py",
   "mimetype": "text/x-python",
   "name": "python",
   "nbconvert_exporter": "python",
   "pygments_lexer": "ipython3",
   "version": "3.9.7"
  },
  "toc-autonumbering": false
 },
 "nbformat": 4,
 "nbformat_minor": 5
}
