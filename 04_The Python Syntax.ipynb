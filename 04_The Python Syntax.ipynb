{
 "cells": [
  {
   "cell_type": "markdown",
   "id": "3e29bbd3-6fef-4882-b060-c4ef62be42d1",
   "metadata": {},
   "source": [
    "<center>\n",
    "<div>\n",
    "    <img src=\"./src/logo.svg\" alt=\"\">\n",
    "</div>\n",
    "    <b>© Jesús López 2022</b>\n",
    "    <br>Follow him on <a href=\"https://twitter.com/jsulopzs\">Twitter</a> or <a href=\"https://linkedin.com/in/jsulopzs\"><b>LinkedIn</b></a>\n",
    "</center>"
   ]
  },
  {
   "cell_type": "markdown",
   "id": "5fb32b76-4c55-4666-bf77-e9fc06604d5b",
   "metadata": {},
   "source": [
    "# Indexing `object[index]`"
   ]
  },
  {
   "cell_type": "code",
   "execution_count": 1,
   "id": "254bb47c-6061-47b2-bf2b-139ec33711a5",
   "metadata": {},
   "outputs": [],
   "source": [
    "import pandas as pd"
   ]
  },
  {
   "cell_type": "code",
   "execution_count": 2,
   "id": "06a9fa49-8136-4221-95c1-20ffe3ff2007",
   "metadata": {},
   "outputs": [],
   "source": [
    "list_maths_grades = [6,5.3,7]"
   ]
  },
  {
   "cell_type": "code",
   "execution_count": 3,
   "id": "7d1dd7b3-5887-49e8-9f6c-f64caaf7889c",
   "metadata": {},
   "outputs": [],
   "source": [
    "dict_maths_grades = {'first': 6, 'second':5.3, 'third': 7}"
   ]
  },
  {
   "cell_type": "code",
   "execution_count": 4,
   "id": "b2add9c1-22d0-4c67-9387-ebf3228ea9a7",
   "metadata": {},
   "outputs": [],
   "source": [
    "series_maths_grades = pd.Series([6,5.3,7], name='maths_grades')"
   ]
  },
  {
   "cell_type": "markdown",
   "id": "e3d25ff4-1ac9-4d14-9785-4d2016a1c43f",
   "metadata": {},
   "source": [
    "## list"
   ]
  },
  {
   "cell_type": "code",
   "execution_count": 5,
   "id": "21de03a6-4901-4184-8d2a-4c33cb052017",
   "metadata": {},
   "outputs": [
    {
     "data": {
      "text/plain": [
       "[6, 5.3, 7]"
      ]
     },
     "execution_count": 5,
     "metadata": {},
     "output_type": "execute_result"
    }
   ],
   "source": [
    "list_maths_grades"
   ]
  },
  {
   "cell_type": "code",
   "execution_count": 6,
   "id": "6ba9d92c-22ff-46bb-989d-c5ede3174ef2",
   "metadata": {},
   "outputs": [
    {
     "data": {
      "text/plain": [
       "5.3"
      ]
     },
     "execution_count": 6,
     "metadata": {},
     "output_type": "execute_result"
    }
   ],
   "source": [
    "list_maths_grades[1]"
   ]
  },
  {
   "cell_type": "markdown",
   "id": "6f7ab7fc-7706-42db-ad93-749ce4c0172a",
   "metadata": {},
   "source": [
    "## dict"
   ]
  },
  {
   "cell_type": "code",
   "execution_count": 7,
   "id": "ee33357d-3929-48ce-8e51-1ebdebf64ac0",
   "metadata": {},
   "outputs": [
    {
     "data": {
      "text/plain": [
       "{'first': 6, 'second': 5.3, 'third': 7}"
      ]
     },
     "execution_count": 7,
     "metadata": {},
     "output_type": "execute_result"
    }
   ],
   "source": [
    "dict_maths_grades"
   ]
  },
  {
   "cell_type": "code",
   "execution_count": 9,
   "id": "6390a6a6-8a6e-41c0-950a-72bfc6d9ef11",
   "metadata": {},
   "outputs": [
    {
     "data": {
      "text/plain": [
       "5.3"
      ]
     },
     "execution_count": 9,
     "metadata": {},
     "output_type": "execute_result"
    }
   ],
   "source": [
    "dict_maths_grades['second']"
   ]
  },
  {
   "cell_type": "markdown",
   "id": "f67c631d-6f28-43e8-b691-da2f5439952d",
   "metadata": {},
   "source": [
    "## series"
   ]
  },
  {
   "cell_type": "code",
   "execution_count": 10,
   "id": "9736084b-e30f-4abb-80ec-a1b4cc577682",
   "metadata": {},
   "outputs": [
    {
     "data": {
      "text/plain": [
       "0    6.0\n",
       "1    5.3\n",
       "2    7.0\n",
       "Name: maths_grades, dtype: float64"
      ]
     },
     "execution_count": 10,
     "metadata": {},
     "output_type": "execute_result"
    }
   ],
   "source": [
    "series_maths_grades"
   ]
  },
  {
   "cell_type": "code",
   "execution_count": 11,
   "id": "df9b2a9d-a7e5-4175-9e36-653e3f38cafe",
   "metadata": {},
   "outputs": [
    {
     "data": {
      "text/plain": [
       "5.3"
      ]
     },
     "execution_count": 11,
     "metadata": {},
     "output_type": "execute_result"
    }
   ],
   "source": [
    "series_maths_grades[1]"
   ]
  },
  {
   "cell_type": "markdown",
   "id": "dc8fea6c-05aa-49b5-8370-62a4e52483c5",
   "metadata": {},
   "source": [
    "# Execute `functions()`\n",
    "\n",
    "- `instance.function()`\n",
    "- `module.function()`"
   ]
  },
  {
   "cell_type": "markdown",
   "id": "e31033e1-6d04-4842-806d-c9fdcc035519",
   "metadata": {},
   "source": [
    "## Within `objects`"
   ]
  },
  {
   "cell_type": "markdown",
   "id": "43edced4-fcb9-4c12-bc6d-d773924d75ee",
   "metadata": {},
   "source": [
    "### list"
   ]
  },
  {
   "cell_type": "code",
   "execution_count": 20,
   "id": "8315b49e-02cc-4fd8-a817-d6cae64f3b69",
   "metadata": {},
   "outputs": [
    {
     "data": {
      "text/plain": [
       "[6, 5.3, 7, 9]"
      ]
     },
     "execution_count": 20,
     "metadata": {},
     "output_type": "execute_result"
    }
   ],
   "source": [
    "list_maths_grades"
   ]
  },
  {
   "cell_type": "code",
   "execution_count": 21,
   "id": "5e0ac272-6fb8-447c-aa6b-82409e224f44",
   "metadata": {},
   "outputs": [],
   "source": [
    "list_maths_grades.append(9)"
   ]
  },
  {
   "cell_type": "code",
   "execution_count": 22,
   "id": "ed65d099-9ce7-49c4-b3c7-01af34d2ec38",
   "metadata": {},
   "outputs": [
    {
     "data": {
      "text/plain": [
       "[6, 5.3, 7, 9, 9]"
      ]
     },
     "execution_count": 22,
     "metadata": {},
     "output_type": "execute_result"
    }
   ],
   "source": [
    "list_maths_grades"
   ]
  },
  {
   "cell_type": "markdown",
   "id": "15f1b8d8-6984-4ac9-a55e-103aefcc7654",
   "metadata": {},
   "source": [
    "### dict"
   ]
  },
  {
   "cell_type": "code",
   "execution_count": 15,
   "id": "bbcbf9ca-2274-4b7b-88ea-f7952ab836d3",
   "metadata": {},
   "outputs": [
    {
     "data": {
      "text/plain": [
       "{'first': 6, 'second': 5.3, 'third': 7}"
      ]
     },
     "execution_count": 15,
     "metadata": {},
     "output_type": "execute_result"
    }
   ],
   "source": [
    "dict_maths_grades"
   ]
  },
  {
   "cell_type": "code",
   "execution_count": 16,
   "id": "a9b852ab-8c3c-4ce7-95f2-79db42985700",
   "metadata": {},
   "outputs": [],
   "source": [
    "dict_maths_grades.update({'fourth': 3})"
   ]
  },
  {
   "cell_type": "code",
   "execution_count": 17,
   "id": "abcfc3db-379f-48fa-b0e4-f8e173aee734",
   "metadata": {},
   "outputs": [
    {
     "data": {
      "text/plain": [
       "{'first': 6, 'second': 5.3, 'third': 7, 'fourth': 3}"
      ]
     },
     "execution_count": 17,
     "metadata": {},
     "output_type": "execute_result"
    }
   ],
   "source": [
    "dict_maths_grades"
   ]
  },
  {
   "cell_type": "markdown",
   "id": "ea613a81-0401-46bb-8696-7347a1531223",
   "metadata": {},
   "source": [
    "### series"
   ]
  },
  {
   "cell_type": "code",
   "execution_count": 23,
   "id": "9a479c4c-7e26-4061-ac9f-2a5612f3cec7",
   "metadata": {},
   "outputs": [
    {
     "data": {
      "text/plain": [
       "0    6.0\n",
       "1    5.3\n",
       "2    7.0\n",
       "Name: maths_grades, dtype: float64"
      ]
     },
     "execution_count": 23,
     "metadata": {},
     "output_type": "execute_result"
    }
   ],
   "source": [
    "series_maths_grades"
   ]
  },
  {
   "cell_type": "code",
   "execution_count": 24,
   "id": "4694c7c4-31f6-4970-a0cb-da29f03715b3",
   "metadata": {},
   "outputs": [
    {
     "data": {
      "text/plain": [
       "0    6.0\n",
       "1    5.3\n",
       "2    7.0\n",
       "0    3.0\n",
       "dtype: float64"
      ]
     },
     "execution_count": 24,
     "metadata": {},
     "output_type": "execute_result"
    }
   ],
   "source": [
    "series_maths_grades.append(pd.Series(3))"
   ]
  },
  {
   "cell_type": "markdown",
   "id": "ca1491a3-7349-4fd9-b8ee-92a145feb7bb",
   "metadata": {},
   "source": [
    "## Within `modules`"
   ]
  },
  {
   "cell_type": "code",
   "execution_count": 26,
   "id": "74270dc4-0e26-4409-9915-d1149442bb6c",
   "metadata": {},
   "outputs": [],
   "source": [
    "import pandas as pd"
   ]
  },
  {
   "cell_type": "code",
   "execution_count": 30,
   "id": "5ad11db5-d0e7-4015-84fb-c42376fa9e2f",
   "metadata": {},
   "outputs": [
    {
     "data": {
      "text/html": [
       "<div>\n",
       "<style scoped>\n",
       "    .dataframe tbody tr th:only-of-type {\n",
       "        vertical-align: middle;\n",
       "    }\n",
       "\n",
       "    .dataframe tbody tr th {\n",
       "        vertical-align: top;\n",
       "    }\n",
       "\n",
       "    .dataframe thead th {\n",
       "        text-align: right;\n",
       "    }\n",
       "</style>\n",
       "<table border=\"1\" class=\"dataframe\">\n",
       "  <thead>\n",
       "    <tr style=\"text-align: right;\">\n",
       "      <th></th>\n",
       "      <th>CR7</th>\n",
       "      <th>Messi</th>\n",
       "      <th>Lewandowski</th>\n",
       "      <th>Benzema</th>\n",
       "    </tr>\n",
       "  </thead>\n",
       "  <tbody>\n",
       "    <tr>\n",
       "      <th>partidos</th>\n",
       "      <td>923</td>\n",
       "      <td>800</td>\n",
       "      <td>662</td>\n",
       "      <td>737</td>\n",
       "    </tr>\n",
       "    <tr>\n",
       "      <th>goles</th>\n",
       "      <td>689</td>\n",
       "      <td>679</td>\n",
       "      <td>498</td>\n",
       "      <td>370</td>\n",
       "    </tr>\n",
       "    <tr>\n",
       "      <th>asistencias</th>\n",
       "      <td>231</td>\n",
       "      <td>312</td>\n",
       "      <td>131</td>\n",
       "      <td>182</td>\n",
       "    </tr>\n",
       "    <tr>\n",
       "      <th>tarjetas amarillas</th>\n",
       "      <td>112</td>\n",
       "      <td>82</td>\n",
       "      <td>68</td>\n",
       "      <td>15</td>\n",
       "    </tr>\n",
       "    <tr>\n",
       "      <th>tarjetas rojas</th>\n",
       "      <td>7</td>\n",
       "      <td>1</td>\n",
       "      <td>0</td>\n",
       "      <td>0</td>\n",
       "    </tr>\n",
       "    <tr>\n",
       "      <th>segundas amarillas</th>\n",
       "      <td>4</td>\n",
       "      <td>0</td>\n",
       "      <td>1</td>\n",
       "      <td>0</td>\n",
       "    </tr>\n",
       "    <tr>\n",
       "      <th>minutos jugados</th>\n",
       "      <td>75372</td>\n",
       "      <td>65299</td>\n",
       "      <td>65299</td>\n",
       "      <td>52245</td>\n",
       "    </tr>\n",
       "    <tr>\n",
       "      <th>birthday</th>\n",
       "      <td>1985-02-05</td>\n",
       "      <td>1987-06-24</td>\n",
       "      <td>1988-08-21</td>\n",
       "      <td>1987-12-19</td>\n",
       "    </tr>\n",
       "  </tbody>\n",
       "</table>\n",
       "</div>"
      ],
      "text/plain": [
       "                           CR7       Messi Lewandowski     Benzema\n",
       "partidos                   923         800         662         737\n",
       "goles                      689         679         498         370\n",
       "asistencias                231         312         131         182\n",
       "tarjetas amarillas         112          82          68          15\n",
       "tarjetas rojas               7           1           0           0\n",
       "segundas amarillas           4           0           1           0\n",
       "minutos jugados          75372       65299       65299       52245\n",
       "birthday            1985-02-05  1987-06-24  1988-08-21  1987-12-19"
      ]
     },
     "execution_count": 30,
     "metadata": {},
     "output_type": "execute_result"
    }
   ],
   "source": [
    "pd.read_json(path_or_buf='https://raw.githubusercontent.com/jsulopz/data/main/football_players_stats.json')"
   ]
  },
  {
   "cell_type": "code",
   "execution_count": 31,
   "id": "001b7078-cdab-4408-b154-d2d3270d9afc",
   "metadata": {},
   "outputs": [
    {
     "data": {
      "text/html": [
       "<div>\n",
       "<style scoped>\n",
       "    .dataframe tbody tr th:only-of-type {\n",
       "        vertical-align: middle;\n",
       "    }\n",
       "\n",
       "    .dataframe tbody tr th {\n",
       "        vertical-align: top;\n",
       "    }\n",
       "\n",
       "    .dataframe thead th {\n",
       "        text-align: right;\n",
       "    }\n",
       "</style>\n",
       "<table border=\"1\" class=\"dataframe\">\n",
       "  <thead>\n",
       "    <tr style=\"text-align: right;\">\n",
       "      <th></th>\n",
       "      <th>name</th>\n",
       "      <th>internet_usage</th>\n",
       "      <th>sex</th>\n",
       "      <th>age</th>\n",
       "      <th>education</th>\n",
       "      <th>weight</th>\n",
       "    </tr>\n",
       "  </thead>\n",
       "  <tbody>\n",
       "    <tr>\n",
       "      <th>0</th>\n",
       "      <td>Josefina</td>\n",
       "      <td>0</td>\n",
       "      <td>Female</td>\n",
       "      <td>66</td>\n",
       "      <td>Elementary</td>\n",
       "      <td>81</td>\n",
       "    </tr>\n",
       "    <tr>\n",
       "      <th>1</th>\n",
       "      <td>Vicki</td>\n",
       "      <td>1</td>\n",
       "      <td>Male</td>\n",
       "      <td>72</td>\n",
       "      <td>Elementary</td>\n",
       "      <td>78</td>\n",
       "    </tr>\n",
       "    <tr>\n",
       "      <th>2</th>\n",
       "      <td>David</td>\n",
       "      <td>1</td>\n",
       "      <td>Male</td>\n",
       "      <td>48</td>\n",
       "      <td>University</td>\n",
       "      <td>69</td>\n",
       "    </tr>\n",
       "    <tr>\n",
       "      <th>3</th>\n",
       "      <td>Curtis</td>\n",
       "      <td>0</td>\n",
       "      <td>Male</td>\n",
       "      <td>59</td>\n",
       "      <td>PhD</td>\n",
       "      <td>107</td>\n",
       "    </tr>\n",
       "    <tr>\n",
       "      <th>4</th>\n",
       "      <td>Josephine</td>\n",
       "      <td>1</td>\n",
       "      <td>Female</td>\n",
       "      <td>44</td>\n",
       "      <td>PhD</td>\n",
       "      <td>80</td>\n",
       "    </tr>\n",
       "    <tr>\n",
       "      <th>...</th>\n",
       "      <td>...</td>\n",
       "      <td>...</td>\n",
       "      <td>...</td>\n",
       "      <td>...</td>\n",
       "      <td>...</td>\n",
       "      <td>...</td>\n",
       "    </tr>\n",
       "    <tr>\n",
       "      <th>2450</th>\n",
       "      <td>Frances</td>\n",
       "      <td>1</td>\n",
       "      <td>Male</td>\n",
       "      <td>43</td>\n",
       "      <td>Elementary</td>\n",
       "      <td>94</td>\n",
       "    </tr>\n",
       "    <tr>\n",
       "      <th>2451</th>\n",
       "      <td>Harry</td>\n",
       "      <td>1</td>\n",
       "      <td>Female</td>\n",
       "      <td>18</td>\n",
       "      <td>High School</td>\n",
       "      <td>70</td>\n",
       "    </tr>\n",
       "    <tr>\n",
       "      <th>2452</th>\n",
       "      <td>Adam</td>\n",
       "      <td>0</td>\n",
       "      <td>Female</td>\n",
       "      <td>54</td>\n",
       "      <td>Elementary</td>\n",
       "      <td>60</td>\n",
       "    </tr>\n",
       "    <tr>\n",
       "      <th>2453</th>\n",
       "      <td>Christine</td>\n",
       "      <td>1</td>\n",
       "      <td>Male</td>\n",
       "      <td>31</td>\n",
       "      <td>High School</td>\n",
       "      <td>89</td>\n",
       "    </tr>\n",
       "    <tr>\n",
       "      <th>2454</th>\n",
       "      <td>Pepe</td>\n",
       "      <td>0</td>\n",
       "      <td>Male</td>\n",
       "      <td>52</td>\n",
       "      <td>Elementary</td>\n",
       "      <td>88</td>\n",
       "    </tr>\n",
       "  </tbody>\n",
       "</table>\n",
       "<p>2455 rows × 6 columns</p>\n",
       "</div>"
      ],
      "text/plain": [
       "           name  internet_usage     sex  age    education  weight\n",
       "0      Josefina               0  Female   66   Elementary      81\n",
       "1         Vicki               1    Male   72   Elementary      78\n",
       "2         David               1    Male   48   University      69\n",
       "3        Curtis               0    Male   59          PhD     107\n",
       "4     Josephine               1  Female   44          PhD      80\n",
       "...         ...             ...     ...  ...          ...     ...\n",
       "2450    Frances               1    Male   43   Elementary      94\n",
       "2451      Harry               1  Female   18  High School      70\n",
       "2452       Adam               0  Female   54   Elementary      60\n",
       "2453  Christine               1    Male   31  High School      89\n",
       "2454       Pepe               0    Male   52   Elementary      88\n",
       "\n",
       "[2455 rows x 6 columns]"
      ]
     },
     "execution_count": 31,
     "metadata": {},
     "output_type": "execute_result"
    }
   ],
   "source": [
    "pd.read_csv('https://raw.githubusercontent.com/jsulopz/data/main/internet_usage_spain.csv')"
   ]
  },
  {
   "cell_type": "code",
   "execution_count": 32,
   "id": "76f63782-eda4-4e61-ad3c-5e6816a2510a",
   "metadata": {},
   "outputs": [],
   "source": [
    "import numpy as np"
   ]
  },
  {
   "cell_type": "code",
   "execution_count": 33,
   "id": "fe9bc855-a7ce-4053-82d1-397b4e1c8993",
   "metadata": {},
   "outputs": [
    {
     "data": {
      "text/plain": [
       "112.0"
      ]
     },
     "execution_count": 33,
     "metadata": {},
     "output_type": "execute_result"
    }
   ],
   "source": [
    "np.mean([34,34,35,345])"
   ]
  },
  {
   "cell_type": "code",
   "execution_count": 34,
   "id": "183b0d68-5124-4c51-bee8-830de1f62ab4",
   "metadata": {},
   "outputs": [
    {
     "data": {
      "text/plain": [
       "448"
      ]
     },
     "execution_count": 34,
     "metadata": {},
     "output_type": "execute_result"
    }
   ],
   "source": [
    "np.sum([34,34,35,345])"
   ]
  },
  {
   "cell_type": "markdown",
   "id": "b37ba4e1-19f6-4684-a6e9-b2347f99f1d2",
   "metadata": {},
   "source": [
    "<a rel=\"license\" href=\"http://creativecommons.org/licenses/by-nc-nd/4.0/\"><img alt=\"Creative Commons License\" style=\"border-width:0\" src=\"https://i.creativecommons.org/l/by-nc-nd/4.0/88x31.png\" /></a><br />This work is licensed under a <a rel=\"license\" href=\"http://creativecommons.org/licenses/by-nc-nd/4.0/\">Creative Commons Attribution-NonCommercial-NoDerivatives 4.0 International License</a>."
   ]
  }
 ],
 "metadata": {
  "kernelspec": {
   "display_name": "Python 3 (ipykernel)",
   "language": "python",
   "name": "python3"
  },
  "language_info": {
   "codemirror_mode": {
    "name": "ipython",
    "version": 3
   },
   "file_extension": ".py",
   "mimetype": "text/x-python",
   "name": "python",
   "nbconvert_exporter": "python",
   "pygments_lexer": "ipython3",
   "version": "3.9.7"
  }
 },
 "nbformat": 4,
 "nbformat_minor": 5
}
