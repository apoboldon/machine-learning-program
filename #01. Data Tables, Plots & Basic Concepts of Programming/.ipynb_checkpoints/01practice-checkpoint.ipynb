{
 "cells": [
  {
   "cell_type": "markdown",
   "id": "079a12ac",
   "metadata": {},
   "source": [
    "<font size=\"+5\">#01. Data Tables, Plots & Basic Concepts of Programming</font>"
   ]
  },
  {
   "cell_type": "markdown",
   "id": "08b2ef02",
   "metadata": {},
   "source": [
    "<ul>\n",
    "    <li>Doubts? → Ask me in <img src=\"https://discord.com/assets/f9bb9c4af2b9c32a2c5ee0014661546d.png\" style=\"height: 1em; vertical-align: middle;\"> <a href=\"https://discord.gg/cmB3KGsqMy\">Discord</a></li>\n",
    "    <li>Tutorials → <img src=\"https://openmoji.org/php/download_asset.php?type=emoji&emoji_hexcode=E044&emoji_variant=color\" style=\"height: 1em; vertical-align: middle;\"> <a href=\"https://www.youtube.com/channel/UCovCte2I3loteQE_kRsfQcw\">YouTube</a></li>\n",
    "    <li>Book Private Lessons → <span style=\"color: orange\">@</span> <a href=\"https://sotastica.com/reservar\">sotastica</a></li>\n",
    "</ul>"
   ]
  },
  {
   "cell_type": "markdown",
   "id": "db95e957",
   "metadata": {},
   "source": [
    "# Load the Data"
   ]
  },
  {
   "cell_type": "markdown",
   "id": "97b89f85",
   "metadata": {},
   "source": [
    "> By executing the following lines:\n",
    "\n",
    "```python\n",
    "import seaborn as sns\n",
    "sns.get_dataset_names()\n",
    "```\n",
    "\n",
    "> We will se a list of possible datasets that we can load to python by just typing the name in the function. For example:\n",
    "\n",
    "```python\n",
    "sns.load_dataset(name='mpg')\n",
    "```"
   ]
  },
  {
   "cell_type": "code",
   "execution_count": null,
   "id": "d335c8bc",
   "metadata": {},
   "outputs": [],
   "source": []
  },
  {
   "cell_type": "markdown",
   "id": "7d27bef4",
   "metadata": {},
   "source": [
    "# Scatterplot with 2 Variables"
   ]
  },
  {
   "cell_type": "markdown",
   "id": "ca3f5378",
   "metadata": {},
   "source": [
    "> - Variable in X Axis\n",
    "> - Variable in Y Axis"
   ]
  },
  {
   "cell_type": "code",
   "execution_count": null,
   "id": "c744f83a",
   "metadata": {},
   "outputs": [],
   "source": []
  },
  {
   "cell_type": "markdown",
   "id": "98b2b45f",
   "metadata": {},
   "source": [
    "# Scatterplot with 3 variables"
   ]
  },
  {
   "cell_type": "markdown",
   "id": "cfa02aba",
   "metadata": {},
   "source": [
    "> - Variable in X Axis\n",
    "> - Variable in Y Axis\n",
    "> - Color each point regarding a different value in a column"
   ]
  },
  {
   "cell_type": "code",
   "execution_count": null,
   "id": "84e5805f",
   "metadata": {},
   "outputs": [],
   "source": []
  },
  {
   "cell_type": "markdown",
   "id": "7a35f055",
   "metadata": {},
   "source": [
    "# Other Data Visualization Figures"
   ]
  },
  {
   "cell_type": "markdown",
   "id": "62f2dff6",
   "metadata": {},
   "source": [
    "> We'll head over the 3 main libraries used in Python to visualize data: `matplotlib`, `seaborn` and `plotly`.\n",
    ">\n",
    "> We'll reproduce at least one example from the links provided below. Therefore, we need to:\n",
    ">\n",
    "> 1. Click in the link\n",
    "> 2. Pick up an example\n",
    "> 3. Copy-paste the lines of code\n",
    "> 4. Run the code"
   ]
  },
  {
   "cell_type": "markdown",
   "id": "347f514a",
   "metadata": {},
   "source": [
    "## Seaborn Example Gallery"
   ]
  },
  {
   "cell_type": "markdown",
   "id": "55dff772",
   "metadata": {},
   "source": [
    "> - https://seaborn.pydata.org/examples/index.html"
   ]
  },
  {
   "cell_type": "code",
   "execution_count": null,
   "id": "fab38033",
   "metadata": {},
   "outputs": [],
   "source": []
  },
  {
   "cell_type": "markdown",
   "id": "bb94578c",
   "metadata": {},
   "source": [
    "## Matplotlib Example Gallery"
   ]
  },
  {
   "cell_type": "markdown",
   "id": "bfad985c",
   "metadata": {},
   "source": [
    "> - https://towardsdatascience.com/matplotlib-tutorial-with-code-for-pythons-powerful-data-visualization-tool-8ec458423c5e"
   ]
  },
  {
   "cell_type": "code",
   "execution_count": null,
   "id": "d956628b",
   "metadata": {},
   "outputs": [],
   "source": []
  },
  {
   "cell_type": "markdown",
   "id": "5461ddc2",
   "metadata": {},
   "source": [
    "## Plotly Example Gallery"
   ]
  },
  {
   "cell_type": "markdown",
   "id": "5edc612a",
   "metadata": {},
   "source": [
    "> - https://plotly.com/python/"
   ]
  },
  {
   "cell_type": "code",
   "execution_count": null,
   "id": "9b44a422",
   "metadata": {},
   "outputs": [],
   "source": []
  },
  {
   "cell_type": "markdown",
   "id": "c1727b17",
   "metadata": {},
   "source": [
    "# Load again the DataFrame from Exercise 1"
   ]
  },
  {
   "cell_type": "markdown",
   "id": "be549209",
   "metadata": {},
   "source": [
    "```python\n",
    "df = sns.load_dataset(name='mpg')\n",
    "df.head()\n",
    "```"
   ]
  },
  {
   "cell_type": "code",
   "execution_count": null,
   "id": "fed32fd2",
   "metadata": {},
   "outputs": [],
   "source": []
  },
  {
   "cell_type": "markdown",
   "id": "be688624",
   "metadata": {},
   "source": [
    "# Repeat the same Visualization Figures "
   ]
  },
  {
   "cell_type": "markdown",
   "id": "aa70b8c1",
   "metadata": {},
   "source": [
    "> It's very easy to copy-paste. Nevertheless, we must **copy-paste with criteria**: identify what to copy and what to modify to solve our problem. Therefore:\n",
    ">\n",
    "> - We'll try to emulate each one of the previous exercise figures with the `DataFrame` that we used in Exercise 1."
   ]
  },
  {
   "cell_type": "markdown",
   "id": "dee2b4cb",
   "metadata": {},
   "source": [
    "## Seaborn"
   ]
  },
  {
   "cell_type": "code",
   "execution_count": null,
   "id": "77bc2557",
   "metadata": {},
   "outputs": [],
   "source": []
  },
  {
   "cell_type": "markdown",
   "id": "748cd877",
   "metadata": {},
   "source": [
    "## Matplotlib"
   ]
  },
  {
   "cell_type": "code",
   "execution_count": null,
   "id": "b396dfb8",
   "metadata": {},
   "outputs": [],
   "source": []
  },
  {
   "cell_type": "markdown",
   "id": "f2f0fc0a",
   "metadata": {},
   "source": [
    "## Plotly"
   ]
  },
  {
   "cell_type": "code",
   "execution_count": null,
   "id": "0bdfc6dc",
   "metadata": {},
   "outputs": [],
   "source": []
  },
  {
   "cell_type": "markdown",
   "id": "6df3eb2f",
   "metadata": {},
   "source": [
    "# Achieved Goals"
   ]
  },
  {
   "cell_type": "markdown",
   "id": "4cc5e37c",
   "metadata": {},
   "source": [
    "_Double click on **this cell** and place an `X` inside the square brackets (i.e., [X]) if you think you understand the goal:_\n",
    "\n",
    "- [ ] Identify the **Elements of Programming** thanks to the syntax.\n",
    "- [ ] Use `functions` that belongs to external `libraries`.\n",
    "- [ ] Get _the machine to work for you, not against you_.\n",
    "  - [ ] `shift + tab` to ask help to Python.\n",
    "  - [ ] `tab` to ask Python for suggestions.\n",
    "- [ ] Understand that a `dog` doesn't make `miau()`. But, rather `guau()`... the same way a `DataFrame` cannot `fly()` (i.e., `DataFrame.fly()`?).\n",
    "- [ ] All roads lead to Rome; We can achieve the **the same result with different lines of code**.\n",
    "  - We reproduced a scatterplot using 3 different lines of code.\n",
    "- [ ] Different **`libraries`** may have `functions()` that do the **same thing**.\n",
    "  - `matplotlib`, `seaborn` & `plotly` makes outstanding Visualization Figures\n",
    "  - But you probably wouldn't use `plotly` on a paper. Unless we are on Harry Potter 😜\n",
    "- [ ] Understand that **coding is a matter of necessity**. Not a serie of mechanical steps to achieve a goal.\n",
    "  - You need to create art (code) by solving one problem at a time.\n",
    "- [ ] Understand that **there  isn't a unique solution**.\n",
    "  - We can achieve the same result with different approaches.\n",
    "  - For example, changing the colors of the points."
   ]
  }
 ],
 "metadata": {
  "authors": [
   {
    "name": "Jesús López @sotastica"
   }
  ],
  "interpreter": {
   "hash": "414fd6d7c0f0aefb3d4e2db41edbeb0df03134e10d94a689550561b640a17652"
  },
  "kernelspec": {
   "display_name": "Python 3 (ipykernel)",
   "language": "python",
   "name": "python3"
  },
  "language_info": {
   "codemirror_mode": {
    "name": "ipython",
    "version": 3
   },
   "file_extension": ".py",
   "mimetype": "text/x-python",
   "name": "python",
   "nbconvert_exporter": "python",
   "pygments_lexer": "ipython3",
   "version": "3.8.11"
  }
 },
 "nbformat": 4,
 "nbformat_minor": 5
}
