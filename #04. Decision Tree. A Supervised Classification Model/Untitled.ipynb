{
 "cells": [
  {
   "cell_type": "code",
   "execution_count": null,
   "id": "ef043cc8-ac3a-4047-a1a2-4c2b84611114",
   "metadata": {},
   "outputs": [],
   "source": [
    "dfsel = df[['internet_usage']].copy()"
   ]
  },
  {
   "cell_type": "code",
   "execution_count": null,
   "id": "19a468ba-a02c-4d29-953c-cba894580baf",
   "metadata": {},
   "outputs": [],
   "source": [
    "dfsel['pred'] = y_pred"
   ]
  },
  {
   "cell_type": "code",
   "execution_count": null,
   "id": "498f928e-a9b1-498a-abd8-f81301054f60",
   "metadata": {},
   "outputs": [],
   "source": [
    "dfsel"
   ]
  }
 ],
 "metadata": {
  "kernelspec": {
   "display_name": "Python 3 (ipykernel)",
   "language": "python",
   "name": "python3"
  },
  "language_info": {
   "codemirror_mode": {
    "name": "ipython",
    "version": 3
   },
   "file_extension": ".py",
   "mimetype": "text/x-python",
   "name": "python",
   "nbconvert_exporter": "python",
   "pygments_lexer": "ipython3",
   "version": "3.9.7"
  }
 },
 "nbformat": 4,
 "nbformat_minor": 5
}
