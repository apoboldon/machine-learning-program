{
 "cells": [
  {
   "cell_type": "markdown",
   "metadata": {},
   "source": [
    "<font size=\"+5\">#09. Componentes Principales (PCA)</font>"
   ]
  },
  {
   "cell_type": "markdown",
   "metadata": {},
   "source": [
    "# Cargar Datos"
   ]
  },
  {
   "cell_type": "markdown",
   "metadata": {},
   "source": [
    "> - Simplemente, copiamos y pegamos las siguientes líneas de código para cargar los datos.\n",
    "> - La tabla contiene **estadísticas sobre Accidentes de Coche** (columnas).\n",
    "> - En cada uno de los **Estados de USA** (filas).\n",
    "\n",
    "```python\n",
    "import seaborn as sns\n",
    "\n",
    "df = sns.load_dataset(name='car_crashes', index_col='abbrev')\n",
    "df.sample(10)\n",
    "```"
   ]
  },
  {
   "cell_type": "code",
   "execution_count": 1,
   "metadata": {},
   "outputs": [
    {
     "data": {
      "text/html": [
       "<div>\n",
       "<style scoped>\n",
       "    .dataframe tbody tr th:only-of-type {\n",
       "        vertical-align: middle;\n",
       "    }\n",
       "\n",
       "    .dataframe tbody tr th {\n",
       "        vertical-align: top;\n",
       "    }\n",
       "\n",
       "    .dataframe thead th {\n",
       "        text-align: right;\n",
       "    }\n",
       "</style>\n",
       "<table border=\"1\" class=\"dataframe\">\n",
       "  <thead>\n",
       "    <tr style=\"text-align: right;\">\n",
       "      <th></th>\n",
       "      <th>total</th>\n",
       "      <th>speeding</th>\n",
       "      <th>alcohol</th>\n",
       "      <th>not_distracted</th>\n",
       "      <th>no_previous</th>\n",
       "      <th>ins_premium</th>\n",
       "      <th>ins_losses</th>\n",
       "    </tr>\n",
       "    <tr>\n",
       "      <th>abbrev</th>\n",
       "      <th></th>\n",
       "      <th></th>\n",
       "      <th></th>\n",
       "      <th></th>\n",
       "      <th></th>\n",
       "      <th></th>\n",
       "      <th></th>\n",
       "    </tr>\n",
       "  </thead>\n",
       "  <tbody>\n",
       "    <tr>\n",
       "      <th>MT</th>\n",
       "      <td>21.4</td>\n",
       "      <td>8.346</td>\n",
       "      <td>9.416</td>\n",
       "      <td>17.976</td>\n",
       "      <td>18.190</td>\n",
       "      <td>816.21</td>\n",
       "      <td>85.15</td>\n",
       "    </tr>\n",
       "    <tr>\n",
       "      <th>WY</th>\n",
       "      <td>17.4</td>\n",
       "      <td>7.308</td>\n",
       "      <td>5.568</td>\n",
       "      <td>14.094</td>\n",
       "      <td>15.660</td>\n",
       "      <td>791.14</td>\n",
       "      <td>122.04</td>\n",
       "    </tr>\n",
       "    <tr>\n",
       "      <th>NV</th>\n",
       "      <td>14.7</td>\n",
       "      <td>5.439</td>\n",
       "      <td>4.704</td>\n",
       "      <td>13.965</td>\n",
       "      <td>14.553</td>\n",
       "      <td>1029.87</td>\n",
       "      <td>138.71</td>\n",
       "    </tr>\n",
       "    <tr>\n",
       "      <th>VT</th>\n",
       "      <td>13.6</td>\n",
       "      <td>4.080</td>\n",
       "      <td>4.080</td>\n",
       "      <td>13.056</td>\n",
       "      <td>12.920</td>\n",
       "      <td>716.20</td>\n",
       "      <td>109.61</td>\n",
       "    </tr>\n",
       "    <tr>\n",
       "      <th>HI</th>\n",
       "      <td>17.5</td>\n",
       "      <td>9.450</td>\n",
       "      <td>7.175</td>\n",
       "      <td>14.350</td>\n",
       "      <td>15.225</td>\n",
       "      <td>861.18</td>\n",
       "      <td>120.92</td>\n",
       "    </tr>\n",
       "    <tr>\n",
       "      <th>KS</th>\n",
       "      <td>17.8</td>\n",
       "      <td>4.806</td>\n",
       "      <td>4.272</td>\n",
       "      <td>13.706</td>\n",
       "      <td>15.130</td>\n",
       "      <td>780.45</td>\n",
       "      <td>133.80</td>\n",
       "    </tr>\n",
       "    <tr>\n",
       "      <th>MS</th>\n",
       "      <td>17.6</td>\n",
       "      <td>2.640</td>\n",
       "      <td>5.456</td>\n",
       "      <td>1.760</td>\n",
       "      <td>17.600</td>\n",
       "      <td>896.07</td>\n",
       "      <td>155.77</td>\n",
       "    </tr>\n",
       "    <tr>\n",
       "      <th>PA</th>\n",
       "      <td>18.2</td>\n",
       "      <td>9.100</td>\n",
       "      <td>5.642</td>\n",
       "      <td>17.472</td>\n",
       "      <td>16.016</td>\n",
       "      <td>905.99</td>\n",
       "      <td>153.86</td>\n",
       "    </tr>\n",
       "    <tr>\n",
       "      <th>FL</th>\n",
       "      <td>17.9</td>\n",
       "      <td>3.759</td>\n",
       "      <td>5.191</td>\n",
       "      <td>16.468</td>\n",
       "      <td>16.826</td>\n",
       "      <td>1160.13</td>\n",
       "      <td>144.18</td>\n",
       "    </tr>\n",
       "    <tr>\n",
       "      <th>LA</th>\n",
       "      <td>20.5</td>\n",
       "      <td>7.175</td>\n",
       "      <td>6.765</td>\n",
       "      <td>14.965</td>\n",
       "      <td>20.090</td>\n",
       "      <td>1281.55</td>\n",
       "      <td>194.78</td>\n",
       "    </tr>\n",
       "  </tbody>\n",
       "</table>\n",
       "</div>"
      ],
      "text/plain": [
       "        total  speeding  alcohol  not_distracted  no_previous  ins_premium  \\\n",
       "abbrev                                                                       \n",
       "MT       21.4     8.346    9.416          17.976       18.190       816.21   \n",
       "WY       17.4     7.308    5.568          14.094       15.660       791.14   \n",
       "NV       14.7     5.439    4.704          13.965       14.553      1029.87   \n",
       "VT       13.6     4.080    4.080          13.056       12.920       716.20   \n",
       "HI       17.5     9.450    7.175          14.350       15.225       861.18   \n",
       "KS       17.8     4.806    4.272          13.706       15.130       780.45   \n",
       "MS       17.6     2.640    5.456           1.760       17.600       896.07   \n",
       "PA       18.2     9.100    5.642          17.472       16.016       905.99   \n",
       "FL       17.9     3.759    5.191          16.468       16.826      1160.13   \n",
       "LA       20.5     7.175    6.765          14.965       20.090      1281.55   \n",
       "\n",
       "        ins_losses  \n",
       "abbrev              \n",
       "MT           85.15  \n",
       "WY          122.04  \n",
       "NV          138.71  \n",
       "VT          109.61  \n",
       "HI          120.92  \n",
       "KS          133.80  \n",
       "MS          155.77  \n",
       "PA          153.86  \n",
       "FL          144.18  \n",
       "LA          194.78  "
      ]
     },
     "execution_count": 1,
     "metadata": {},
     "output_type": "execute_result"
    }
   ],
   "source": [
    "import seaborn as sns\n",
    "\n",
    "df = sns.load_dataset(name='car_crashes', index_col='abbrev')\n",
    "df.sample(10)"
   ]
  },
  {
   "cell_type": "markdown",
   "metadata": {},
   "source": [
    "# Escalar Variables"
   ]
  },
  {
   "cell_type": "markdown",
   "metadata": {},
   "source": [
    "- Para que las variables sean **comparables**.\n",
    "- Usaremos el `StandardScaler()`."
   ]
  },
  {
   "cell_type": "code",
   "execution_count": 2,
   "metadata": {},
   "outputs": [],
   "source": [
    "from sklearn.preprocessing import StandardScaler"
   ]
  },
  {
   "cell_type": "code",
   "execution_count": 3,
   "metadata": {},
   "outputs": [],
   "source": [
    "scaler = StandardScaler()"
   ]
  },
  {
   "cell_type": "code",
   "execution_count": 5,
   "metadata": {},
   "outputs": [],
   "source": [
    "datos_normalizados = scaler.fit_transform(df)"
   ]
  },
  {
   "cell_type": "code",
   "execution_count": 6,
   "metadata": {},
   "outputs": [],
   "source": [
    "import pandas as pd"
   ]
  },
  {
   "cell_type": "code",
   "execution_count": 9,
   "metadata": {},
   "outputs": [],
   "source": [
    "dfnorm = pd.DataFrame(datos_normalizados, columns=df.columns, index=df.index)"
   ]
  },
  {
   "cell_type": "code",
   "execution_count": 10,
   "metadata": {},
   "outputs": [
    {
     "data": {
      "text/html": [
       "<div>\n",
       "<style scoped>\n",
       "    .dataframe tbody tr th:only-of-type {\n",
       "        vertical-align: middle;\n",
       "    }\n",
       "\n",
       "    .dataframe tbody tr th {\n",
       "        vertical-align: top;\n",
       "    }\n",
       "\n",
       "    .dataframe thead th {\n",
       "        text-align: right;\n",
       "    }\n",
       "</style>\n",
       "<table border=\"1\" class=\"dataframe\">\n",
       "  <thead>\n",
       "    <tr style=\"text-align: right;\">\n",
       "      <th></th>\n",
       "      <th>total</th>\n",
       "      <th>speeding</th>\n",
       "      <th>alcohol</th>\n",
       "      <th>not_distracted</th>\n",
       "      <th>no_previous</th>\n",
       "      <th>ins_premium</th>\n",
       "      <th>ins_losses</th>\n",
       "    </tr>\n",
       "    <tr>\n",
       "      <th>abbrev</th>\n",
       "      <th></th>\n",
       "      <th></th>\n",
       "      <th></th>\n",
       "      <th></th>\n",
       "      <th></th>\n",
       "      <th></th>\n",
       "      <th></th>\n",
       "    </tr>\n",
       "  </thead>\n",
       "  <tbody>\n",
       "    <tr>\n",
       "      <th>AL</th>\n",
       "      <td>0.737446</td>\n",
       "      <td>1.168148</td>\n",
       "      <td>0.439938</td>\n",
       "      <td>1.002301</td>\n",
       "      <td>0.277692</td>\n",
       "      <td>-0.580083</td>\n",
       "      <td>0.430514</td>\n",
       "    </tr>\n",
       "    <tr>\n",
       "      <th>AK</th>\n",
       "      <td>0.565936</td>\n",
       "      <td>1.212695</td>\n",
       "      <td>-0.211311</td>\n",
       "      <td>0.608532</td>\n",
       "      <td>0.807258</td>\n",
       "      <td>0.943258</td>\n",
       "      <td>-0.022900</td>\n",
       "    </tr>\n",
       "    <tr>\n",
       "      <th>AZ</th>\n",
       "      <td>0.688443</td>\n",
       "      <td>0.756709</td>\n",
       "      <td>0.187615</td>\n",
       "      <td>0.459357</td>\n",
       "      <td>1.033141</td>\n",
       "      <td>0.070876</td>\n",
       "      <td>-0.981778</td>\n",
       "    </tr>\n",
       "    <tr>\n",
       "      <th>AR</th>\n",
       "      <td>1.619498</td>\n",
       "      <td>-0.483614</td>\n",
       "      <td>0.547408</td>\n",
       "      <td>1.676052</td>\n",
       "      <td>1.951700</td>\n",
       "      <td>-0.337701</td>\n",
       "      <td>0.321125</td>\n",
       "    </tr>\n",
       "    <tr>\n",
       "      <th>CA</th>\n",
       "      <td>-0.928653</td>\n",
       "      <td>-0.399524</td>\n",
       "      <td>-0.891763</td>\n",
       "      <td>-0.594276</td>\n",
       "      <td>-0.891968</td>\n",
       "      <td>-0.048418</td>\n",
       "      <td>1.266178</td>\n",
       "    </tr>\n",
       "  </tbody>\n",
       "</table>\n",
       "</div>"
      ],
      "text/plain": [
       "           total  speeding   alcohol  not_distracted  no_previous  \\\n",
       "abbrev                                                              \n",
       "AL      0.737446  1.168148  0.439938        1.002301     0.277692   \n",
       "AK      0.565936  1.212695 -0.211311        0.608532     0.807258   \n",
       "AZ      0.688443  0.756709  0.187615        0.459357     1.033141   \n",
       "AR      1.619498 -0.483614  0.547408        1.676052     1.951700   \n",
       "CA     -0.928653 -0.399524 -0.891763       -0.594276    -0.891968   \n",
       "\n",
       "        ins_premium  ins_losses  \n",
       "abbrev                           \n",
       "AL        -0.580083    0.430514  \n",
       "AK         0.943258   -0.022900  \n",
       "AZ         0.070876   -0.981778  \n",
       "AR        -0.337701    0.321125  \n",
       "CA        -0.048418    1.266178  "
      ]
     },
     "execution_count": 10,
     "metadata": {},
     "output_type": "execute_result"
    }
   ],
   "source": [
    "dfnorm.head()"
   ]
  },
  {
   "cell_type": "markdown",
   "metadata": {},
   "source": [
    "# Modelo de k-Means en Python"
   ]
  },
  {
   "cell_type": "markdown",
   "metadata": {},
   "source": [
    "## Entrenar Modelo"
   ]
  },
  {
   "cell_type": "markdown",
   "metadata": {},
   "source": [
    "> - Seleccionamos **todas** las variables `model.fit(X=df)`.\n",
    "> - Y agruparemos **4 clusters**."
   ]
  },
  {
   "cell_type": "code",
   "execution_count": 11,
   "metadata": {},
   "outputs": [],
   "source": [
    "from sklearn.cluster import KMeans"
   ]
  },
  {
   "cell_type": "code",
   "execution_count": 12,
   "metadata": {},
   "outputs": [],
   "source": [
    "model = KMeans(n_clusters=3)"
   ]
  },
  {
   "cell_type": "code",
   "execution_count": 13,
   "metadata": {},
   "outputs": [
    {
     "data": {
      "text/plain": [
       "KMeans(n_clusters=3)"
      ]
     },
     "execution_count": 13,
     "metadata": {},
     "output_type": "execute_result"
    }
   ],
   "source": [
    "model.fit(X=dfnorm)"
   ]
  },
  {
   "cell_type": "markdown",
   "metadata": {},
   "source": [
    "## Predicciones con el Modelo"
   ]
  },
  {
   "cell_type": "markdown",
   "metadata": {},
   "source": [
    "> - `model.predict()`\n",
    "> - Guardamos el resultado como **columna nueva** `df`."
   ]
  },
  {
   "cell_type": "code",
   "execution_count": 14,
   "metadata": {},
   "outputs": [],
   "source": [
    "dfsel = dfnorm.copy()"
   ]
  },
  {
   "cell_type": "code",
   "execution_count": 16,
   "metadata": {},
   "outputs": [],
   "source": [
    "dfsel['cluster'] = model.predict(X=dfsel)"
   ]
  },
  {
   "cell_type": "code",
   "execution_count": 18,
   "metadata": {},
   "outputs": [
    {
     "data": {
      "text/html": [
       "<div>\n",
       "<style scoped>\n",
       "    .dataframe tbody tr th:only-of-type {\n",
       "        vertical-align: middle;\n",
       "    }\n",
       "\n",
       "    .dataframe tbody tr th {\n",
       "        vertical-align: top;\n",
       "    }\n",
       "\n",
       "    .dataframe thead th {\n",
       "        text-align: right;\n",
       "    }\n",
       "</style>\n",
       "<table border=\"1\" class=\"dataframe\">\n",
       "  <thead>\n",
       "    <tr style=\"text-align: right;\">\n",
       "      <th></th>\n",
       "      <th>total</th>\n",
       "      <th>speeding</th>\n",
       "      <th>alcohol</th>\n",
       "      <th>not_distracted</th>\n",
       "      <th>no_previous</th>\n",
       "      <th>ins_premium</th>\n",
       "      <th>ins_losses</th>\n",
       "      <th>cluster</th>\n",
       "    </tr>\n",
       "    <tr>\n",
       "      <th>abbrev</th>\n",
       "      <th></th>\n",
       "      <th></th>\n",
       "      <th></th>\n",
       "      <th></th>\n",
       "      <th></th>\n",
       "      <th></th>\n",
       "      <th></th>\n",
       "      <th></th>\n",
       "    </tr>\n",
       "  </thead>\n",
       "  <tbody>\n",
       "    <tr>\n",
       "      <th>AL</th>\n",
       "      <td>0.737446</td>\n",
       "      <td>1.168148</td>\n",
       "      <td>0.439938</td>\n",
       "      <td>1.002301</td>\n",
       "      <td>0.277692</td>\n",
       "      <td>-0.580083</td>\n",
       "      <td>0.430514</td>\n",
       "      <td>1</td>\n",
       "    </tr>\n",
       "    <tr>\n",
       "      <th>AK</th>\n",
       "      <td>0.565936</td>\n",
       "      <td>1.212695</td>\n",
       "      <td>-0.211311</td>\n",
       "      <td>0.608532</td>\n",
       "      <td>0.807258</td>\n",
       "      <td>0.943258</td>\n",
       "      <td>-0.022900</td>\n",
       "      <td>1</td>\n",
       "    </tr>\n",
       "    <tr>\n",
       "      <th>AZ</th>\n",
       "      <td>0.688443</td>\n",
       "      <td>0.756709</td>\n",
       "      <td>0.187615</td>\n",
       "      <td>0.459357</td>\n",
       "      <td>1.033141</td>\n",
       "      <td>0.070876</td>\n",
       "      <td>-0.981778</td>\n",
       "      <td>1</td>\n",
       "    </tr>\n",
       "    <tr>\n",
       "      <th>AR</th>\n",
       "      <td>1.619498</td>\n",
       "      <td>-0.483614</td>\n",
       "      <td>0.547408</td>\n",
       "      <td>1.676052</td>\n",
       "      <td>1.951700</td>\n",
       "      <td>-0.337701</td>\n",
       "      <td>0.321125</td>\n",
       "      <td>1</td>\n",
       "    </tr>\n",
       "    <tr>\n",
       "      <th>CA</th>\n",
       "      <td>-0.928653</td>\n",
       "      <td>-0.399524</td>\n",
       "      <td>-0.891763</td>\n",
       "      <td>-0.594276</td>\n",
       "      <td>-0.891968</td>\n",
       "      <td>-0.048418</td>\n",
       "      <td>1.266178</td>\n",
       "      <td>2</td>\n",
       "    </tr>\n",
       "  </tbody>\n",
       "</table>\n",
       "</div>"
      ],
      "text/plain": [
       "           total  speeding   alcohol  not_distracted  no_previous  \\\n",
       "abbrev                                                              \n",
       "AL      0.737446  1.168148  0.439938        1.002301     0.277692   \n",
       "AK      0.565936  1.212695 -0.211311        0.608532     0.807258   \n",
       "AZ      0.688443  0.756709  0.187615        0.459357     1.033141   \n",
       "AR      1.619498 -0.483614  0.547408        1.676052     1.951700   \n",
       "CA     -0.928653 -0.399524 -0.891763       -0.594276    -0.891968   \n",
       "\n",
       "        ins_premium  ins_losses  cluster  \n",
       "abbrev                                    \n",
       "AL        -0.580083    0.430514        1  \n",
       "AK         0.943258   -0.022900        1  \n",
       "AZ         0.070876   -0.981778        1  \n",
       "AR        -0.337701    0.321125        1  \n",
       "CA        -0.048418    1.266178        2  "
      ]
     },
     "execution_count": 18,
     "metadata": {},
     "output_type": "execute_result"
    }
   ],
   "source": [
    "dfsel.head()"
   ]
  },
  {
   "cell_type": "markdown",
   "metadata": {},
   "source": [
    "## Visualización del Modelo"
   ]
  },
  {
   "cell_type": "markdown",
   "metadata": {},
   "source": [
    "> - Las coordenadas de los puntos son los **datos reales**.\n",
    "> - El modelo se dibuja **coloreando** los puntos."
   ]
  },
  {
   "cell_type": "code",
   "execution_count": 19,
   "metadata": {},
   "outputs": [],
   "source": [
    "import plotly.express as px"
   ]
  },
  {
   "cell_type": "code",
   "execution_count": 21,
   "metadata": {},
   "outputs": [
    {
     "data": {
      "application/vnd.plotly.v1+json": {
       "config": {
        "plotlyServerURL": "https://plotly.com"
       },
       "data": [
        {
         "hovertemplate": "alcohol=%{x}<br>ins_losses=%{y}<br>cluster=%{marker.color}<extra></extra>",
         "legendgroup": "",
         "marker": {
          "color": [
           1,
           1,
           1,
           1,
           2,
           0,
           2,
           1,
           2,
           1,
           0,
           1,
           0,
           0,
           0,
           0,
           0,
           1,
           1,
           0,
           2,
           2,
           2,
           2,
           0,
           1,
           1,
           0,
           0,
           0,
           2,
           0,
           2,
           1,
           1,
           0,
           1,
           0,
           1,
           2,
           1,
           1,
           1,
           1,
           0,
           0,
           0,
           0,
           1,
           0,
           1
          ],
          "coloraxis": "coloraxis",
          "symbol": "circle"
         },
         "mode": "markers",
         "name": "",
         "orientation": "v",
         "showlegend": false,
         "type": "scatter",
         "x": [
          0.4399375842789329,
          -0.21131067755325134,
          0.1876153877663743,
          0.5474081494602083,
          -0.8917628973151306,
          -0.630095434265069,
          -0.583369101577558,
          -0.015644159424299014,
          -1.9238307705505298,
          0.17768604207027697,
          -0.5763601516744313,
          1.3364990927205505,
          -0.2627096435095135,
          -0.3123563719899939,
          -0.3982160083032955,
          -0.5617581727095842,
          -0.3590827046775049,
          0.02056874840852166,
          1.0970266376970563,
          -0.20839028176028196,
          -0.5179522358150425,
          -1.1779616850261354,
          -0.5483243520619246,
          -1.22819249266521,
          0.332467019097658,
          0.3429804439523484,
          2.645420487129453,
          0.1917039418765308,
          -0.10676050816494581,
          -0.821673398283864,
          -1.0225966288401613,
          0.04743638970384064,
          -0.7708585114861954,
          0.1876153877663743,
          3.0087177237748506,
          -0.054193383891496014,
          0.5164519540547318,
          -0.9104534303901347,
          0.44110574259612106,
          -0.390622979241575,
          2.869122804870911,
          0.885005903127475,
          0.44869877165784156,
          1.4515626869635458,
          -1.798253751452844,
          -0.47122590312753143,
          -0.8514614353721524,
          -0.8111599734291739,
          1.0380346426790739,
          -0.19437238195402864,
          0.39788388486017295
         ],
         "xaxis": "x",
         "y": [
          0.4305137955564193,
          -0.022899924450170098,
          -0.9817784462219529,
          0.3211251940481021,
          1.2661776472277555,
          0.22027622314080733,
          1.32270186882499,
          0.6907692043494381,
          0.06330967971251789,
          0.3939153786949006,
          0.3377978061739059,
          -0.5519503726372308,
          -2.1041298966418505,
          0.18937089334663662,
          -1.0399292641241429,
          -0.8142390268114462,
          -0.028186362441278128,
          0.10722777994633932,
          2.451559704464713,
          -1.5421408732794235,
          2.366976696606981,
          0.04623041851047532,
          0.7224878322960875,
          -0.04648557087203802,
          0.86522165805601,
          0.4048949037533554,
          -2.006534118344468,
          -0.8000063091430781,
          0.1714783339921166,
          -0.5808224570502067,
          1.0311344811615595,
          -0.5588634069332955,
          0.6309917901422915,
          -0.2713625100322567,
          -1.0073973380250156,
          -0.03957253657597279,
          1.804174375092077,
          -1.2151950159831924,
          0.7875516844943433,
          0.572840972240102,
          -0.7402288949359309,
          -1.5299414009922503,
          0.8570886765312274,
          0.908326460137354,
          -1.0171569158547535,
          -1.0118704778636456,
          0.7818585974269954,
          -0.9301340135395876,
          0.7346873045832607,
          -1.1334585516591342,
          -0.5064056760984522
         ],
         "yaxis": "y"
        }
       ],
       "layout": {
        "autosize": true,
        "coloraxis": {
         "colorbar": {
          "title": {
           "text": "cluster"
          }
         },
         "colorscale": [
          [
           0,
           "#0d0887"
          ],
          [
           0.1111111111111111,
           "#46039f"
          ],
          [
           0.2222222222222222,
           "#7201a8"
          ],
          [
           0.3333333333333333,
           "#9c179e"
          ],
          [
           0.4444444444444444,
           "#bd3786"
          ],
          [
           0.5555555555555556,
           "#d8576b"
          ],
          [
           0.6666666666666666,
           "#ed7953"
          ],
          [
           0.7777777777777778,
           "#fb9f3a"
          ],
          [
           0.8888888888888888,
           "#fdca26"
          ],
          [
           1,
           "#f0f921"
          ]
         ]
        },
        "legend": {
         "tracegroupgap": 0
        },
        "margin": {
         "t": 60
        },
        "template": {
         "data": {
          "bar": [
           {
            "error_x": {
             "color": "#2a3f5f"
            },
            "error_y": {
             "color": "#2a3f5f"
            },
            "marker": {
             "line": {
              "color": "#E5ECF6",
              "width": 0.5
             },
             "pattern": {
              "fillmode": "overlay",
              "size": 10,
              "solidity": 0.2
             }
            },
            "type": "bar"
           }
          ],
          "barpolar": [
           {
            "marker": {
             "line": {
              "color": "#E5ECF6",
              "width": 0.5
             },
             "pattern": {
              "fillmode": "overlay",
              "size": 10,
              "solidity": 0.2
             }
            },
            "type": "barpolar"
           }
          ],
          "carpet": [
           {
            "aaxis": {
             "endlinecolor": "#2a3f5f",
             "gridcolor": "white",
             "linecolor": "white",
             "minorgridcolor": "white",
             "startlinecolor": "#2a3f5f"
            },
            "baxis": {
             "endlinecolor": "#2a3f5f",
             "gridcolor": "white",
             "linecolor": "white",
             "minorgridcolor": "white",
             "startlinecolor": "#2a3f5f"
            },
            "type": "carpet"
           }
          ],
          "choropleth": [
           {
            "colorbar": {
             "outlinewidth": 0,
             "ticks": ""
            },
            "type": "choropleth"
           }
          ],
          "contour": [
           {
            "colorbar": {
             "outlinewidth": 0,
             "ticks": ""
            },
            "colorscale": [
             [
              0,
              "#0d0887"
             ],
             [
              0.1111111111111111,
              "#46039f"
             ],
             [
              0.2222222222222222,
              "#7201a8"
             ],
             [
              0.3333333333333333,
              "#9c179e"
             ],
             [
              0.4444444444444444,
              "#bd3786"
             ],
             [
              0.5555555555555556,
              "#d8576b"
             ],
             [
              0.6666666666666666,
              "#ed7953"
             ],
             [
              0.7777777777777778,
              "#fb9f3a"
             ],
             [
              0.8888888888888888,
              "#fdca26"
             ],
             [
              1,
              "#f0f921"
             ]
            ],
            "type": "contour"
           }
          ],
          "contourcarpet": [
           {
            "colorbar": {
             "outlinewidth": 0,
             "ticks": ""
            },
            "type": "contourcarpet"
           }
          ],
          "heatmap": [
           {
            "colorbar": {
             "outlinewidth": 0,
             "ticks": ""
            },
            "colorscale": [
             [
              0,
              "#0d0887"
             ],
             [
              0.1111111111111111,
              "#46039f"
             ],
             [
              0.2222222222222222,
              "#7201a8"
             ],
             [
              0.3333333333333333,
              "#9c179e"
             ],
             [
              0.4444444444444444,
              "#bd3786"
             ],
             [
              0.5555555555555556,
              "#d8576b"
             ],
             [
              0.6666666666666666,
              "#ed7953"
             ],
             [
              0.7777777777777778,
              "#fb9f3a"
             ],
             [
              0.8888888888888888,
              "#fdca26"
             ],
             [
              1,
              "#f0f921"
             ]
            ],
            "type": "heatmap"
           }
          ],
          "heatmapgl": [
           {
            "colorbar": {
             "outlinewidth": 0,
             "ticks": ""
            },
            "colorscale": [
             [
              0,
              "#0d0887"
             ],
             [
              0.1111111111111111,
              "#46039f"
             ],
             [
              0.2222222222222222,
              "#7201a8"
             ],
             [
              0.3333333333333333,
              "#9c179e"
             ],
             [
              0.4444444444444444,
              "#bd3786"
             ],
             [
              0.5555555555555556,
              "#d8576b"
             ],
             [
              0.6666666666666666,
              "#ed7953"
             ],
             [
              0.7777777777777778,
              "#fb9f3a"
             ],
             [
              0.8888888888888888,
              "#fdca26"
             ],
             [
              1,
              "#f0f921"
             ]
            ],
            "type": "heatmapgl"
           }
          ],
          "histogram": [
           {
            "marker": {
             "pattern": {
              "fillmode": "overlay",
              "size": 10,
              "solidity": 0.2
             }
            },
            "type": "histogram"
           }
          ],
          "histogram2d": [
           {
            "colorbar": {
             "outlinewidth": 0,
             "ticks": ""
            },
            "colorscale": [
             [
              0,
              "#0d0887"
             ],
             [
              0.1111111111111111,
              "#46039f"
             ],
             [
              0.2222222222222222,
              "#7201a8"
             ],
             [
              0.3333333333333333,
              "#9c179e"
             ],
             [
              0.4444444444444444,
              "#bd3786"
             ],
             [
              0.5555555555555556,
              "#d8576b"
             ],
             [
              0.6666666666666666,
              "#ed7953"
             ],
             [
              0.7777777777777778,
              "#fb9f3a"
             ],
             [
              0.8888888888888888,
              "#fdca26"
             ],
             [
              1,
              "#f0f921"
             ]
            ],
            "type": "histogram2d"
           }
          ],
          "histogram2dcontour": [
           {
            "colorbar": {
             "outlinewidth": 0,
             "ticks": ""
            },
            "colorscale": [
             [
              0,
              "#0d0887"
             ],
             [
              0.1111111111111111,
              "#46039f"
             ],
             [
              0.2222222222222222,
              "#7201a8"
             ],
             [
              0.3333333333333333,
              "#9c179e"
             ],
             [
              0.4444444444444444,
              "#bd3786"
             ],
             [
              0.5555555555555556,
              "#d8576b"
             ],
             [
              0.6666666666666666,
              "#ed7953"
             ],
             [
              0.7777777777777778,
              "#fb9f3a"
             ],
             [
              0.8888888888888888,
              "#fdca26"
             ],
             [
              1,
              "#f0f921"
             ]
            ],
            "type": "histogram2dcontour"
           }
          ],
          "mesh3d": [
           {
            "colorbar": {
             "outlinewidth": 0,
             "ticks": ""
            },
            "type": "mesh3d"
           }
          ],
          "parcoords": [
           {
            "line": {
             "colorbar": {
              "outlinewidth": 0,
              "ticks": ""
             }
            },
            "type": "parcoords"
           }
          ],
          "pie": [
           {
            "automargin": true,
            "type": "pie"
           }
          ],
          "scatter": [
           {
            "marker": {
             "colorbar": {
              "outlinewidth": 0,
              "ticks": ""
             }
            },
            "type": "scatter"
           }
          ],
          "scatter3d": [
           {
            "line": {
             "colorbar": {
              "outlinewidth": 0,
              "ticks": ""
             }
            },
            "marker": {
             "colorbar": {
              "outlinewidth": 0,
              "ticks": ""
             }
            },
            "type": "scatter3d"
           }
          ],
          "scattercarpet": [
           {
            "marker": {
             "colorbar": {
              "outlinewidth": 0,
              "ticks": ""
             }
            },
            "type": "scattercarpet"
           }
          ],
          "scattergeo": [
           {
            "marker": {
             "colorbar": {
              "outlinewidth": 0,
              "ticks": ""
             }
            },
            "type": "scattergeo"
           }
          ],
          "scattergl": [
           {
            "marker": {
             "colorbar": {
              "outlinewidth": 0,
              "ticks": ""
             }
            },
            "type": "scattergl"
           }
          ],
          "scattermapbox": [
           {
            "marker": {
             "colorbar": {
              "outlinewidth": 0,
              "ticks": ""
             }
            },
            "type": "scattermapbox"
           }
          ],
          "scatterpolar": [
           {
            "marker": {
             "colorbar": {
              "outlinewidth": 0,
              "ticks": ""
             }
            },
            "type": "scatterpolar"
           }
          ],
          "scatterpolargl": [
           {
            "marker": {
             "colorbar": {
              "outlinewidth": 0,
              "ticks": ""
             }
            },
            "type": "scatterpolargl"
           }
          ],
          "scatterternary": [
           {
            "marker": {
             "colorbar": {
              "outlinewidth": 0,
              "ticks": ""
             }
            },
            "type": "scatterternary"
           }
          ],
          "surface": [
           {
            "colorbar": {
             "outlinewidth": 0,
             "ticks": ""
            },
            "colorscale": [
             [
              0,
              "#0d0887"
             ],
             [
              0.1111111111111111,
              "#46039f"
             ],
             [
              0.2222222222222222,
              "#7201a8"
             ],
             [
              0.3333333333333333,
              "#9c179e"
             ],
             [
              0.4444444444444444,
              "#bd3786"
             ],
             [
              0.5555555555555556,
              "#d8576b"
             ],
             [
              0.6666666666666666,
              "#ed7953"
             ],
             [
              0.7777777777777778,
              "#fb9f3a"
             ],
             [
              0.8888888888888888,
              "#fdca26"
             ],
             [
              1,
              "#f0f921"
             ]
            ],
            "type": "surface"
           }
          ],
          "table": [
           {
            "cells": {
             "fill": {
              "color": "#EBF0F8"
             },
             "line": {
              "color": "white"
             }
            },
            "header": {
             "fill": {
              "color": "#C8D4E3"
             },
             "line": {
              "color": "white"
             }
            },
            "type": "table"
           }
          ]
         },
         "layout": {
          "annotationdefaults": {
           "arrowcolor": "#2a3f5f",
           "arrowhead": 0,
           "arrowwidth": 1
          },
          "autotypenumbers": "strict",
          "coloraxis": {
           "colorbar": {
            "outlinewidth": 0,
            "ticks": ""
           }
          },
          "colorscale": {
           "diverging": [
            [
             0,
             "#8e0152"
            ],
            [
             0.1,
             "#c51b7d"
            ],
            [
             0.2,
             "#de77ae"
            ],
            [
             0.3,
             "#f1b6da"
            ],
            [
             0.4,
             "#fde0ef"
            ],
            [
             0.5,
             "#f7f7f7"
            ],
            [
             0.6,
             "#e6f5d0"
            ],
            [
             0.7,
             "#b8e186"
            ],
            [
             0.8,
             "#7fbc41"
            ],
            [
             0.9,
             "#4d9221"
            ],
            [
             1,
             "#276419"
            ]
           ],
           "sequential": [
            [
             0,
             "#0d0887"
            ],
            [
             0.1111111111111111,
             "#46039f"
            ],
            [
             0.2222222222222222,
             "#7201a8"
            ],
            [
             0.3333333333333333,
             "#9c179e"
            ],
            [
             0.4444444444444444,
             "#bd3786"
            ],
            [
             0.5555555555555556,
             "#d8576b"
            ],
            [
             0.6666666666666666,
             "#ed7953"
            ],
            [
             0.7777777777777778,
             "#fb9f3a"
            ],
            [
             0.8888888888888888,
             "#fdca26"
            ],
            [
             1,
             "#f0f921"
            ]
           ],
           "sequentialminus": [
            [
             0,
             "#0d0887"
            ],
            [
             0.1111111111111111,
             "#46039f"
            ],
            [
             0.2222222222222222,
             "#7201a8"
            ],
            [
             0.3333333333333333,
             "#9c179e"
            ],
            [
             0.4444444444444444,
             "#bd3786"
            ],
            [
             0.5555555555555556,
             "#d8576b"
            ],
            [
             0.6666666666666666,
             "#ed7953"
            ],
            [
             0.7777777777777778,
             "#fb9f3a"
            ],
            [
             0.8888888888888888,
             "#fdca26"
            ],
            [
             1,
             "#f0f921"
            ]
           ]
          },
          "colorway": [
           "#636efa",
           "#EF553B",
           "#00cc96",
           "#ab63fa",
           "#FFA15A",
           "#19d3f3",
           "#FF6692",
           "#B6E880",
           "#FF97FF",
           "#FECB52"
          ],
          "font": {
           "color": "#2a3f5f"
          },
          "geo": {
           "bgcolor": "white",
           "lakecolor": "white",
           "landcolor": "#E5ECF6",
           "showlakes": true,
           "showland": true,
           "subunitcolor": "white"
          },
          "hoverlabel": {
           "align": "left"
          },
          "hovermode": "closest",
          "mapbox": {
           "style": "light"
          },
          "paper_bgcolor": "white",
          "plot_bgcolor": "#E5ECF6",
          "polar": {
           "angularaxis": {
            "gridcolor": "white",
            "linecolor": "white",
            "ticks": ""
           },
           "bgcolor": "#E5ECF6",
           "radialaxis": {
            "gridcolor": "white",
            "linecolor": "white",
            "ticks": ""
           }
          },
          "scene": {
           "xaxis": {
            "backgroundcolor": "#E5ECF6",
            "gridcolor": "white",
            "gridwidth": 2,
            "linecolor": "white",
            "showbackground": true,
            "ticks": "",
            "zerolinecolor": "white"
           },
           "yaxis": {
            "backgroundcolor": "#E5ECF6",
            "gridcolor": "white",
            "gridwidth": 2,
            "linecolor": "white",
            "showbackground": true,
            "ticks": "",
            "zerolinecolor": "white"
           },
           "zaxis": {
            "backgroundcolor": "#E5ECF6",
            "gridcolor": "white",
            "gridwidth": 2,
            "linecolor": "white",
            "showbackground": true,
            "ticks": "",
            "zerolinecolor": "white"
           }
          },
          "shapedefaults": {
           "line": {
            "color": "#2a3f5f"
           }
          },
          "ternary": {
           "aaxis": {
            "gridcolor": "white",
            "linecolor": "white",
            "ticks": ""
           },
           "baxis": {
            "gridcolor": "white",
            "linecolor": "white",
            "ticks": ""
           },
           "bgcolor": "#E5ECF6",
           "caxis": {
            "gridcolor": "white",
            "linecolor": "white",
            "ticks": ""
           }
          },
          "title": {
           "x": 0.05
          },
          "xaxis": {
           "automargin": true,
           "gridcolor": "white",
           "linecolor": "white",
           "ticks": "",
           "title": {
            "standoff": 15
           },
           "zerolinecolor": "white",
           "zerolinewidth": 2
          },
          "yaxis": {
           "automargin": true,
           "gridcolor": "white",
           "linecolor": "white",
           "ticks": "",
           "title": {
            "standoff": 15
           },
           "zerolinecolor": "white",
           "zerolinewidth": 2
          }
         }
        },
        "xaxis": {
         "anchor": "y",
         "autorange": true,
         "domain": [
          0,
          1
         ],
         "range": [
          -2.2247691835324135,
          3.3096561367567343
         ],
         "title": {
          "text": "alcohol"
         },
         "type": "linear"
        },
        "yaxis": {
         "anchor": "x",
         "autorange": true,
         "domain": [
          0,
          1
         ],
         "range": [
          -2.4568670179873715,
          2.8042968258102343
         ],
         "title": {
          "text": "ins_losses"
         },
         "type": "linear"
        }
       }
      },
      "image/png": "[encoded data removed]",
      "text/html": [
       "<div>                            <div id=\"b6122a0b-e77a-42bf-93b7-8932de820bca\" class=\"plotly-graph-div\" style=\"height:525px; width:100%;\"></div>            <script type=\"text/javascript\">                require([\"plotly\"], function(Plotly) {                    window.PLOTLYENV=window.PLOTLYENV || {};                                    if (document.getElementById(\"b6122a0b-e77a-42bf-93b7-8932de820bca\")) {                    Plotly.newPlot(                        \"b6122a0b-e77a-42bf-93b7-8932de820bca\",                        [{\"hovertemplate\":\"alcohol=%{x}<br>ins_losses=%{y}<br>cluster=%{marker.color}<extra></extra>\",\"legendgroup\":\"\",\"marker\":{\"color\":[1,1,1,1,2,0,2,1,2,1,0,1,0,0,0,0,0,1,1,0,2,2,2,2,0,1,1,0,0,0,2,0,2,1,1,0,1,0,1,2,1,1,1,1,0,0,0,0,1,0,1],\"coloraxis\":\"coloraxis\",\"symbol\":\"circle\"},\"mode\":\"markers\",\"name\":\"\",\"orientation\":\"v\",\"showlegend\":false,\"type\":\"scatter\",\"x\":[0.4399375842789329,-0.21131067755325134,0.1876153877663743,0.5474081494602083,-0.8917628973151306,-0.630095434265069,-0.583369101577558,-0.015644159424299014,-1.9238307705505298,0.17768604207027697,-0.5763601516744313,1.3364990927205505,-0.2627096435095135,-0.3123563719899939,-0.3982160083032955,-0.5617581727095842,-0.3590827046775049,0.02056874840852166,1.0970266376970563,-0.20839028176028196,-0.5179522358150425,-1.1779616850261354,-0.5483243520619246,-1.22819249266521,0.332467019097658,0.3429804439523484,2.645420487129453,0.1917039418765308,-0.10676050816494581,-0.821673398283864,-1.0225966288401613,0.04743638970384064,-0.7708585114861954,0.1876153877663743,3.0087177237748506,-0.054193383891496014,0.5164519540547318,-0.9104534303901347,0.44110574259612106,-0.390622979241575,2.869122804870911,0.885005903127475,0.44869877165784156,1.4515626869635458,-1.798253751452844,-0.47122590312753143,-0.8514614353721524,-0.8111599734291739,1.0380346426790739,-0.19437238195402864,0.39788388486017295],\"xaxis\":\"x\",\"y\":[0.4305137955564193,-0.022899924450170098,-0.9817784462219529,0.3211251940481021,1.2661776472277555,0.22027622314080733,1.32270186882499,0.6907692043494381,0.06330967971251789,0.3939153786949006,0.3377978061739059,-0.5519503726372308,-2.1041298966418505,0.18937089334663662,-1.0399292641241429,-0.8142390268114462,-0.028186362441278128,0.10722777994633932,2.451559704464713,-1.5421408732794235,2.366976696606981,0.04623041851047532,0.7224878322960875,-0.04648557087203802,0.86522165805601,0.4048949037533554,-2.006534118344468,-0.8000063091430781,0.1714783339921166,-0.5808224570502067,1.0311344811615595,-0.5588634069332955,0.6309917901422915,-0.2713625100322567,-1.0073973380250156,-0.03957253657597279,1.804174375092077,-1.2151950159831924,0.7875516844943433,0.572840972240102,-0.7402288949359309,-1.5299414009922503,0.8570886765312274,0.908326460137354,-1.0171569158547535,-1.0118704778636456,0.7818585974269954,-0.9301340135395876,0.7346873045832607,-1.1334585516591342,-0.5064056760984522],\"yaxis\":\"y\"}],                        {\"coloraxis\":{\"colorbar\":{\"title\":{\"text\":\"cluster\"}},\"colorscale\":[[0.0,\"#0d0887\"],[0.1111111111111111,\"#46039f\"],[0.2222222222222222,\"#7201a8\"],[0.3333333333333333,\"#9c179e\"],[0.4444444444444444,\"#bd3786\"],[0.5555555555555556,\"#d8576b\"],[0.6666666666666666,\"#ed7953\"],[0.7777777777777778,\"#fb9f3a\"],[0.8888888888888888,\"#fdca26\"],[1.0,\"#f0f921\"]]},\"legend\":{\"tracegroupgap\":0},\"margin\":{\"t\":60},\"template\":{\"data\":{\"bar\":[{\"error_x\":{\"color\":\"#2a3f5f\"},\"error_y\":{\"color\":\"#2a3f5f\"},\"marker\":{\"line\":{\"color\":\"#E5ECF6\",\"width\":0.5},\"pattern\":{\"fillmode\":\"overlay\",\"size\":10,\"solidity\":0.2}},\"type\":\"bar\"}],\"barpolar\":[{\"marker\":{\"line\":{\"color\":\"#E5ECF6\",\"width\":0.5},\"pattern\":{\"fillmode\":\"overlay\",\"size\":10,\"solidity\":0.2}},\"type\":\"barpolar\"}],\"carpet\":[{\"aaxis\":{\"endlinecolor\":\"#2a3f5f\",\"gridcolor\":\"white\",\"linecolor\":\"white\",\"minorgridcolor\":\"white\",\"startlinecolor\":\"#2a3f5f\"},\"baxis\":{\"endlinecolor\":\"#2a3f5f\",\"gridcolor\":\"white\",\"linecolor\":\"white\",\"minorgridcolor\":\"white\",\"startlinecolor\":\"#2a3f5f\"},\"type\":\"carpet\"}],\"choropleth\":[{\"colorbar\":{\"outlinewidth\":0,\"ticks\":\"\"},\"type\":\"choropleth\"}],\"contour\":[{\"colorbar\":{\"outlinewidth\":0,\"ticks\":\"\"},\"colorscale\":[[0.0,\"#0d0887\"],[0.1111111111111111,\"#46039f\"],[0.2222222222222222,\"#7201a8\"],[0.3333333333333333,\"#9c179e\"],[0.4444444444444444,\"#bd3786\"],[0.5555555555555556,\"#d8576b\"],[0.6666666666666666,\"#ed7953\"],[0.7777777777777778,\"#fb9f3a\"],[0.8888888888888888,\"#fdca26\"],[1.0,\"#f0f921\"]],\"type\":\"contour\"}],\"contourcarpet\":[{\"colorbar\":{\"outlinewidth\":0,\"ticks\":\"\"},\"type\":\"contourcarpet\"}],\"heatmap\":[{\"colorbar\":{\"outlinewidth\":0,\"ticks\":\"\"},\"colorscale\":[[0.0,\"#0d0887\"],[0.1111111111111111,\"#46039f\"],[0.2222222222222222,\"#7201a8\"],[0.3333333333333333,\"#9c179e\"],[0.4444444444444444,\"#bd3786\"],[0.5555555555555556,\"#d8576b\"],[0.6666666666666666,\"#ed7953\"],[0.7777777777777778,\"#fb9f3a\"],[0.8888888888888888,\"#fdca26\"],[1.0,\"#f0f921\"]],\"type\":\"heatmap\"}],\"heatmapgl\":[{\"colorbar\":{\"outlinewidth\":0,\"ticks\":\"\"},\"colorscale\":[[0.0,\"#0d0887\"],[0.1111111111111111,\"#46039f\"],[0.2222222222222222,\"#7201a8\"],[0.3333333333333333,\"#9c179e\"],[0.4444444444444444,\"#bd3786\"],[0.5555555555555556,\"#d8576b\"],[0.6666666666666666,\"#ed7953\"],[0.7777777777777778,\"#fb9f3a\"],[0.8888888888888888,\"#fdca26\"],[1.0,\"#f0f921\"]],\"type\":\"heatmapgl\"}],\"histogram\":[{\"marker\":{\"pattern\":{\"fillmode\":\"overlay\",\"size\":10,\"solidity\":0.2}},\"type\":\"histogram\"}],\"histogram2d\":[{\"colorbar\":{\"outlinewidth\":0,\"ticks\":\"\"},\"colorscale\":[[0.0,\"#0d0887\"],[0.1111111111111111,\"#46039f\"],[0.2222222222222222,\"#7201a8\"],[0.3333333333333333,\"#9c179e\"],[0.4444444444444444,\"#bd3786\"],[0.5555555555555556,\"#d8576b\"],[0.6666666666666666,\"#ed7953\"],[0.7777777777777778,\"#fb9f3a\"],[0.8888888888888888,\"#fdca26\"],[1.0,\"#f0f921\"]],\"type\":\"histogram2d\"}],\"histogram2dcontour\":[{\"colorbar\":{\"outlinewidth\":0,\"ticks\":\"\"},\"colorscale\":[[0.0,\"#0d0887\"],[0.1111111111111111,\"#46039f\"],[0.2222222222222222,\"#7201a8\"],[0.3333333333333333,\"#9c179e\"],[0.4444444444444444,\"#bd3786\"],[0.5555555555555556,\"#d8576b\"],[0.6666666666666666,\"#ed7953\"],[0.7777777777777778,\"#fb9f3a\"],[0.8888888888888888,\"#fdca26\"],[1.0,\"#f0f921\"]],\"type\":\"histogram2dcontour\"}],\"mesh3d\":[{\"colorbar\":{\"outlinewidth\":0,\"ticks\":\"\"},\"type\":\"mesh3d\"}],\"parcoords\":[{\"line\":{\"colorbar\":{\"outlinewidth\":0,\"ticks\":\"\"}},\"type\":\"parcoords\"}],\"pie\":[{\"automargin\":true,\"type\":\"pie\"}],\"scatter\":[{\"marker\":{\"colorbar\":{\"outlinewidth\":0,\"ticks\":\"\"}},\"type\":\"scatter\"}],\"scatter3d\":[{\"line\":{\"colorbar\":{\"outlinewidth\":0,\"ticks\":\"\"}},\"marker\":{\"colorbar\":{\"outlinewidth\":0,\"ticks\":\"\"}},\"type\":\"scatter3d\"}],\"scattercarpet\":[{\"marker\":{\"colorbar\":{\"outlinewidth\":0,\"ticks\":\"\"}},\"type\":\"scattercarpet\"}],\"scattergeo\":[{\"marker\":{\"colorbar\":{\"outlinewidth\":0,\"ticks\":\"\"}},\"type\":\"scattergeo\"}],\"scattergl\":[{\"marker\":{\"colorbar\":{\"outlinewidth\":0,\"ticks\":\"\"}},\"type\":\"scattergl\"}],\"scattermapbox\":[{\"marker\":{\"colorbar\":{\"outlinewidth\":0,\"ticks\":\"\"}},\"type\":\"scattermapbox\"}],\"scatterpolar\":[{\"marker\":{\"colorbar\":{\"outlinewidth\":0,\"ticks\":\"\"}},\"type\":\"scatterpolar\"}],\"scatterpolargl\":[{\"marker\":{\"colorbar\":{\"outlinewidth\":0,\"ticks\":\"\"}},\"type\":\"scatterpolargl\"}],\"scatterternary\":[{\"marker\":{\"colorbar\":{\"outlinewidth\":0,\"ticks\":\"\"}},\"type\":\"scatterternary\"}],\"surface\":[{\"colorbar\":{\"outlinewidth\":0,\"ticks\":\"\"},\"colorscale\":[[0.0,\"#0d0887\"],[0.1111111111111111,\"#46039f\"],[0.2222222222222222,\"#7201a8\"],[0.3333333333333333,\"#9c179e\"],[0.4444444444444444,\"#bd3786\"],[0.5555555555555556,\"#d8576b\"],[0.6666666666666666,\"#ed7953\"],[0.7777777777777778,\"#fb9f3a\"],[0.8888888888888888,\"#fdca26\"],[1.0,\"#f0f921\"]],\"type\":\"surface\"}],\"table\":[{\"cells\":{\"fill\":{\"color\":\"#EBF0F8\"},\"line\":{\"color\":\"white\"}},\"header\":{\"fill\":{\"color\":\"#C8D4E3\"},\"line\":{\"color\":\"white\"}},\"type\":\"table\"}]},\"layout\":{\"annotationdefaults\":{\"arrowcolor\":\"#2a3f5f\",\"arrowhead\":0,\"arrowwidth\":1},\"autotypenumbers\":\"strict\",\"coloraxis\":{\"colorbar\":{\"outlinewidth\":0,\"ticks\":\"\"}},\"colorscale\":{\"diverging\":[[0,\"#8e0152\"],[0.1,\"#c51b7d\"],[0.2,\"#de77ae\"],[0.3,\"#f1b6da\"],[0.4,\"#fde0ef\"],[0.5,\"#f7f7f7\"],[0.6,\"#e6f5d0\"],[0.7,\"#b8e186\"],[0.8,\"#7fbc41\"],[0.9,\"#4d9221\"],[1,\"#276419\"]],\"sequential\":[[0.0,\"#0d0887\"],[0.1111111111111111,\"#46039f\"],[0.2222222222222222,\"#7201a8\"],[0.3333333333333333,\"#9c179e\"],[0.4444444444444444,\"#bd3786\"],[0.5555555555555556,\"#d8576b\"],[0.6666666666666666,\"#ed7953\"],[0.7777777777777778,\"#fb9f3a\"],[0.8888888888888888,\"#fdca26\"],[1.0,\"#f0f921\"]],\"sequentialminus\":[[0.0,\"#0d0887\"],[0.1111111111111111,\"#46039f\"],[0.2222222222222222,\"#7201a8\"],[0.3333333333333333,\"#9c179e\"],[0.4444444444444444,\"#bd3786\"],[0.5555555555555556,\"#d8576b\"],[0.6666666666666666,\"#ed7953\"],[0.7777777777777778,\"#fb9f3a\"],[0.8888888888888888,\"#fdca26\"],[1.0,\"#f0f921\"]]},\"colorway\":[\"#636efa\",\"#EF553B\",\"#00cc96\",\"#ab63fa\",\"#FFA15A\",\"#19d3f3\",\"#FF6692\",\"#B6E880\",\"#FF97FF\",\"#FECB52\"],\"font\":{\"color\":\"#2a3f5f\"},\"geo\":{\"bgcolor\":\"white\",\"lakecolor\":\"white\",\"landcolor\":\"#E5ECF6\",\"showlakes\":true,\"showland\":true,\"subunitcolor\":\"white\"},\"hoverlabel\":{\"align\":\"left\"},\"hovermode\":\"closest\",\"mapbox\":{\"style\":\"light\"},\"paper_bgcolor\":\"white\",\"plot_bgcolor\":\"#E5ECF6\",\"polar\":{\"angularaxis\":{\"gridcolor\":\"white\",\"linecolor\":\"white\",\"ticks\":\"\"},\"bgcolor\":\"#E5ECF6\",\"radialaxis\":{\"gridcolor\":\"white\",\"linecolor\":\"white\",\"ticks\":\"\"}},\"scene\":{\"xaxis\":{\"backgroundcolor\":\"#E5ECF6\",\"gridcolor\":\"white\",\"gridwidth\":2,\"linecolor\":\"white\",\"showbackground\":true,\"ticks\":\"\",\"zerolinecolor\":\"white\"},\"yaxis\":{\"backgroundcolor\":\"#E5ECF6\",\"gridcolor\":\"white\",\"gridwidth\":2,\"linecolor\":\"white\",\"showbackground\":true,\"ticks\":\"\",\"zerolinecolor\":\"white\"},\"zaxis\":{\"backgroundcolor\":\"#E5ECF6\",\"gridcolor\":\"white\",\"gridwidth\":2,\"linecolor\":\"white\",\"showbackground\":true,\"ticks\":\"\",\"zerolinecolor\":\"white\"}},\"shapedefaults\":{\"line\":{\"color\":\"#2a3f5f\"}},\"ternary\":{\"aaxis\":{\"gridcolor\":\"white\",\"linecolor\":\"white\",\"ticks\":\"\"},\"baxis\":{\"gridcolor\":\"white\",\"linecolor\":\"white\",\"ticks\":\"\"},\"bgcolor\":\"#E5ECF6\",\"caxis\":{\"gridcolor\":\"white\",\"linecolor\":\"white\",\"ticks\":\"\"}},\"title\":{\"x\":0.05},\"xaxis\":{\"automargin\":true,\"gridcolor\":\"white\",\"linecolor\":\"white\",\"ticks\":\"\",\"title\":{\"standoff\":15},\"zerolinecolor\":\"white\",\"zerolinewidth\":2},\"yaxis\":{\"automargin\":true,\"gridcolor\":\"white\",\"linecolor\":\"white\",\"ticks\":\"\",\"title\":{\"standoff\":15},\"zerolinecolor\":\"white\",\"zerolinewidth\":2}}},\"xaxis\":{\"anchor\":\"y\",\"domain\":[0.0,1.0],\"title\":{\"text\":\"alcohol\"}},\"yaxis\":{\"anchor\":\"x\",\"domain\":[0.0,1.0],\"title\":{\"text\":\"ins_losses\"}}},                        {\"responsive\": true}                    ).then(function(){\n",
       "                            \n",
       "var gd = document.getElementById('b6122a0b-e77a-42bf-93b7-8932de820bca');\n",
       "var x = new MutationObserver(function (mutations, observer) {{\n",
       "        var display = window.getComputedStyle(gd).display;\n",
       "        if (!display || display === 'none') {{\n",
       "            console.log([gd, 'removed!']);\n",
       "            Plotly.purge(gd);\n",
       "            observer.disconnect();\n",
       "        }}\n",
       "}});\n",
       "\n",
       "// Listen for the removal of the full notebook cells\n",
       "var notebookContainer = gd.closest('#notebook-container');\n",
       "if (notebookContainer) {{\n",
       "    x.observe(notebookContainer, {childList: true});\n",
       "}}\n",
       "\n",
       "// Listen for the clearing of the current output cell\n",
       "var outputEl = gd.closest('.output');\n",
       "if (outputEl) {{\n",
       "    x.observe(outputEl, {childList: true});\n",
       "}}\n",
       "\n",
       "                        })                };                });            </script>        </div>"
      ]
     },
     "metadata": {},
     "output_type": "display_data"
    }
   ],
   "source": [
    "px.scatter(x='alcohol', y='ins_losses', data_frame=dfsel, color='cluster')"
   ]
  },
  {
   "cell_type": "markdown",
   "metadata": {},
   "source": [
    "## Interpretación del Modelo"
   ]
  },
  {
   "cell_type": "markdown",
   "metadata": {},
   "source": [
    "> - Hay algo **muy raro** en el modelo.\n",
    "> - Los puntos **están mezclados** entre los grupos.\n",
    "> Por qué?\n",
    "> - Tan solo estamos representando 2 variables.\n",
    "> - Y hemos usado todas en `model.fit()`"
   ]
  },
  {
   "cell_type": "markdown",
   "metadata": {},
   "source": [
    "# Agrupación de Variables con PCA"
   ]
  },
  {
   "cell_type": "markdown",
   "metadata": {},
   "source": [
    "> - En el **siguiente vídeo** obtendrás una explicación del modelo.\n",
    "> - https://www.youtube.com/watch?v=HMOI_lkzW08"
   ]
  },
  {
   "cell_type": "markdown",
   "metadata": {},
   "source": [
    "## Transformar los Datos a Componentes"
   ]
  },
  {
   "cell_type": "markdown",
   "metadata": {},
   "source": [
    "> - PCA es otra forma de transformar los datos.\n",
    "> - Para hacer, usamos el objeto `PCA()`.\n",
    "> ¿Cómo ha ido evolucionando la tabla de datos, pues?\n",
    "> 1. Datos Originales `df`.\n",
    "> 2. Datos Normalizados `dfnorm`.\n",
    "> 3. Datos Componentes Principales `dfpca` (ahora)."
   ]
  },
  {
   "cell_type": "code",
   "execution_count": 23,
   "metadata": {},
   "outputs": [],
   "source": [
    "from sklearn.decomposition import PCA"
   ]
  },
  {
   "cell_type": "code",
   "execution_count": 24,
   "metadata": {},
   "outputs": [],
   "source": [
    "pca = PCA()"
   ]
  },
  {
   "cell_type": "code",
   "execution_count": 27,
   "metadata": {},
   "outputs": [
    {
     "data": {
      "text/html": [
       "<div>\n",
       "<style scoped>\n",
       "    .dataframe tbody tr th:only-of-type {\n",
       "        vertical-align: middle;\n",
       "    }\n",
       "\n",
       "    .dataframe tbody tr th {\n",
       "        vertical-align: top;\n",
       "    }\n",
       "\n",
       "    .dataframe thead th {\n",
       "        text-align: right;\n",
       "    }\n",
       "</style>\n",
       "<table border=\"1\" class=\"dataframe\">\n",
       "  <thead>\n",
       "    <tr style=\"text-align: right;\">\n",
       "      <th></th>\n",
       "      <th>0</th>\n",
       "      <th>1</th>\n",
       "      <th>2</th>\n",
       "      <th>3</th>\n",
       "      <th>4</th>\n",
       "      <th>5</th>\n",
       "      <th>6</th>\n",
       "    </tr>\n",
       "    <tr>\n",
       "      <th>abbrev</th>\n",
       "      <th></th>\n",
       "      <th></th>\n",
       "      <th></th>\n",
       "      <th></th>\n",
       "      <th></th>\n",
       "      <th></th>\n",
       "      <th></th>\n",
       "    </tr>\n",
       "  </thead>\n",
       "  <tbody>\n",
       "    <tr>\n",
       "      <th>AL</th>\n",
       "      <td>1.603671</td>\n",
       "      <td>0.133449</td>\n",
       "      <td>0.317881</td>\n",
       "      <td>-0.795293</td>\n",
       "      <td>-0.579719</td>\n",
       "      <td>0.046223</td>\n",
       "      <td>0.210185</td>\n",
       "    </tr>\n",
       "    <tr>\n",
       "      <th>AK</th>\n",
       "      <td>1.144212</td>\n",
       "      <td>0.858234</td>\n",
       "      <td>0.736626</td>\n",
       "      <td>0.318988</td>\n",
       "      <td>-0.228701</td>\n",
       "      <td>-1.002625</td>\n",
       "      <td>0.008966</td>\n",
       "    </tr>\n",
       "    <tr>\n",
       "      <th>AZ</th>\n",
       "      <td>1.432172</td>\n",
       "      <td>-0.420506</td>\n",
       "      <td>0.338136</td>\n",
       "      <td>0.552513</td>\n",
       "      <td>0.168718</td>\n",
       "      <td>-0.804523</td>\n",
       "      <td>-0.076107</td>\n",
       "    </tr>\n",
       "    <tr>\n",
       "      <th>AR</th>\n",
       "      <td>2.491584</td>\n",
       "      <td>0.348968</td>\n",
       "      <td>-1.788747</td>\n",
       "      <td>0.264064</td>\n",
       "      <td>-0.372382</td>\n",
       "      <td>-0.481849</td>\n",
       "      <td>-0.147636</td>\n",
       "    </tr>\n",
       "    <tr>\n",
       "      <th>CA</th>\n",
       "      <td>-1.750638</td>\n",
       "      <td>0.633625</td>\n",
       "      <td>-0.136176</td>\n",
       "      <td>-0.974916</td>\n",
       "      <td>-0.315811</td>\n",
       "      <td>0.178510</td>\n",
       "      <td>-0.068958</td>\n",
       "    </tr>\n",
       "    <tr>\n",
       "      <th>CO</th>\n",
       "      <td>-0.925120</td>\n",
       "      <td>-0.154388</td>\n",
       "      <td>0.146177</td>\n",
       "      <td>-0.568096</td>\n",
       "      <td>0.116420</td>\n",
       "      <td>-0.240859</td>\n",
       "      <td>-0.098428</td>\n",
       "    </tr>\n",
       "    <tr>\n",
       "      <th>CT</th>\n",
       "      <td>-2.125359</td>\n",
       "      <td>1.370600</td>\n",
       "      <td>0.743078</td>\n",
       "      <td>-0.485553</td>\n",
       "      <td>-0.088337</td>\n",
       "      <td>0.486531</td>\n",
       "      <td>0.020256</td>\n",
       "    </tr>\n",
       "    <tr>\n",
       "      <th>DE</th>\n",
       "      <td>0.324658</td>\n",
       "      <td>1.574245</td>\n",
       "      <td>0.440982</td>\n",
       "      <td>0.338057</td>\n",
       "      <td>0.095481</td>\n",
       "      <td>-0.466100</td>\n",
       "      <td>-0.188961</td>\n",
       "    </tr>\n",
       "    <tr>\n",
       "      <th>DC</th>\n",
       "      <td>-4.635926</td>\n",
       "      <td>0.918997</td>\n",
       "      <td>0.720078</td>\n",
       "      <td>1.184313</td>\n",
       "      <td>-0.172554</td>\n",
       "      <td>-0.052800</td>\n",
       "      <td>-0.124806</td>\n",
       "    </tr>\n",
       "    <tr>\n",
       "      <th>FL</th>\n",
       "      <td>0.495689</td>\n",
       "      <td>1.435282</td>\n",
       "      <td>-0.661126</td>\n",
       "      <td>1.185136</td>\n",
       "      <td>-0.108007</td>\n",
       "      <td>-0.244305</td>\n",
       "      <td>-0.086714</td>\n",
       "    </tr>\n",
       "    <tr>\n",
       "      <th>GA</th>\n",
       "      <td>-0.525427</td>\n",
       "      <td>0.266688</td>\n",
       "      <td>-0.996973</td>\n",
       "      <td>0.224700</td>\n",
       "      <td>-0.396993</td>\n",
       "      <td>-0.216235</td>\n",
       "      <td>-0.085949</td>\n",
       "    </tr>\n",
       "    <tr>\n",
       "      <th>HI</th>\n",
       "      <td>1.928047</td>\n",
       "      <td>-0.210245</td>\n",
       "      <td>1.802469</td>\n",
       "      <td>-0.307749</td>\n",
       "      <td>0.474235</td>\n",
       "      <td>0.243974</td>\n",
       "      <td>-0.027264</td>\n",
       "    </tr>\n",
       "    <tr>\n",
       "      <th>ID</th>\n",
       "      <td>0.313123</td>\n",
       "      <td>-2.427597</td>\n",
       "      <td>0.346267</td>\n",
       "      <td>0.242471</td>\n",
       "      <td>0.156261</td>\n",
       "      <td>-0.601429</td>\n",
       "      <td>-0.179853</td>\n",
       "    </tr>\n",
       "    <tr>\n",
       "      <th>IL</th>\n",
       "      <td>-0.879340</td>\n",
       "      <td>-0.325337</td>\n",
       "      <td>0.030223</td>\n",
       "      <td>-0.510003</td>\n",
       "      <td>-0.104465</td>\n",
       "      <td>0.214890</td>\n",
       "      <td>-0.260829</td>\n",
       "    </tr>\n",
       "    <tr>\n",
       "      <th>IN</th>\n",
       "      <td>-0.395326</td>\n",
       "      <td>-1.517806</td>\n",
       "      <td>-0.480372</td>\n",
       "      <td>0.170787</td>\n",
       "      <td>-0.207524</td>\n",
       "      <td>-0.138441</td>\n",
       "      <td>-0.188620</td>\n",
       "    </tr>\n",
       "    <tr>\n",
       "      <th>IA</th>\n",
       "      <td>-0.350122</td>\n",
       "      <td>-1.606357</td>\n",
       "      <td>-1.143953</td>\n",
       "      <td>0.018727</td>\n",
       "      <td>-0.530035</td>\n",
       "      <td>-0.085099</td>\n",
       "      <td>0.013598</td>\n",
       "    </tr>\n",
       "    <tr>\n",
       "      <th>KS</th>\n",
       "      <td>0.268724</td>\n",
       "      <td>-0.388644</td>\n",
       "      <td>-0.487894</td>\n",
       "      <td>-0.360658</td>\n",
       "      <td>-0.000996</td>\n",
       "      <td>-0.428149</td>\n",
       "      <td>0.250526</td>\n",
       "    </tr>\n",
       "    <tr>\n",
       "      <th>KY</th>\n",
       "      <td>1.079427</td>\n",
       "      <td>0.167894</td>\n",
       "      <td>-1.079836</td>\n",
       "      <td>0.249861</td>\n",
       "      <td>-0.186248</td>\n",
       "      <td>-0.329688</td>\n",
       "      <td>0.644697</td>\n",
       "    </tr>\n",
       "    <tr>\n",
       "      <th>LA</th>\n",
       "      <td>1.879427</td>\n",
       "      <td>3.648218</td>\n",
       "      <td>0.044439</td>\n",
       "      <td>-0.119691</td>\n",
       "      <td>0.753572</td>\n",
       "      <td>-0.199459</td>\n",
       "      <td>-0.157203</td>\n",
       "    </tr>\n",
       "    <tr>\n",
       "      <th>ME</th>\n",
       "      <td>0.033165</td>\n",
       "      <td>-2.000912</td>\n",
       "      <td>0.533298</td>\n",
       "      <td>-0.086128</td>\n",
       "      <td>-0.098662</td>\n",
       "      <td>-0.174564</td>\n",
       "      <td>0.105598</td>\n",
       "    </tr>\n",
       "    <tr>\n",
       "      <th>MD</th>\n",
       "      <td>-1.708747</td>\n",
       "      <td>2.126422</td>\n",
       "      <td>-0.245391</td>\n",
       "      <td>-1.031566</td>\n",
       "      <td>0.350294</td>\n",
       "      <td>0.261180</td>\n",
       "      <td>-0.207411</td>\n",
       "    </tr>\n",
       "    <tr>\n",
       "      <th>MA</th>\n",
       "      <td>-3.651457</td>\n",
       "      <td>-0.025082</td>\n",
       "      <td>0.113215</td>\n",
       "      <td>0.426712</td>\n",
       "      <td>-0.063149</td>\n",
       "      <td>0.553208</td>\n",
       "      <td>0.012150</td>\n",
       "    </tr>\n",
       "    <tr>\n",
       "      <th>MI</th>\n",
       "      <td>-1.370703</td>\n",
       "      <td>1.191239</td>\n",
       "      <td>-0.186198</td>\n",
       "      <td>0.541027</td>\n",
       "      <td>-0.478532</td>\n",
       "      <td>0.226347</td>\n",
       "      <td>0.247314</td>\n",
       "    </tr>\n",
       "    <tr>\n",
       "      <th>MN</th>\n",
       "      <td>-2.909039</td>\n",
       "      <td>-0.903774</td>\n",
       "      <td>-0.364751</td>\n",
       "      <td>-0.368156</td>\n",
       "      <td>-0.166400</td>\n",
       "      <td>0.326086</td>\n",
       "      <td>-0.079624</td>\n",
       "    </tr>\n",
       "    <tr>\n",
       "      <th>MS</th>\n",
       "      <td>-0.864891</td>\n",
       "      <td>0.583746</td>\n",
       "      <td>-1.243684</td>\n",
       "      <td>-0.420313</td>\n",
       "      <td>2.747442</td>\n",
       "      <td>-0.112549</td>\n",
       "      <td>0.099181</td>\n",
       "    </tr>\n",
       "    <tr>\n",
       "      <th>MO</th>\n",
       "      <td>0.659733</td>\n",
       "      <td>0.003254</td>\n",
       "      <td>0.556189</td>\n",
       "      <td>-0.863878</td>\n",
       "      <td>-0.218926</td>\n",
       "      <td>0.263466</td>\n",
       "      <td>0.024157</td>\n",
       "    </tr>\n",
       "    <tr>\n",
       "      <th>MT</th>\n",
       "      <td>3.627923</td>\n",
       "      <td>-1.242992</td>\n",
       "      <td>1.161788</td>\n",
       "      <td>1.027460</td>\n",
       "      <td>0.743786</td>\n",
       "      <td>0.670637</td>\n",
       "      <td>-0.001845</td>\n",
       "    </tr>\n",
       "    <tr>\n",
       "      <th>NE</th>\n",
       "      <td>-0.467083</td>\n",
       "      <td>-1.309009</td>\n",
       "      <td>-1.151495</td>\n",
       "      <td>0.501488</td>\n",
       "      <td>-0.023241</td>\n",
       "      <td>0.576539</td>\n",
       "      <td>-0.164922</td>\n",
       "    </tr>\n",
       "    <tr>\n",
       "      <th>NV</th>\n",
       "      <td>-0.106028</td>\n",
       "      <td>0.689652</td>\n",
       "      <td>0.348203</td>\n",
       "      <td>0.339661</td>\n",
       "      <td>-0.084383</td>\n",
       "      <td>-0.217774</td>\n",
       "      <td>-0.259724</td>\n",
       "    </tr>\n",
       "    <tr>\n",
       "      <th>NH</th>\n",
       "      <td>-1.775362</td>\n",
       "      <td>-1.239018</td>\n",
       "      <td>0.243905</td>\n",
       "      <td>-0.333879</td>\n",
       "      <td>-0.154285</td>\n",
       "      <td>0.149904</td>\n",
       "      <td>0.045691</td>\n",
       "    </tr>\n",
       "    <tr>\n",
       "      <th>NJ</th>\n",
       "      <td>-3.018309</td>\n",
       "      <td>1.935870</td>\n",
       "      <td>-0.202882</td>\n",
       "      <td>1.084987</td>\n",
       "      <td>-0.175650</td>\n",
       "      <td>0.299146</td>\n",
       "      <td>0.210557</td>\n",
       "    </tr>\n",
       "    <tr>\n",
       "      <th>NM</th>\n",
       "      <td>0.469291</td>\n",
       "      <td>-0.384486</td>\n",
       "      <td>-0.970288</td>\n",
       "      <td>0.582329</td>\n",
       "      <td>0.760605</td>\n",
       "      <td>-0.558852</td>\n",
       "      <td>-0.060830</td>\n",
       "    </tr>\n",
       "    <tr>\n",
       "      <th>NY</th>\n",
       "      <td>-2.041784</td>\n",
       "      <td>1.538860</td>\n",
       "      <td>0.502944</td>\n",
       "      <td>0.797447</td>\n",
       "      <td>-0.191340</td>\n",
       "      <td>0.055756</td>\n",
       "      <td>0.199052</td>\n",
       "    </tr>\n",
       "    <tr>\n",
       "      <th>NC</th>\n",
       "      <td>0.816262</td>\n",
       "      <td>-0.793312</td>\n",
       "      <td>0.368251</td>\n",
       "      <td>-0.661200</td>\n",
       "      <td>-0.402007</td>\n",
       "      <td>0.095075</td>\n",
       "      <td>0.137858</td>\n",
       "    </tr>\n",
       "    <tr>\n",
       "      <th>ND</th>\n",
       "      <td>4.423619</td>\n",
       "      <td>-0.965716</td>\n",
       "      <td>-0.948543</td>\n",
       "      <td>0.775273</td>\n",
       "      <td>0.023569</td>\n",
       "      <td>1.222200</td>\n",
       "      <td>-0.185898</td>\n",
       "    </tr>\n",
       "    <tr>\n",
       "      <th>OH</th>\n",
       "      <td>-0.539149</td>\n",
       "      <td>-0.892627</td>\n",
       "      <td>-0.389892</td>\n",
       "      <td>-0.523138</td>\n",
       "      <td>-0.404637</td>\n",
       "      <td>0.600677</td>\n",
       "      <td>-0.021991</td>\n",
       "    </tr>\n",
       "    <tr>\n",
       "      <th>OK</th>\n",
       "      <td>1.893587</td>\n",
       "      <td>1.569755</td>\n",
       "      <td>-0.682062</td>\n",
       "      <td>-1.038087</td>\n",
       "      <td>-0.285300</td>\n",
       "      <td>-0.140813</td>\n",
       "      <td>-0.167974</td>\n",
       "    </tr>\n",
       "    <tr>\n",
       "      <th>OR</th>\n",
       "      <td>-1.559410</td>\n",
       "      <td>-1.407253</td>\n",
       "      <td>0.356474</td>\n",
       "      <td>0.205008</td>\n",
       "      <td>0.370710</td>\n",
       "      <td>-0.423845</td>\n",
       "      <td>0.092349</td>\n",
       "    </tr>\n",
       "    <tr>\n",
       "      <th>PA</th>\n",
       "      <td>1.814053</td>\n",
       "      <td>0.936589</td>\n",
       "      <td>1.097425</td>\n",
       "      <td>-0.903765</td>\n",
       "      <td>-0.416062</td>\n",
       "      <td>-0.285857</td>\n",
       "      <td>-0.001473</td>\n",
       "    </tr>\n",
       "    <tr>\n",
       "      <th>RI</th>\n",
       "      <td>-2.164484</td>\n",
       "      <td>1.119077</td>\n",
       "      <td>0.547331</td>\n",
       "      <td>0.555804</td>\n",
       "      <td>-0.093357</td>\n",
       "      <td>0.600640</td>\n",
       "      <td>0.065785</td>\n",
       "    </tr>\n",
       "    <tr>\n",
       "      <th>SC</th>\n",
       "      <td>4.672014</td>\n",
       "      <td>-0.019524</td>\n",
       "      <td>0.807443</td>\n",
       "      <td>0.529369</td>\n",
       "      <td>-0.013393</td>\n",
       "      <td>0.793271</td>\n",
       "      <td>0.101770</td>\n",
       "    </tr>\n",
       "    <tr>\n",
       "      <th>SD</th>\n",
       "      <td>2.147476</td>\n",
       "      <td>-1.684670</td>\n",
       "      <td>-0.046152</td>\n",
       "      <td>0.354682</td>\n",
       "      <td>-0.325454</td>\n",
       "      <td>0.041000</td>\n",
       "      <td>-0.001036</td>\n",
       "    </tr>\n",
       "    <tr>\n",
       "      <th>TN</th>\n",
       "      <td>0.954879</td>\n",
       "      <td>0.260777</td>\n",
       "      <td>-1.195367</td>\n",
       "      <td>-0.594569</td>\n",
       "      <td>-0.082671</td>\n",
       "      <td>0.333748</td>\n",
       "      <td>0.253928</td>\n",
       "    </tr>\n",
       "    <tr>\n",
       "      <th>TX</th>\n",
       "      <td>2.204308</td>\n",
       "      <td>1.432642</td>\n",
       "      <td>0.586286</td>\n",
       "      <td>-0.189818</td>\n",
       "      <td>0.059423</td>\n",
       "      <td>0.450637</td>\n",
       "      <td>-0.047766</td>\n",
       "    </tr>\n",
       "    <tr>\n",
       "      <th>UT</th>\n",
       "      <td>-1.985211</td>\n",
       "      <td>-1.283064</td>\n",
       "      <td>0.615428</td>\n",
       "      <td>-0.116365</td>\n",
       "      <td>-0.339627</td>\n",
       "      <td>-0.979614</td>\n",
       "      <td>-0.007981</td>\n",
       "    </tr>\n",
       "    <tr>\n",
       "      <th>VT</th>\n",
       "      <td>-0.630338</td>\n",
       "      <td>-1.504611</td>\n",
       "      <td>-0.146494</td>\n",
       "      <td>0.035877</td>\n",
       "      <td>-0.210385</td>\n",
       "      <td>-0.106305</td>\n",
       "      <td>-0.198325</td>\n",
       "    </tr>\n",
       "    <tr>\n",
       "      <th>VA</th>\n",
       "      <td>-1.797349</td>\n",
       "      <td>-0.177639</td>\n",
       "      <td>-0.988900</td>\n",
       "      <td>-0.734181</td>\n",
       "      <td>-0.231569</td>\n",
       "      <td>0.303000</td>\n",
       "      <td>-0.044200</td>\n",
       "    </tr>\n",
       "    <tr>\n",
       "      <th>WA</th>\n",
       "      <td>-2.096452</td>\n",
       "      <td>-0.958969</td>\n",
       "      <td>0.854118</td>\n",
       "      <td>0.277163</td>\n",
       "      <td>0.087962</td>\n",
       "      <td>0.041864</td>\n",
       "      <td>0.016137</td>\n",
       "    </tr>\n",
       "    <tr>\n",
       "      <th>WV</th>\n",
       "      <td>3.619129</td>\n",
       "      <td>1.485286</td>\n",
       "      <td>-0.054355</td>\n",
       "      <td>0.041551</td>\n",
       "      <td>-0.622525</td>\n",
       "      <td>-0.530780</td>\n",
       "      <td>0.136625</td>\n",
       "    </tr>\n",
       "    <tr>\n",
       "      <th>WI</th>\n",
       "      <td>-1.187447</td>\n",
       "      <td>-1.829767</td>\n",
       "      <td>0.522376</td>\n",
       "      <td>-0.486705</td>\n",
       "      <td>1.234004</td>\n",
       "      <td>0.044176</td>\n",
       "      <td>0.243181</td>\n",
       "    </tr>\n",
       "    <tr>\n",
       "      <th>WY</th>\n",
       "      <td>1.164326</td>\n",
       "      <td>-0.556064</td>\n",
       "      <td>0.710502</td>\n",
       "      <td>-0.351745</td>\n",
       "      <td>0.230845</td>\n",
       "      <td>-0.256171</td>\n",
       "      <td>0.002769</td>\n",
       "    </tr>\n",
       "  </tbody>\n",
       "</table>\n",
       "</div>"
      ],
      "text/plain": [
       "               0         1         2         3         4         5         6\n",
       "abbrev                                                                      \n",
       "AL      1.603671  0.133449  0.317881 -0.795293 -0.579719  0.046223  0.210185\n",
       "AK      1.144212  0.858234  0.736626  0.318988 -0.228701 -1.002625  0.008966\n",
       "AZ      1.432172 -0.420506  0.338136  0.552513  0.168718 -0.804523 -0.076107\n",
       "AR      2.491584  0.348968 -1.788747  0.264064 -0.372382 -0.481849 -0.147636\n",
       "CA     -1.750638  0.633625 -0.136176 -0.974916 -0.315811  0.178510 -0.068958\n",
       "CO     -0.925120 -0.154388  0.146177 -0.568096  0.116420 -0.240859 -0.098428\n",
       "CT     -2.125359  1.370600  0.743078 -0.485553 -0.088337  0.486531  0.020256\n",
       "DE      0.324658  1.574245  0.440982  0.338057  0.095481 -0.466100 -0.188961\n",
       "DC     -4.635926  0.918997  0.720078  1.184313 -0.172554 -0.052800 -0.124806\n",
       "FL      0.495689  1.435282 -0.661126  1.185136 -0.108007 -0.244305 -0.086714\n",
       "GA     -0.525427  0.266688 -0.996973  0.224700 -0.396993 -0.216235 -0.085949\n",
       "HI      1.928047 -0.210245  1.802469 -0.307749  0.474235  0.243974 -0.027264\n",
       "ID      0.313123 -2.427597  0.346267  0.242471  0.156261 -0.601429 -0.179853\n",
       "IL     -0.879340 -0.325337  0.030223 -0.510003 -0.104465  0.214890 -0.260829\n",
       "IN     -0.395326 -1.517806 -0.480372  0.170787 -0.207524 -0.138441 -0.188620\n",
       "IA     -0.350122 -1.606357 -1.143953  0.018727 -0.530035 -0.085099  0.013598\n",
       "KS      0.268724 -0.388644 -0.487894 -0.360658 -0.000996 -0.428149  0.250526\n",
       "KY      1.079427  0.167894 -1.079836  0.249861 -0.186248 -0.329688  0.644697\n",
       "LA      1.879427  3.648218  0.044439 -0.119691  0.753572 -0.199459 -0.157203\n",
       "ME      0.033165 -2.000912  0.533298 -0.086128 -0.098662 -0.174564  0.105598\n",
       "MD     -1.708747  2.126422 -0.245391 -1.031566  0.350294  0.261180 -0.207411\n",
       "MA     -3.651457 -0.025082  0.113215  0.426712 -0.063149  0.553208  0.012150\n",
       "MI     -1.370703  1.191239 -0.186198  0.541027 -0.478532  0.226347  0.247314\n",
       "MN     -2.909039 -0.903774 -0.364751 -0.368156 -0.166400  0.326086 -0.079624\n",
       "MS     -0.864891  0.583746 -1.243684 -0.420313  2.747442 -0.112549  0.099181\n",
       "MO      0.659733  0.003254  0.556189 -0.863878 -0.218926  0.263466  0.024157\n",
       "MT      3.627923 -1.242992  1.161788  1.027460  0.743786  0.670637 -0.001845\n",
       "NE     -0.467083 -1.309009 -1.151495  0.501488 -0.023241  0.576539 -0.164922\n",
       "NV     -0.106028  0.689652  0.348203  0.339661 -0.084383 -0.217774 -0.259724\n",
       "NH     -1.775362 -1.239018  0.243905 -0.333879 -0.154285  0.149904  0.045691\n",
       "NJ     -3.018309  1.935870 -0.202882  1.084987 -0.175650  0.299146  0.210557\n",
       "NM      0.469291 -0.384486 -0.970288  0.582329  0.760605 -0.558852 -0.060830\n",
       "NY     -2.041784  1.538860  0.502944  0.797447 -0.191340  0.055756  0.199052\n",
       "NC      0.816262 -0.793312  0.368251 -0.661200 -0.402007  0.095075  0.137858\n",
       "ND      4.423619 -0.965716 -0.948543  0.775273  0.023569  1.222200 -0.185898\n",
       "OH     -0.539149 -0.892627 -0.389892 -0.523138 -0.404637  0.600677 -0.021991\n",
       "OK      1.893587  1.569755 -0.682062 -1.038087 -0.285300 -0.140813 -0.167974\n",
       "OR     -1.559410 -1.407253  0.356474  0.205008  0.370710 -0.423845  0.092349\n",
       "PA      1.814053  0.936589  1.097425 -0.903765 -0.416062 -0.285857 -0.001473\n",
       "RI     -2.164484  1.119077  0.547331  0.555804 -0.093357  0.600640  0.065785\n",
       "SC      4.672014 -0.019524  0.807443  0.529369 -0.013393  0.793271  0.101770\n",
       "SD      2.147476 -1.684670 -0.046152  0.354682 -0.325454  0.041000 -0.001036\n",
       "TN      0.954879  0.260777 -1.195367 -0.594569 -0.082671  0.333748  0.253928\n",
       "TX      2.204308  1.432642  0.586286 -0.189818  0.059423  0.450637 -0.047766\n",
       "UT     -1.985211 -1.283064  0.615428 -0.116365 -0.339627 -0.979614 -0.007981\n",
       "VT     -0.630338 -1.504611 -0.146494  0.035877 -0.210385 -0.106305 -0.198325\n",
       "VA     -1.797349 -0.177639 -0.988900 -0.734181 -0.231569  0.303000 -0.044200\n",
       "WA     -2.096452 -0.958969  0.854118  0.277163  0.087962  0.041864  0.016137\n",
       "WV      3.619129  1.485286 -0.054355  0.041551 -0.622525 -0.530780  0.136625\n",
       "WI     -1.187447 -1.829767  0.522376 -0.486705  1.234004  0.044176  0.243181\n",
       "WY      1.164326 -0.556064  0.710502 -0.351745  0.230845 -0.256171  0.002769"
      ]
     },
     "execution_count": 27,
     "metadata": {},
     "output_type": "execute_result"
    }
   ],
   "source": [
    "pd.DataFrame(pca.fit_transform(dfnorm), index=df.index)"
   ]
  },
  {
   "cell_type": "markdown",
   "metadata": {},
   "source": [
    "## Visualizar Componentes con Cluster"
   ]
  },
  {
   "cell_type": "markdown",
   "metadata": {},
   "source": [
    "> - Un simple **scatterplot** con `PC1` y `PC2`.\n",
    "> - Colorear puntos según grupos.\n",
    "> - Están **mezclados** los puntos ahora?"
   ]
  },
  {
   "cell_type": "code",
   "execution_count": null,
   "metadata": {},
   "outputs": [],
   "source": []
  },
  {
   "cell_type": "markdown",
   "metadata": {},
   "source": [
    "## Relación entre Variables Originales y las Componentes"
   ]
  },
  {
   "cell_type": "markdown",
   "metadata": {},
   "source": [
    "> 1. **Influencia** de Variables Originales en PCA\n",
    "> 2. Cómo calculamos un valor con PCA?\n",
    "> 3. **Por qué** son x variables las que influyen x componente?"
   ]
  },
  {
   "cell_type": "code",
   "execution_count": null,
   "metadata": {},
   "outputs": [],
   "source": []
  },
  {
   "cell_type": "markdown",
   "metadata": {},
   "source": [
    "# Otras Técnicas para Agrupar Variables"
   ]
  },
  {
   "cell_type": "markdown",
   "metadata": {},
   "source": [
    "> - En la siguiente página web veremos varias técnicas de **Reducción de Variables**:\n",
    "> - https://scikit-learn.org/stable/modules/classes.html#module-sklearn.decomposition"
   ]
  },
  {
   "cell_type": "code",
   "execution_count": null,
   "metadata": {},
   "outputs": [],
   "source": []
  }
 ],
 "metadata": {
  "authors": [
   {
    "name": "Jesús López @sotastica"
   }
  ],
  "kernelspec": {
   "display_name": "Python 3 (ipykernel)",
   "language": "python",
   "name": "python3"
  },
  "language_info": {
   "codemirror_mode": {
    "name": "ipython",
    "version": 3
   },
   "file_extension": ".py",
   "mimetype": "text/x-python",
   "name": "python",
   "nbconvert_exporter": "python",
   "pygments_lexer": "ipython3",
   "version": "3.9.7"
  }
 },
 "nbformat": 4,
 "nbformat_minor": 4
}
