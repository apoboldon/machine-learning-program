{
 "cells": [
  {
   "cell_type": "markdown",
   "id": "aeb31462-5ff0-4fdf-ac4e-d8f7a5a9eb95",
   "metadata": {},
   "source": [
    "![](src/logo.svg)\n",
    "\n",
    "**© Jesús López**\n",
    "\n",
    "Follow him on **[LinkedIn](https://linkedin.com/in/jsulopz)** or **[Twitter](https://twitter.com/jsulopz)**\n",
    "\n",
    "<br>\n",
    "<a rel=\"license\" href=\"http://creativecommons.org/licenses/by-nc-nd/4.0/\"><img alt=\"Creative Commons License\" style=\"border-width:0\" src=\"https://i.creativecommons.org/l/by-nc-nd/4.0/88x31.png\" /></a><br />This work is licensed under a <a rel=\"license\" href=\"http://creativecommons.org/licenses/by-nc-nd/4.0/\">Creative Commons Attribution-NonCommercial-NoDerivatives 4.0 International License</a>."
   ]
  },
  {
   "cell_type": "markdown",
   "id": "71a09d88-c3e2-4f4e-a802-ea14d559a635",
   "metadata": {},
   "source": [
    "<font size=\"+5\">The Resolving Python Method</font>"
   ]
  },
  {
   "cell_type": "markdown",
   "id": "fb032db6-2918-42f9-a0fe-34e95eb90630",
   "metadata": {},
   "source": [
    "# The Challenge"
   ]
  },
  {
   "cell_type": "markdown",
   "id": "444d50bd-15d0-42b1-ac40-8e207ff47660",
   "metadata": {},
   "source": [
    "<div class=\"alert alert-info\">\n",
    "    Which day of the week did the restaurant gather more clients?\n",
    "</div>"
   ]
  },
  {
   "cell_type": "code",
   "execution_count": 8,
   "id": "33dfe782-b513-4b15-a0ca-d3a360aac70e",
   "metadata": {},
   "outputs": [
    {
     "data": {
      "text/html": [
       "<div>\n",
       "<style scoped>\n",
       "    .dataframe tbody tr th:only-of-type {\n",
       "        vertical-align: middle;\n",
       "    }\n",
       "\n",
       "    .dataframe tbody tr th {\n",
       "        vertical-align: top;\n",
       "    }\n",
       "\n",
       "    .dataframe thead th {\n",
       "        text-align: right;\n",
       "    }\n",
       "</style>\n",
       "<table border=\"1\" class=\"dataframe\">\n",
       "  <thead>\n",
       "    <tr style=\"text-align: right;\">\n",
       "      <th></th>\n",
       "      <th>total_bill</th>\n",
       "      <th>tip</th>\n",
       "      <th>sex</th>\n",
       "      <th>smoker</th>\n",
       "      <th>day</th>\n",
       "      <th>time</th>\n",
       "      <th>size</th>\n",
       "    </tr>\n",
       "  </thead>\n",
       "  <tbody>\n",
       "    <tr>\n",
       "      <th>0</th>\n",
       "      <td>16.99</td>\n",
       "      <td>1.01</td>\n",
       "      <td>Female</td>\n",
       "      <td>No</td>\n",
       "      <td>Sun</td>\n",
       "      <td>Dinner</td>\n",
       "      <td>2</td>\n",
       "    </tr>\n",
       "    <tr>\n",
       "      <th>1</th>\n",
       "      <td>10.34</td>\n",
       "      <td>1.66</td>\n",
       "      <td>Male</td>\n",
       "      <td>No</td>\n",
       "      <td>Sun</td>\n",
       "      <td>Dinner</td>\n",
       "      <td>3</td>\n",
       "    </tr>\n",
       "    <tr>\n",
       "      <th>2</th>\n",
       "      <td>21.01</td>\n",
       "      <td>3.50</td>\n",
       "      <td>Male</td>\n",
       "      <td>No</td>\n",
       "      <td>Sun</td>\n",
       "      <td>Dinner</td>\n",
       "      <td>3</td>\n",
       "    </tr>\n",
       "  </tbody>\n",
       "</table>\n",
       "</div>"
      ],
      "text/plain": [
       "   total_bill   tip     sex smoker  day    time  size\n",
       "0       16.99  1.01  Female     No  Sun  Dinner     2\n",
       "1       10.34  1.66    Male     No  Sun  Dinner     3\n",
       "2       21.01  3.50    Male     No  Sun  Dinner     3"
      ]
     },
     "execution_count": 8,
     "metadata": {},
     "output_type": "execute_result"
    }
   ],
   "source": [
    "import pandas\n",
    "\n",
    "df_tips = pandas.read_csv(filepath_or_buffer='data/tips.csv')\n",
    "df_tips.head(3)"
   ]
  },
  {
   "cell_type": "markdown",
   "id": "fed19649-2ad1-4702-82a9-a826fefe4b5a",
   "metadata": {},
   "source": [
    "# The Covered Solution"
   ]
  },
  {
   "cell_type": "code",
   "execution_count": 5,
   "id": "2ba38fa1-0478-4e9a-9412-15162517859e",
   "metadata": {},
   "outputs": [],
   "source": [
    "#! ?? read the full story to find out the solution"
   ]
  },
  {
   "cell_type": "raw",
   "id": "552fba18-25ec-456a-865f-409f19f7fdfc",
   "metadata": {},
   "source": [
    "Sat"
   ]
  },
  {
   "cell_type": "markdown",
   "id": "86722359-7986-4b82-b8ce-d0a091a99a0f",
   "metadata": {
    "tags": []
   },
   "source": [
    "# Resolving Python Method"
   ]
  },
  {
   "cell_type": "markdown",
   "id": "3cc5f6e9-220a-4b6f-8cfb-fa9795a652cd",
   "metadata": {},
   "source": [
    "<div class=\"alert alert-success\">\n",
    "    <h2>Understand the problem</h2>\n",
    "    <ol>\n",
    "        <li>Describe the data you are working with</li>\n",
    "        <li>Explain how you will develop the solution</li>\n",
    "    </ol>\n",
    "</div>"
   ]
  },
  {
   "cell_type": "markdown",
   "id": "a08324fa-98b0-4b5c-9ce9-6c18fbd94874",
   "metadata": {},
   "source": [
    "- Every row of the `DataFrame` represents a transaction at one table of the restaurant\n",
    "- The `Series day` contains the day a client was billed in the restaurant\n",
    "- We need to **count** how many clients went each day of the week\n",
    "- And show the best day"
   ]
  },
  {
   "cell_type": "markdown",
   "id": "0a06e484-99d1-4e2f-81ac-0727bca9b660",
   "metadata": {},
   "source": [
    "<div class=\"alert alert-success\">\n",
    "    <h2>Sketch the <code>end object</code></h2>\n",
    "    Type down how the end object will look like\n",
    "</div>"
   ]
  },
  {
   "cell_type": "raw",
   "id": "6b01eff8-5360-43fe-8259-5df8fccc2f2d",
   "metadata": {},
   "source": [
    "Sat"
   ]
  },
  {
   "cell_type": "markdown",
   "id": "2990f1dc-ddd1-4c32-9afb-1468601f4ec2",
   "metadata": {},
   "source": [
    "<div class=\"alert alert-success\">\n",
    "    <h2>The <code>starting object</code></h2>\n",
    "    <ol>\n",
    "        <li>Which object will you use to apply the Resolving Python Method?</li>\n",
    "        <li>Which <code>type()</code> of object is it?</li>\n",
    "    </ol>\n",
    "</div>"
   ]
  },
  {
   "cell_type": "code",
   "execution_count": 9,
   "id": "ea6c1af1-8966-4245-b48b-6c2c90987ef4",
   "metadata": {},
   "outputs": [
    {
     "data": {
      "text/plain": [
       "0       Sun\n",
       "1       Sun\n",
       "2       Sun\n",
       "3       Sun\n",
       "4       Sun\n",
       "       ... \n",
       "239     Sat\n",
       "240     Sat\n",
       "241     Sat\n",
       "242     Sat\n",
       "243    Thur\n",
       "Name: day, Length: 244, dtype: object"
      ]
     },
     "execution_count": 9,
     "metadata": {},
     "output_type": "execute_result"
    }
   ],
   "source": [
    "df_tips.day"
   ]
  },
  {
   "cell_type": "code",
   "execution_count": 10,
   "id": "03feefc6-e0b4-46e5-842a-576f4eb74af1",
   "metadata": {},
   "outputs": [
    {
     "data": {
      "text/plain": [
       "pandas.core.series.Series"
      ]
     },
     "execution_count": 10,
     "metadata": {},
     "output_type": "execute_result"
    }
   ],
   "source": [
    "type(df_tips.day)"
   ]
  },
  {
   "cell_type": "markdown",
   "id": "f99bc1e4-e115-446d-ba1c-ad11eab311f4",
   "metadata": {},
   "source": [
    "<div class=\"alert alert-success\">\n",
    "    <h2>The <code>function()</code></h2>\n",
    "    Apply the <a href=\"https://gitlab.com/python-resolvers/python-resolver-discipline/-/blob/main/01_Know%20How/01_Resolving%20Python%20Method.md\">Resolving Python Method</a> to find the function that solves your problem\n",
    "</div>"
   ]
  },
  {
   "cell_type": "markdown",
   "id": "e152970a-c00f-4fef-8cbd-57dd04c7c46d",
   "metadata": {},
   "source": [
    "### Deduction Method"
   ]
  },
  {
   "cell_type": "markdown",
   "id": "0c480c17-9e1a-464e-b319-890d9b03796e",
   "metadata": {},
   "source": [
    "Look for a `function()` that gives you the `solution` ↓\n",
    "\n",
    "#### Autocompletion Tool\n",
    "\n",
    "Apply [**deduction**](<../02_Resolving Examples/01_understand-python-syntax-source-code.ipynb>) to filter the `function()` that may get you the desired result:\n",
    "\n",
    "##### Within the `object.↹`"
   ]
  },
  {
   "cell_type": "markdown",
   "id": "5393e117-457f-4149-9156-a427b324c413",
   "metadata": {},
   "source": [
    "<div>\n",
    "<img src=\"src/object-autocompletion.png\" width=\"35%\"/>\n",
    "</div>"
   ]
  },
  {
   "cell_type": "code",
   "execution_count": 13,
   "id": "97c89a88-8b77-4610-ba74-f0a3f2f7a83e",
   "metadata": {},
   "outputs": [
    {
     "data": {
      "text/plain": [
       "Sat     87\n",
       "Sun     76\n",
       "Thur    62\n",
       "Fri     19\n",
       "Name: day, dtype: int64"
      ]
     },
     "execution_count": 13,
     "metadata": {},
     "output_type": "execute_result"
    }
   ],
   "source": [
    "df_tips.day.value_counts()"
   ]
  },
  {
   "cell_type": "markdown",
   "id": "87c2c3b1-d6ea-421b-85c9-f1c31d401c41",
   "metadata": {},
   "source": [
    "##### Within the `library.↹`\n",
    "\n",
    "> Most used libraries [here](00_The%20Elements%20of%20Python.ipynb#Most-Used-Libraries)"
   ]
  },
  {
   "cell_type": "markdown",
   "id": "7e0425a7-c40b-4252-8b47-b9d8e38bb014",
   "metadata": {},
   "source": [
    "<div>\n",
    "<img src=\"src/library-autocompletion.png\" width=\"35%\"/>\n",
    "</div>"
   ]
  },
  {
   "cell_type": "code",
   "execution_count": 14,
   "id": "40c8cbcd-22e0-452b-b977-2e61cbb38394",
   "metadata": {},
   "outputs": [
    {
     "data": {
      "text/plain": [
       "Sat     87\n",
       "Sun     76\n",
       "Thur    62\n",
       "Fri     19\n",
       "Name: day, dtype: int64"
      ]
     },
     "execution_count": 14,
     "metadata": {},
     "output_type": "execute_result"
    }
   ],
   "source": [
    "pandas.value_counts(values=df_tips.day)"
   ]
  },
  {
   "cell_type": "markdown",
   "id": "3430ed14-addd-4b07-b39f-56f87ac01334",
   "metadata": {},
   "source": [
    "#### Function Documentation\n",
    "\n",
    "Which `objects` should you pass to the `(parameters=?)`?\n",
    "\n",
    "> Ask Python `[shift] + [tab]` **[how to use the function](https://twitter.com)**\n",
    "\n",
    "- **Signature**: for required parameters\n",
    "- **\"\"\"Docstring\"\"\"**: to understand what the function does\n",
    "- **(Parameter=?)**: to know the objects you may use\n",
    "- **Return**: to see what the function will output\n",
    "- **Examples**: with code snippets"
   ]
  },
  {
   "cell_type": "markdown",
   "id": "f25afac7-d4c4-4a94-a660-1f7b5542805d",
   "metadata": {},
   "source": [
    "<div>\n",
    "<img src=\"src/docstring.png\" width=\"80%\"/>\n",
    "</div>"
   ]
  },
  {
   "cell_type": "markdown",
   "id": "6939ba9f-44fb-45ba-be32-4477cb9fe9d7",
   "metadata": {},
   "source": [
    "In case you want the percentages:"
   ]
  },
  {
   "cell_type": "code",
   "execution_count": 16,
   "id": "3fd36602-3823-400e-a043-df61a4866295",
   "metadata": {},
   "outputs": [
    {
     "data": {
      "text/plain": [
       "Sat     0.356557\n",
       "Sun     0.311475\n",
       "Thur    0.254098\n",
       "Fri     0.077869\n",
       "Name: day, dtype: float64"
      ]
     },
     "execution_count": 16,
     "metadata": {},
     "output_type": "execute_result"
    }
   ],
   "source": [
    "df_tips.day.value_counts(normalize=True)"
   ]
  },
  {
   "cell_type": "markdown",
   "id": "d02ed4e3-6733-4d6e-a21e-461f276c9ebc",
   "metadata": {},
   "source": [
    "## Google Method\n",
    "\n",
    "Apply the following steps when *looking for solutions in Google*:\n",
    "\n",
    "### Google Bar Search\n",
    "\n",
    "Head towards `google` search bar and **start typing** ↓\n",
    "\n",
    "### Starting Python Object\n",
    "\n",
    "What is the starting `object` you're working with?\n",
    "\n",
    "> You can ask to Python:"
   ]
  },
  {
   "cell_type": "code",
   "execution_count": 17,
   "id": "93326867-3023-4b22-b393-2403e799ef6f",
   "metadata": {},
   "outputs": [
    {
     "data": {
      "text/plain": [
       "pandas.core.series.Series"
      ]
     },
     "execution_count": 17,
     "metadata": {},
     "output_type": "execute_result"
    }
   ],
   "source": [
    "type(df_tips.day)"
   ]
  },
  {
   "cell_type": "markdown",
   "id": "7459a722-22aa-4140-b424-d37c18ac00e5",
   "metadata": {},
   "source": [
    "- ✅ **Instance:** python pandas Series"
   ]
  },
  {
   "cell_type": "markdown",
   "id": "af41947f-019a-4a5c-ab48-cfcfd2efeaa5",
   "metadata": {},
   "source": [
    "![](src/google-object-type.png)"
   ]
  },
  {
   "cell_type": "markdown",
   "id": "f58a1734-0291-4ae9-b368-c2ad8668e09f",
   "metadata": {},
   "source": [
    "### Verbalize the Solution\n",
    "\n",
    "What's the `verb` of the action you want?\n",
    "\n",
    "- ✅ **Verb:** count"
   ]
  },
  {
   "cell_type": "markdown",
   "id": "b797ae9f-72b3-4a02-afcc-4aff1faec214",
   "metadata": {},
   "source": [
    "![](src/google-verbalize.png)"
   ]
  },
  {
   "cell_type": "markdown",
   "id": "92f276ad-ff7b-4972-ad4b-016517cf700c",
   "metadata": {},
   "source": [
    "### Google Suggestions\n",
    "\n",
    "What's the `result` you want?\n",
    "\n",
    "- [ ] **Result:** ...\n",
    "    - *let google think for you*\n",
    "    - ✅ python pandas series count values"
   ]
  },
  {
   "cell_type": "markdown",
   "id": "80703b7f-861f-4ac8-9540-5e36bbaf5fcc",
   "metadata": {},
   "source": [
    "There we have the solution: `pandas.Series.value_counts`\n",
    "\n",
    "> We don't even need to click on the tutorial to adapt the google hint to our code"
   ]
  },
  {
   "cell_type": "markdown",
   "id": "b7b68d6e-5013-4202-97fc-f57ce485483b",
   "metadata": {},
   "source": [
    "![](src/google-results.png)"
   ]
  },
  {
   "cell_type": "markdown",
   "id": "a7dd5cb6-34bf-4f98-9f81-c3a651b593c0",
   "metadata": {},
   "source": [
    "Where do we have the `pandas.Series`?"
   ]
  },
  {
   "cell_type": "code",
   "execution_count": 22,
   "id": "fc57df75-7185-49d9-8969-904a3f151dfa",
   "metadata": {},
   "outputs": [
    {
     "data": {
      "text/plain": [
       "pandas.core.series.Series"
      ]
     },
     "execution_count": 22,
     "metadata": {},
     "output_type": "execute_result"
    }
   ],
   "source": [
    "type(df_tips.day)"
   ]
  },
  {
   "cell_type": "code",
   "execution_count": 23,
   "id": "9b67d90b-9540-45e3-8d97-fee8faab0609",
   "metadata": {},
   "outputs": [
    {
     "data": {
      "text/plain": [
       "Sat     87\n",
       "Sun     76\n",
       "Thur    62\n",
       "Fri     19\n",
       "Name: day, dtype: int64"
      ]
     },
     "execution_count": 23,
     "metadata": {},
     "output_type": "execute_result"
    }
   ],
   "source": [
    "df_tips.day.value_counts()"
   ]
  },
  {
   "cell_type": "markdown",
   "id": "301c7d21-dda5-4325-a005-8558485c33c7",
   "metadata": {},
   "source": [
    "**StackOverflow** answers are always the best to go!"
   ]
  },
  {
   "cell_type": "markdown",
   "id": "0919788d-fbba-44e6-a5fd-f13b27289714",
   "metadata": {},
   "source": [
    "![](src/google-stackoverflow.png)"
   ]
  },
  {
   "cell_type": "markdown",
   "id": "a79619f6-3db9-4eef-b107-e8c837e7b43c",
   "metadata": {},
   "source": [
    "![](src/stackoverflow.png)"
   ]
  },
  {
   "cell_type": "markdown",
   "id": "258a90ff-2d0c-4da9-88f8-f8443d9e8801",
   "metadata": {},
   "source": [
    "### Filter & Adapt the Solution in Websites\n",
    "\n",
    "1. Click on a [website ↗︎](https://stackoverflow.com/a/22391554)\n",
    "2. Detect the `function()` that solves your problem\n",
    "    - ✅ `df['a'].value_counts()` \n",
    "2. **Copy-paste** the code into Python\n",
    "3. **Adapt the `parameters`** for your problem\n",
    "    - ✅ `df_tips['day'].value_counts()`"
   ]
  },
  {
   "cell_type": "code",
   "execution_count": 24,
   "id": "9c227b59-c930-4b80-95fc-d230a36099b1",
   "metadata": {},
   "outputs": [
    {
     "data": {
      "text/plain": [
       "Sat     87\n",
       "Sun     76\n",
       "Thur    62\n",
       "Fri     19\n",
       "Name: day, dtype: int64"
      ]
     },
     "execution_count": 24,
     "metadata": {},
     "output_type": "execute_result"
    }
   ],
   "source": [
    "df_tips['day'].value_counts()"
   ]
  },
  {
   "cell_type": "markdown",
   "id": "4f989433-9870-4a16-aa7b-de5010fcf7a4",
   "metadata": {},
   "source": [
    "## Curious Thinking\n",
    "\n",
    "If you are wasting a lot of time on getting the desired result..."
   ]
  },
  {
   "cell_type": "markdown",
   "id": "b200b9f3-dbe0-4f8a-b46b-ee19ad0f149f",
   "metadata": {},
   "source": [
    "### Solve Doubts in a New File\n",
    "\n",
    "1. Take note about the doubts and concepts you see as you execute the code\n",
    "2. Reproduce the errors you are getting and try to understand the concepts with counterexamples"
   ]
  },
  {
   "cell_type": "markdown",
   "id": "802694e9-2647-4d41-8b18-ef57f1e3ab96",
   "metadata": {},
   "source": [
    "<div class=\"alert alert-warning\">\n",
    "    <a href=\"Curiosity x Learning/01_The value_counts() function.ipynb\">\n",
    "        <b>Apply Curiosity ↗︎</b>\n",
    "    </a>\n",
    "    <br>The value_counts() function\n",
    "    </div>"
   ]
  },
  {
   "cell_type": "markdown",
   "id": "4f585fa5-4715-470e-bb12-867b77b0d3e4",
   "metadata": {},
   "source": [
    "### Divide & Conquer\n",
    "\n",
    "1. Rethink the problem and\n",
    "2. *Break up the solution* in smaller pieces\n",
    "3. Back to [Sketch the Result](#Understand-the-problem) piece by piece\n",
    "4. Join the pieces of the puzzle"
   ]
  }
 ],
 "metadata": {
  "kernelspec": {
   "display_name": "Python 3 (ipykernel)",
   "language": "python",
   "name": "python3"
  },
  "language_info": {
   "codemirror_mode": {
    "name": "ipython",
    "version": 3
   },
   "file_extension": ".py",
   "mimetype": "text/x-python",
   "name": "python",
   "nbconvert_exporter": "python",
   "pygments_lexer": "ipython3",
   "version": "3.9.7"
  }
 },
 "nbformat": 4,
 "nbformat_minor": 5
}
