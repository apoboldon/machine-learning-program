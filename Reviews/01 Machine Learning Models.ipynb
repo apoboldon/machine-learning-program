{
 "cells": [
  {
   "cell_type": "markdown",
   "id": "d7cd6b86-eccf-4e1f-9c96-ac47c332829f",
   "metadata": {},
   "source": [
    "# Machine Learning Models Overview"
   ]
  },
  {
   "cell_type": "markdown",
   "id": "c2a59210-16f3-4a9e-a062-cdcbeba4dec4",
   "metadata": {},
   "source": [
    "que significa?\n",
    "\n",
    "- la maquina aprende\n",
    "\n",
    "que?\n",
    "\n",
    "- una formula matematica\n",
    "\n",
    "para que la usaremos?\n",
    "\n",
    "- predecir el rating de un cliente del banco\n",
    "- predecir si un jugador se lesiona\n",
    "- predecir si un equipo ganar tal...\n",
    "- predecir si x partido gana las elecciones\n",
    "- predecir si te vas a divorciar basandote en la cesta de la compra"
   ]
  },
  {
   "cell_type": "markdown",
   "id": "12a56db2-e844-4533-8f0d-437de4986038",
   "metadata": {},
   "source": [
    "son todas las formulas matematicas iguales?\n",
    "\n",
    "de que depende usar una formula matematica u otra?\n",
    "\n",
    "como distinguimos los modelos segun el tipo?\n",
    "\n",
    "Modelos de Regresion\n",
    "\n",
    "    - Predecir Numeros Continuos\n",
    "\n",
    "Modelos de Clasificacion\n",
    "\n",
    "    - Predecir Categorias"
   ]
  },
  {
   "cell_type": "code",
   "execution_count": null,
   "id": "4a6e1d1c-2636-4e22-b7ff-7841acd6af4f",
   "metadata": {},
   "outputs": [],
   "source": [
    "from sklearn.tree import Dec"
   ]
  }
 ],
 "metadata": {
  "kernelspec": {
   "display_name": "Python 3 (ipykernel)",
   "language": "python",
   "name": "python3"
  },
  "language_info": {
   "codemirror_mode": {
    "name": "ipython",
    "version": 3
   },
   "file_extension": ".py",
   "mimetype": "text/x-python",
   "name": "python",
   "nbconvert_exporter": "python",
   "pygments_lexer": "ipython3",
   "version": "3.9.7"
  }
 },
 "nbformat": 4,
 "nbformat_minor": 5
}
