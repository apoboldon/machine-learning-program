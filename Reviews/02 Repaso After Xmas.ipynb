{
 "cells": [
  {
   "cell_type": "markdown",
   "id": "af5881f5-d040-48b1-a64f-f0e6a758fa2a",
   "metadata": {},
   "source": [
    "# Machine Learning\n",
    "\n",
    "que significa?\n",
    "\n",
    "- maquina aprende\n",
    "\n",
    "que aprende?\n",
    "\n",
    "- una ecuacion matematica\n",
    "\n",
    "como aprende la ecuacion, generalmente?\n",
    "\n",
    "- minimizaban el error (distancia entre prediccion y realidad que fuera lo menos posbile)\n",
    "- para encontrar (optimizar) los mejores numeros de la ecuacion matematica\n",
    "\n",
    "modelos, ejemplos?\n",
    "\n",
    "- arboles de decision\n",
    "- regresion lineal\n",
    "- kmeans\n",
    "- random forest\n",
    "- redes neuronales\n",
    "- knn\n",
    "- logistic regression\n",
    "- support vector machine\n",
    "\n",
    "como organizamos los modelos segun su tipo? (en funcion de que elegimos uno u otro?)\n",
    "\n",
    "- aprendizaje supervisado\n",
    "    - clasificacion (variable objetivo es de tipo **categorica**)\n",
    "    - regresion (variable objetivo es de tipo **numerica continua**)\n",
    "\n",
    "- aprendizaje no supervisado\n",
    "    - kmeans\n",
    "    \n",
    "https://blog.pythonassembly.com/why-all-machine-learning-models-are-the-same"
   ]
  },
  {
   "cell_type": "markdown",
   "id": "6ad4909e-6dd9-400d-9ef2-872db3af9cbf",
   "metadata": {},
   "source": [
    "si encontrar la ecuacion matematica de los modelos\n",
    "\n",
    "es un proceso automatico, donde reside el arte de saber Ciencia de Datos?\n",
    "\n",
    "- en tener los datos bien organizados\n",
    "\n",
    "Manipulacion de Datos\n",
    "\n",
    "- Convertir Variables Categoricas a 0s y 1s `pd.get_dummies()`\n",
    "- Manipular NAs (datos perdidos)\n",
    "    - `df.dropna()`\n",
    "    - rellenar con algun dato comun (la media, etc...) `df.fillna()`\n",
    "- Datos No Balanceados\n",
    "    - si la variable objetivo es `covid`\n",
    "        - 100 personas\n",
    "            - 90 no covid\n",
    "            - 10 covid\n",
    "            - como el modelo recibe muchos mas datos de personas que no tienen covid, todas las predicciones seran que las personas no tienen covid...\n",
    "            - el modelo es bueno 90%\n",
    "                - no covid (100%)\n",
    "                - covid (0%)\n",
    "    - https://machinelearningmastery.com/smote-oversampling-for-imbalanced-classification/"
   ]
  }
 ],
 "metadata": {
  "kernelspec": {
   "display_name": "Python 3 (ipykernel)",
   "language": "python",
   "name": "python3"
  },
  "language_info": {
   "codemirror_mode": {
    "name": "ipython",
    "version": 3
   },
   "file_extension": ".py",
   "mimetype": "text/x-python",
   "name": "python",
   "nbconvert_exporter": "python",
   "pygments_lexer": "ipython3",
   "version": "3.9.7"
  }
 },
 "nbformat": 4,
 "nbformat_minor": 5
}
