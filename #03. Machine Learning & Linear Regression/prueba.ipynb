{
 "cells": [
  {
   "cell_type": "markdown",
   "id": "71c0cefb-5593-41f4-b5df-8fea343cd1ac",
   "metadata": {},
   "source": [
    "# 02. Machine Learning & Linear Regression\n",
    "\n",
    "Doubts? → Ask me in Image Discord\n",
    "Tutorials → Image YouTube\n",
    "Book Private Lessons → @ sotastica\n",
    "1. Load the Data\n",
    "By running the following commands:\n",
    "\n",
    "import seaborn as sns\n",
    "sns.get_dataset_names()\n",
    "You'll observe a list of posible tables that we could work with. You may use whichever you'd like. Just substitue ? by the name of the dataset you want.\n",
    "\n",
    "sns.load_dataset(name=?)"
   ]
  },
  {
   "cell_type": "code",
   "execution_count": 2,
   "id": "91b7b9f5-ecd4-4aff-b176-5a332a8e4325",
   "metadata": {},
   "outputs": [],
   "source": [
    "import seaborn as sns"
   ]
  },
  {
   "cell_type": "code",
   "execution_count": 9,
   "id": "d324864a-1fec-4b3b-91fd-efa5e93803d0",
   "metadata": {},
   "outputs": [
    {
     "data": {
      "text/html": [
       "<div>\n",
       "<style scoped>\n",
       "    .dataframe tbody tr th:only-of-type {\n",
       "        vertical-align: middle;\n",
       "    }\n",
       "\n",
       "    .dataframe tbody tr th {\n",
       "        vertical-align: top;\n",
       "    }\n",
       "\n",
       "    .dataframe thead th {\n",
       "        text-align: right;\n",
       "    }\n",
       "</style>\n",
       "<table border=\"1\" class=\"dataframe\">\n",
       "  <thead>\n",
       "    <tr style=\"text-align: right;\">\n",
       "      <th></th>\n",
       "      <th>mpg</th>\n",
       "      <th>cylinders</th>\n",
       "      <th>displacement</th>\n",
       "      <th>horsepower</th>\n",
       "      <th>weight</th>\n",
       "      <th>acceleration</th>\n",
       "      <th>model_year</th>\n",
       "      <th>origin</th>\n",
       "      <th>name</th>\n",
       "    </tr>\n",
       "  </thead>\n",
       "  <tbody>\n",
       "    <tr>\n",
       "      <th>0</th>\n",
       "      <td>18.0</td>\n",
       "      <td>8</td>\n",
       "      <td>307.0</td>\n",
       "      <td>130.0</td>\n",
       "      <td>3504</td>\n",
       "      <td>12.0</td>\n",
       "      <td>70</td>\n",
       "      <td>usa</td>\n",
       "      <td>chevrolet chevelle malibu</td>\n",
       "    </tr>\n",
       "    <tr>\n",
       "      <th>1</th>\n",
       "      <td>15.0</td>\n",
       "      <td>8</td>\n",
       "      <td>350.0</td>\n",
       "      <td>165.0</td>\n",
       "      <td>3693</td>\n",
       "      <td>11.5</td>\n",
       "      <td>70</td>\n",
       "      <td>usa</td>\n",
       "      <td>buick skylark 320</td>\n",
       "    </tr>\n",
       "    <tr>\n",
       "      <th>2</th>\n",
       "      <td>18.0</td>\n",
       "      <td>8</td>\n",
       "      <td>318.0</td>\n",
       "      <td>150.0</td>\n",
       "      <td>3436</td>\n",
       "      <td>11.0</td>\n",
       "      <td>70</td>\n",
       "      <td>usa</td>\n",
       "      <td>plymouth satellite</td>\n",
       "    </tr>\n",
       "    <tr>\n",
       "      <th>3</th>\n",
       "      <td>16.0</td>\n",
       "      <td>8</td>\n",
       "      <td>304.0</td>\n",
       "      <td>150.0</td>\n",
       "      <td>3433</td>\n",
       "      <td>12.0</td>\n",
       "      <td>70</td>\n",
       "      <td>usa</td>\n",
       "      <td>amc rebel sst</td>\n",
       "    </tr>\n",
       "    <tr>\n",
       "      <th>4</th>\n",
       "      <td>17.0</td>\n",
       "      <td>8</td>\n",
       "      <td>302.0</td>\n",
       "      <td>140.0</td>\n",
       "      <td>3449</td>\n",
       "      <td>10.5</td>\n",
       "      <td>70</td>\n",
       "      <td>usa</td>\n",
       "      <td>ford torino</td>\n",
       "    </tr>\n",
       "    <tr>\n",
       "      <th>...</th>\n",
       "      <td>...</td>\n",
       "      <td>...</td>\n",
       "      <td>...</td>\n",
       "      <td>...</td>\n",
       "      <td>...</td>\n",
       "      <td>...</td>\n",
       "      <td>...</td>\n",
       "      <td>...</td>\n",
       "      <td>...</td>\n",
       "    </tr>\n",
       "    <tr>\n",
       "      <th>393</th>\n",
       "      <td>27.0</td>\n",
       "      <td>4</td>\n",
       "      <td>140.0</td>\n",
       "      <td>86.0</td>\n",
       "      <td>2790</td>\n",
       "      <td>15.6</td>\n",
       "      <td>82</td>\n",
       "      <td>usa</td>\n",
       "      <td>ford mustang gl</td>\n",
       "    </tr>\n",
       "    <tr>\n",
       "      <th>394</th>\n",
       "      <td>44.0</td>\n",
       "      <td>4</td>\n",
       "      <td>97.0</td>\n",
       "      <td>52.0</td>\n",
       "      <td>2130</td>\n",
       "      <td>24.6</td>\n",
       "      <td>82</td>\n",
       "      <td>europe</td>\n",
       "      <td>vw pickup</td>\n",
       "    </tr>\n",
       "    <tr>\n",
       "      <th>395</th>\n",
       "      <td>32.0</td>\n",
       "      <td>4</td>\n",
       "      <td>135.0</td>\n",
       "      <td>84.0</td>\n",
       "      <td>2295</td>\n",
       "      <td>11.6</td>\n",
       "      <td>82</td>\n",
       "      <td>usa</td>\n",
       "      <td>dodge rampage</td>\n",
       "    </tr>\n",
       "    <tr>\n",
       "      <th>396</th>\n",
       "      <td>28.0</td>\n",
       "      <td>4</td>\n",
       "      <td>120.0</td>\n",
       "      <td>79.0</td>\n",
       "      <td>2625</td>\n",
       "      <td>18.6</td>\n",
       "      <td>82</td>\n",
       "      <td>usa</td>\n",
       "      <td>ford ranger</td>\n",
       "    </tr>\n",
       "    <tr>\n",
       "      <th>397</th>\n",
       "      <td>31.0</td>\n",
       "      <td>4</td>\n",
       "      <td>119.0</td>\n",
       "      <td>82.0</td>\n",
       "      <td>2720</td>\n",
       "      <td>19.4</td>\n",
       "      <td>82</td>\n",
       "      <td>usa</td>\n",
       "      <td>chevy s-10</td>\n",
       "    </tr>\n",
       "  </tbody>\n",
       "</table>\n",
       "<p>398 rows × 9 columns</p>\n",
       "</div>"
      ],
      "text/plain": [
       "      mpg  cylinders  displacement  horsepower  weight  acceleration  \\\n",
       "0    18.0          8         307.0       130.0    3504          12.0   \n",
       "1    15.0          8         350.0       165.0    3693          11.5   \n",
       "2    18.0          8         318.0       150.0    3436          11.0   \n",
       "3    16.0          8         304.0       150.0    3433          12.0   \n",
       "4    17.0          8         302.0       140.0    3449          10.5   \n",
       "..    ...        ...           ...         ...     ...           ...   \n",
       "393  27.0          4         140.0        86.0    2790          15.6   \n",
       "394  44.0          4          97.0        52.0    2130          24.6   \n",
       "395  32.0          4         135.0        84.0    2295          11.6   \n",
       "396  28.0          4         120.0        79.0    2625          18.6   \n",
       "397  31.0          4         119.0        82.0    2720          19.4   \n",
       "\n",
       "     model_year  origin                       name  \n",
       "0            70     usa  chevrolet chevelle malibu  \n",
       "1            70     usa          buick skylark 320  \n",
       "2            70     usa         plymouth satellite  \n",
       "3            70     usa              amc rebel sst  \n",
       "4            70     usa                ford torino  \n",
       "..          ...     ...                        ...  \n",
       "393          82     usa            ford mustang gl  \n",
       "394          82  europe                  vw pickup  \n",
       "395          82     usa              dodge rampage  \n",
       "396          82     usa                ford ranger  \n",
       "397          82     usa                 chevy s-10  \n",
       "\n",
       "[398 rows x 9 columns]"
      ]
     },
     "execution_count": 9,
     "metadata": {},
     "output_type": "execute_result"
    }
   ],
   "source": [
    "sns.load_dataset('mpg')\n",
    "df=sns.load_dataset('mpg')\n",
    "df"
   ]
  },
  {
   "cell_type": "markdown",
   "id": "72424b25-a3d9-412e-aaed-589a31a066ac",
   "metadata": {},
   "source": [
    "## 2. LinearRegression() Model in Python\n",
    "### 2.1. Build the Model\n",
    "Necesity: Build Model\n",
    "Google: How do you search for the solution?\n",
    "Solution: Find the function() that makes it happen"
   ]
  },
  {
   "cell_type": "code",
   "execution_count": 5,
   "id": "8bb8b547-c4ae-439e-b9bb-522dc3217f93",
   "metadata": {},
   "outputs": [],
   "source": [
    "from sklearn.linear_model import LinearRegression"
   ]
  },
  {
   "cell_type": "markdown",
   "id": "631ef3d2-81a7-4858-9c1b-ad36d72cbc08",
   "metadata": {},
   "source": [
    "## 2.1.1. Code Thinking\n",
    "By the time you get to the actual function() to compute the model\n",
    "You'll notice they're asking you for two parameters:\n",
    "X: explanatory variable\n",
    "y: target varaible It's recommended that you make a Data Visualization\n",
    "To analyze if the two variables are related?\n",
    "i.e., do you think X variable is good to predict y?\n",
    "If so, the Linear Regression would be great!"
   ]
  },
  {
   "cell_type": "code",
   "execution_count": 21,
   "id": "7e71c5ec-b49d-4888-9643-78ca0dda6371",
   "metadata": {},
   "outputs": [],
   "source": [
    "model=LinearRegression()\n"
   ]
  },
  {
   "cell_type": "code",
   "execution_count": 16,
   "id": "72992226-e4fa-49eb-a4fc-5c33c830e55a",
   "metadata": {},
   "outputs": [
    {
     "data": {
      "text/plain": [
       "0      3504\n",
       "1      3693\n",
       "2      3436\n",
       "3      3433\n",
       "4      3449\n",
       "       ... \n",
       "393    2790\n",
       "394    2130\n",
       "395    2295\n",
       "396    2625\n",
       "397    2720\n",
       "Name: weight, Length: 398, dtype: int64"
      ]
     },
     "execution_count": 16,
     "metadata": {},
     "output_type": "execute_result"
    }
   ],
   "source": [
    "df['weight']"
   ]
  },
  {
   "cell_type": "code",
   "execution_count": 17,
   "id": "bd7f09a8-6c9a-4231-8c6b-82304ec66a50",
   "metadata": {},
   "outputs": [
    {
     "data": {
      "text/plain": [
       "0      18.0\n",
       "1      15.0\n",
       "2      18.0\n",
       "3      16.0\n",
       "4      17.0\n",
       "       ... \n",
       "393    27.0\n",
       "394    44.0\n",
       "395    32.0\n",
       "396    28.0\n",
       "397    31.0\n",
       "Name: mpg, Length: 398, dtype: float64"
      ]
     },
     "execution_count": 17,
     "metadata": {},
     "output_type": "execute_result"
    }
   ],
   "source": [
    "df['mpg']"
   ]
  },
  {
   "cell_type": "code",
   "execution_count": 22,
   "id": "f2912eba-aff9-4a9c-82b7-6b05c8baecce",
   "metadata": {},
   "outputs": [
    {
     "data": {
      "text/plain": [
       "LinearRegression()"
      ]
     },
     "execution_count": 22,
     "metadata": {},
     "output_type": "execute_result"
    }
   ],
   "source": [
    "model.fit(X=df[['weight']],y=df['mpg']) # por qué separa la variable x con 2 [[]] y la variable y solo con []"
   ]
  },
  {
   "cell_type": "markdown",
   "id": "83a7e295-2f80-4de9-b175-f2171f56a5d2",
   "metadata": {},
   "source": [
    "## 2.1.2. Scatterplot with Variables from DataFrame\n",
    "You may observe in the plot that the points could be related through a line.\n",
    "\n",
    "Otherwise, you may select another pair of variables."
   ]
  },
  {
   "cell_type": "code",
   "execution_count": 25,
   "id": "1eb50eb1-8227-429a-a75e-cc5207cbcd2f",
   "metadata": {},
   "outputs": [
    {
     "name": "stderr",
     "output_type": "stream",
     "text": [
      "C:\\Users\\ALFONSO\\anaconda3\\lib\\site-packages\\seaborn\\_decorators.py:36: FutureWarning: Pass the following variables as keyword args: x, y. From version 0.12, the only valid positional argument will be `data`, and passing other arguments without an explicit keyword will result in an error or misinterpretation.\n",
      "  warnings.warn(\n"
     ]
    },
    {
     "data": {
      "text/plain": [
       "<AxesSubplot:xlabel='weight', ylabel='mpg'>"
      ]
     },
     "execution_count": 25,
     "metadata": {},
     "output_type": "execute_result"
    },
    {
     "data": {
      "image/png": "[encoded data removed]",
      "text/plain": [
       "<Figure size 432x288 with 1 Axes>"
      ]
     },
     "metadata": {
      "needs_background": "light"
     },
     "output_type": "display_data"
    }
   ],
   "source": [
    "import seaborn as sns\n",
    "import numpy as np\n",
    "sns.load_dataset('mpg')\n",
    "df=sns.load_dataset('mpg')\n",
    "sns.regplot('weight','mpg',data=df)"
   ]
  },
  {
   "cell_type": "markdown",
   "id": "e8234527-8efd-4e76-8c4a-fb78f5e6d44b",
   "metadata": {},
   "source": [
    "## 2.1.3. Finally fit() the Model\n",
    "Pass the objects that contains the sequence of numbers of the two variables\n",
    "To the parameters of the function that computes the Linear Regression Model"
   ]
  },
  {
   "cell_type": "code",
   "execution_count": 26,
   "id": "f0d87782-409b-4b08-8980-f4494e947791",
   "metadata": {},
   "outputs": [],
   "source": [
    "from sklearn.linear_model import LinearRegression"
   ]
  },
  {
   "cell_type": "code",
   "execution_count": 27,
   "id": "97770b18-ee53-4359-8e62-34d8ff30171c",
   "metadata": {},
   "outputs": [],
   "source": [
    "model=LinearRegression()"
   ]
  },
  {
   "cell_type": "code",
   "execution_count": 28,
   "id": "d5a97e8a-1e7d-4b71-bf53-9993ed3bbb07",
   "metadata": {},
   "outputs": [
    {
     "data": {
      "text/plain": [
       "LinearRegression()"
      ]
     },
     "execution_count": 28,
     "metadata": {},
     "output_type": "execute_result"
    }
   ],
   "source": [
    "model.fit(X=df[['weight']],y=df['mpg'])"
   ]
  },
  {
   "cell_type": "markdown",
   "id": "a3c6ba6b-53c5-4562-bf1c-ec4b10f55513",
   "metadata": {},
   "source": [
    "## 3. Model Interpretation\n",
    "Especify the mathematical equation of the model.\n",
    "Interpret the coefficients from the equation."
   ]
  },
  {
   "cell_type": "code",
   "execution_count": 30,
   "id": "8c54e1d6-cc2b-43af-9923-34d36ba4377a",
   "metadata": {},
   "outputs": [
    {
     "data": {
      "text/plain": [
       "{'fit_intercept': True,\n",
       " 'normalize': False,\n",
       " 'copy_X': True,\n",
       " 'n_jobs': None,\n",
       " 'positive': False,\n",
       " 'n_features_in_': 1,\n",
       " 'coef_': array([-0.00767661]),\n",
       " '_residues': 7474.8140143821,\n",
       " 'rank_': 1,\n",
       " 'singular_': array([16873.20281508]),\n",
       " 'intercept_': 46.31736442026565}"
      ]
     },
     "execution_count": 30,
     "metadata": {},
     "output_type": "execute_result"
    }
   ],
   "source": [
    "model.__dict__"
   ]
  },
  {
   "cell_type": "markdown",
   "id": "ddc622eb-6d90-417c-9976-762605967fd7",
   "metadata": {},
   "source": [
    "## 4. Calculate Predictions"
   ]
  },
  {
   "cell_type": "markdown",
   "id": "f0c49c22-3426-4837-8aff-80d0e8253553",
   "metadata": {},
   "source": [
    " y=a+b*x------------consumo= a + b*peso\n",
    " \n",
    " 𝑐𝑜𝑛𝑠𝑢𝑚𝑜=46.31−0.00767*𝑝𝑒𝑠𝑜"
   ]
  },
  {
   "cell_type": "code",
   "execution_count": 36,
   "id": "72232123-17d5-4201-9500-3726cae528f0",
   "metadata": {},
   "outputs": [
    {
     "data": {
      "text/plain": [
       "array([46.29433459])"
      ]
     },
     "execution_count": 36,
     "metadata": {},
     "output_type": "execute_result"
    }
   ],
   "source": [
    "model.predict(X=[[3]])"
   ]
  },
  {
   "cell_type": "code",
   "execution_count": 38,
   "id": "54462351-0f0e-4d86-96ca-2863f925d2f9",
   "metadata": {},
   "outputs": [],
   "source": [
    "model.predict(X=df[['weight']])\n",
    "pred=model.predict(X=df[['weight']])"
   ]
  },
  {
   "cell_type": "code",
   "execution_count": 39,
   "id": "e9fbddcc-7089-4c99-bc56-17a20a16af11",
   "metadata": {},
   "outputs": [
    {
     "data": {
      "text/plain": [
       "array([19.41852276, 17.96764345, 19.94053224, 19.96356207, 19.84073631,\n",
       "       12.99320013, 12.8934042 , 13.21582182, 12.34836489, 16.76241567,\n",
       "       18.96560276, 18.6124787 , 17.44563397, 22.62734576, 28.10844535,\n",
       "       24.56952811, 25.0224481 , 26.45797418, 29.96618498, 32.23078495,\n",
       "       25.80546233, 27.66320196, 28.08541552, 29.16781754, 25.98970097,\n",
       "       10.88980898, 12.72451878, 12.67845912,  9.9916456 , 29.96618498,\n",
       "       28.93751924, 29.2138772 , 30.61102023, 26.09717351, 19.91750241,\n",
       "       20.76192952, 20.96919799, 21.07667053, 14.00651266, 12.04897709,\n",
       "       14.42872621, 14.8739696 ,  8.27976155,  9.88417306,  6.85958869,\n",
       "       23.57924541, 27.83208739, 21.12273019, 22.22048543, 29.27529008,\n",
       "       30.01992125, 30.39607515, 30.46516464, 32.70673478, 33.93499239,\n",
       "       32.23846156, 31.30959175, 28.83004669, 29.99689142, 29.01428534,\n",
       "       27.83208739, 29.22923042, 13.50753301, 12.65542929, 14.57458181,\n",
       "       14.62064147, 18.12885227, 10.75162999, 11.75726591, 12.11038998,\n",
       "       12.37139472, 28.43086297, 16.43999805, 14.85861638, 13.35400081,\n",
       "       15.01982519, 23.8018671 , 27.04139655, 23.44874304, 29.51326499,\n",
       "       27.93188332, 28.75328059, 27.0797796 , 29.70518024, 30.19648329,\n",
       "       14.84326316, 18.12885227, 15.70304349, 15.28850654, 17.32280821,\n",
       "        8.30279138, 12.04897709, 12.82431471, 13.79156758,  9.96861577,\n",
       "        8.31046799, 16.98503737, 22.35866441, 21.15343663, 23.70974778,\n",
       "       23.12632542, 24.02448879, 31.3479748 ,  7.95734393,  8.65591545,\n",
       "       10.59042118, 11.78029574, 24.90729895, 28.82237008, 27.88582366,\n",
       "       28.05470908, 30.01224464, 28.58439517, 27.34078434, 28.92984263,\n",
       "       14.98144214, 13.47682657, 31.98513343, 29.7512399 , 26.49635724,\n",
       "       24.30084676, 20.22456681, 25.89758165, 24.76911997, 18.19026515,\n",
       "       22.50452   , 24.24711049, 24.04751862, 20.70819325, 31.3479748 ,\n",
       "       27.50199315, 32.22310834, 26.80342164, 17.29210177, 18.43591667,\n",
       "       18.58177226, 14.52852215, 10.24497373, 12.10271337, 10.71324694,\n",
       "       13.63803538, 29.28296669, 31.24817886, 28.66116127, 33.65863442,\n",
       "       30.94111446, 30.00456803, 30.13507041, 29.07569822, 27.21028197,\n",
       "       27.96258976, 30.96414429, 21.26090917, 19.76397021, 19.97123868,\n",
       "       22.07462984, 10.48294864, 12.23321574, 11.78797235, 10.56739135,\n",
       "       16.3248489 , 16.401615  , 17.68360888, 17.26139533, 22.98814644,\n",
       "       21.5910034 , 21.99018713, 29.65144397, 26.05879046, 23.94772269,\n",
       "       26.41959113, 25.57516403, 29.25226025, 26.78039181, 23.41035999,\n",
       "       31.44777073, 21.6677695 , 25.63657691, 23.61762846, 23.70974778,\n",
       "       25.81313894, 32.53784936, 27.40219722, 29.27529008, 26.57312334,\n",
       "       29.00660873, 29.41346906, 13.960453  , 14.15236825, 15.90263535,\n",
       "       13.960453  , 21.49888408, 20.57769088, 23.19541491, 22.63502237,\n",
       "       30.69546294, 29.70518024, 31.44777073, 32.53784936, 18.29006108,\n",
       "       18.88116005, 18.33612074, 21.80594849, 32.30755105, 31.04091039,\n",
       "       29.77426973, 26.62685961, 22.13604272, 16.07152077, 21.21484951,\n",
       "       23.82489693, 16.99271398, 12.69381234, 15.18871061, 16.60888347,\n",
       "       17.49169363, 30.61869684, 29.77426973, 32.30755105, 28.66116127,\n",
       "       31.38635785, 16.53211737, 15.15032756, 14.53619876, 13.3463242 ,\n",
       "       19.295697  , 20.02497495, 18.45126989, 19.25731394, 13.92206995,\n",
       "       14.3442835 , 13.11602589, 13.03925979, 31.4247409 , 25.28345285,\n",
       "       28.92984263, 25.16830369, 30.57263718, 30.38839854, 31.07929344,\n",
       "       29.50558838, 24.70770709, 26.35817825, 25.43698505, 31.07929344,\n",
       "       32.49946631, 31.07929344, 30.42678159, 32.49946631, 20.48557156,\n",
       "       17.64522583, 18.91186649, 19.18054784, 22.09765967, 23.55621558,\n",
       "       25.43698505, 19.9865919 , 21.67544612, 20.3704224 , 22.75017152,\n",
       "       18.52803599, 20.1401241 , 20.02497495, 19.87144275, 21.71382917,\n",
       "       14.99679536, 29.77426973, 26.66524266, 28.66116127, 29.19852398,\n",
       "       27.01069011, 25.24506979, 24.40064269, 27.85511722, 24.59255794,\n",
       "       22.21280882, 24.86123929, 20.1401241 , 31.04091039, 29.92780193,\n",
       "       21.40676476, 23.36430033, 24.13196134, 21.25323256, 20.52395461,\n",
       "       16.83918177, 17.72199193, 15.95637162, 16.91594788, 12.84734454,\n",
       "       15.19638722, 18.64318514, 16.07152077, 31.53989005, 31.15605954,\n",
       "       31.61665615, 25.82081555, 19.21893089, 16.37858517, 21.82897832,\n",
       "       20.063358  , 29.42882228, 29.81265278, 30.81061209, 29.96618498,\n",
       "       25.82081555, 26.3965613 , 25.59051725, 26.6959491 , 29.85871244,\n",
       "       31.20979581, 30.04295108, 30.8182887 , 25.75940267, 24.28549354,\n",
       "       23.2645044 , 20.36274579, 29.5209416 , 25.50607454, 26.80342164,\n",
       "       27.63249552, 28.92984263, 30.11971719, 24.82285624, 30.11971719,\n",
       "       30.31163244, 28.39247992, 23.67136473, 21.36838171, 32.1156358 ,\n",
       "       32.23078495, 29.85103583, 32.15401885, 23.97842913, 27.73996807,\n",
       "       27.12583926, 24.01681218, 28.73792737, 27.20260536, 26.0894969 ,\n",
       "       26.20464605, 25.398602  , 28.00864942, 32.84491376, 31.92372055,\n",
       "       32.80653071, 30.46516464, 31.15605954, 30.58031379, 31.07929344,\n",
       "       29.31367313, 30.61869684, 28.04703247, 29.50558838, 28.50762907,\n",
       "       29.35205618, 28.27733077, 26.2430291 , 26.0894969 , 21.52191391,\n",
       "       22.05927662, 24.05519523, 23.82489693, 20.10174105, 17.72199193,\n",
       "       22.82693762, 19.71791055, 26.3197952 , 26.05111385, 27.93188332,\n",
       "       26.55009351, 26.93392401, 25.3218359 , 24.32387659, 23.01885288,\n",
       "       31.11767649, 30.77222904, 31.19444259, 30.00456803, 30.00456803,\n",
       "       29.73588668, 29.39043923, 29.08337483, 31.23282564, 31.23282564,\n",
       "       31.00252734, 23.70974778, 23.17238508, 26.47332741, 24.55417489,\n",
       "       25.8591986 , 28.12379857, 23.67136473, 24.89962234, 29.96618498,\n",
       "       28.69954432, 26.166263  , 25.43698505])"
      ]
     },
     "execution_count": 39,
     "metadata": {},
     "output_type": "execute_result"
    }
   ],
   "source": [
    "pred"
   ]
  },
  {
   "cell_type": "code",
   "execution_count": 40,
   "id": "48207043-1a9a-4e0a-a25a-5ac568f94ed3",
   "metadata": {},
   "outputs": [],
   "source": [
    "dfsel = df[['weight', 'mpg']].copy()"
   ]
  },
  {
   "cell_type": "code",
   "execution_count": 41,
   "id": "cb02f968-8d66-41de-8779-90efafc4ef48",
   "metadata": {},
   "outputs": [],
   "source": [
    "dfsel['pred_lr'] = pred"
   ]
  },
  {
   "cell_type": "code",
   "execution_count": 43,
   "id": "9def7558-b4d7-40cb-92ca-a0f3a56dd807",
   "metadata": {},
   "outputs": [
    {
     "data": {
      "text/html": [
       "<div>\n",
       "<style scoped>\n",
       "    .dataframe tbody tr th:only-of-type {\n",
       "        vertical-align: middle;\n",
       "    }\n",
       "\n",
       "    .dataframe tbody tr th {\n",
       "        vertical-align: top;\n",
       "    }\n",
       "\n",
       "    .dataframe thead th {\n",
       "        text-align: right;\n",
       "    }\n",
       "</style>\n",
       "<table border=\"1\" class=\"dataframe\">\n",
       "  <thead>\n",
       "    <tr style=\"text-align: right;\">\n",
       "      <th></th>\n",
       "      <th>weight</th>\n",
       "      <th>mpg</th>\n",
       "      <th>pred_lr</th>\n",
       "    </tr>\n",
       "  </thead>\n",
       "  <tbody>\n",
       "    <tr>\n",
       "      <th>0</th>\n",
       "      <td>3504</td>\n",
       "      <td>18.0</td>\n",
       "      <td>19.418523</td>\n",
       "    </tr>\n",
       "    <tr>\n",
       "      <th>1</th>\n",
       "      <td>3693</td>\n",
       "      <td>15.0</td>\n",
       "      <td>17.967643</td>\n",
       "    </tr>\n",
       "    <tr>\n",
       "      <th>2</th>\n",
       "      <td>3436</td>\n",
       "      <td>18.0</td>\n",
       "      <td>19.940532</td>\n",
       "    </tr>\n",
       "    <tr>\n",
       "      <th>3</th>\n",
       "      <td>3433</td>\n",
       "      <td>16.0</td>\n",
       "      <td>19.963562</td>\n",
       "    </tr>\n",
       "    <tr>\n",
       "      <th>4</th>\n",
       "      <td>3449</td>\n",
       "      <td>17.0</td>\n",
       "      <td>19.840736</td>\n",
       "    </tr>\n",
       "    <tr>\n",
       "      <th>...</th>\n",
       "      <td>...</td>\n",
       "      <td>...</td>\n",
       "      <td>...</td>\n",
       "    </tr>\n",
       "    <tr>\n",
       "      <th>393</th>\n",
       "      <td>2790</td>\n",
       "      <td>27.0</td>\n",
       "      <td>24.899622</td>\n",
       "    </tr>\n",
       "    <tr>\n",
       "      <th>394</th>\n",
       "      <td>2130</td>\n",
       "      <td>44.0</td>\n",
       "      <td>29.966185</td>\n",
       "    </tr>\n",
       "    <tr>\n",
       "      <th>395</th>\n",
       "      <td>2295</td>\n",
       "      <td>32.0</td>\n",
       "      <td>28.699544</td>\n",
       "    </tr>\n",
       "    <tr>\n",
       "      <th>396</th>\n",
       "      <td>2625</td>\n",
       "      <td>28.0</td>\n",
       "      <td>26.166263</td>\n",
       "    </tr>\n",
       "    <tr>\n",
       "      <th>397</th>\n",
       "      <td>2720</td>\n",
       "      <td>31.0</td>\n",
       "      <td>25.436985</td>\n",
       "    </tr>\n",
       "  </tbody>\n",
       "</table>\n",
       "<p>398 rows × 3 columns</p>\n",
       "</div>"
      ],
      "text/plain": [
       "     weight   mpg    pred_lr\n",
       "0      3504  18.0  19.418523\n",
       "1      3693  15.0  17.967643\n",
       "2      3436  18.0  19.940532\n",
       "3      3433  16.0  19.963562\n",
       "4      3449  17.0  19.840736\n",
       "..      ...   ...        ...\n",
       "393    2790  27.0  24.899622\n",
       "394    2130  44.0  29.966185\n",
       "395    2295  32.0  28.699544\n",
       "396    2625  28.0  26.166263\n",
       "397    2720  31.0  25.436985\n",
       "\n",
       "[398 rows x 3 columns]"
      ]
     },
     "execution_count": 43,
     "metadata": {},
     "output_type": "execute_result"
    }
   ],
   "source": [
    "dfsel"
   ]
  },
  {
   "cell_type": "code",
   "execution_count": 44,
   "id": "6ee90e2a-92e9-4c2e-b897-0ad0524e012c",
   "metadata": {},
   "outputs": [
    {
     "data": {
      "text/plain": [
       "0.6917929800341573"
      ]
     },
     "execution_count": 44,
     "metadata": {},
     "output_type": "execute_result"
    }
   ],
   "source": [
    "model.score(X=df[['weight']],y=df['mpg'])"
   ]
  },
  {
   "cell_type": "code",
   "execution_count": 47,
   "id": "734380c9-05d8-4f8d-b2d7-d8461b314db3",
   "metadata": {},
   "outputs": [
    {
     "data": {
      "text/plain": [
       "<AxesSubplot:xlabel='weight', ylabel='mpg'>"
      ]
     },
     "execution_count": 47,
     "metadata": {},
     "output_type": "execute_result"
    },
    {
     "data": {
      "image/png": "[encoded data removed]",
      "text/plain": [
       "<Figure size 432x288 with 1 Axes>"
      ]
     },
     "metadata": {
      "needs_background": "light"
     },
     "output_type": "display_data"
    }
   ],
   "source": [
    "sns.scatterplot(x='weight', y='mpg', data=df)\n",
    "sns.lineplot(x='weight', y='pred_lr', data=dfsel, color='red')"
   ]
  },
  {
   "cell_type": "code",
   "execution_count": 48,
   "id": "0785e6b6-8454-401b-9f30-8fcc197f6f3a",
   "metadata": {},
   "outputs": [],
   "source": [
    "from sklearn.svm import SVR   # de la librería sklearn aplicamos otro modelo, en este caso SVR.\n",
    "model2=SVR()"
   ]
  },
  {
   "cell_type": "code",
   "execution_count": 50,
   "id": "2cd2ba48-3854-4071-baad-38f270df436f",
   "metadata": {},
   "outputs": [
    {
     "data": {
      "text/plain": [
       "SVR()"
      ]
     },
     "execution_count": 50,
     "metadata": {},
     "output_type": "execute_result"
    }
   ],
   "source": [
    "model2.fit(X=df[['weight']], y=df['mpg'])"
   ]
  },
  {
   "cell_type": "code",
   "execution_count": 51,
   "id": "a58b55ed-30bb-424a-b738-24405196dfa8",
   "metadata": {},
   "outputs": [
    {
     "data": {
      "text/plain": [
       "array([21.05964804, 21.05798188, 21.05964804, 21.05853474, 21.05909012,\n",
       "       21.05798188, 21.05743153, 21.05743153, 21.05743153, 21.05798188,\n",
       "       21.05798188, 21.05743153, 21.05798188, 21.05743153, 21.06304926,\n",
       "       21.06190522, 21.05964804, 21.06133707, 21.06478487, 21.06420371,\n",
       "       21.06362518, 21.06304926, 21.06362518, 21.06420371, 21.06133707,\n",
       "       21.05525507, 21.05525507, 21.05579547, 21.05471715, 21.06478487,\n",
       "       21.06536865, 21.06362518, 21.06362518, 21.06020849, 21.05853474,\n",
       "       21.05909012, 21.06020849, 21.05964804, 21.05743153, 21.05743153,\n",
       "       21.05743153, 21.05743153, 21.05633833, 21.05688369, 21.05688369,\n",
       "       21.05964804, 21.06190522, 21.06020849, 21.05964804, 21.06247594,\n",
       "       21.06536865, 21.06654416, 21.06654416, 21.0671359 , 21.0695297 ,\n",
       "       21.06478487, 21.06420371, 21.06304926, 21.06362518, 21.06247594,\n",
       "       21.0607715 , 21.06133707, 21.05688369, 21.05743153, 21.05798188,\n",
       "       21.05743153, 21.05909012, 21.05579547, 21.05688369, 21.05633833,\n",
       "       21.05688369, 21.06020849, 21.05798188, 21.05688369, 21.05688369,\n",
       "       21.05743153, 21.05964804, 21.06190522, 21.06133707, 21.06420371,\n",
       "       21.06190522, 21.06536865, 21.06247594, 21.06536865, 21.06478487,\n",
       "       21.05688369, 21.05743153, 21.05688369, 21.05743153, 21.05798188,\n",
       "       21.05633833, 21.05688369, 21.05688369, 21.05743153, 21.05688369,\n",
       "       21.05633833, 21.05688369, 21.05964804, 21.05853474, 21.05964804,\n",
       "       21.05964804, 21.06247594, 21.06420371, 21.05579547, 21.05633833,\n",
       "       21.05688369, 21.05633833, 21.05964804, 21.0607715 , 21.06133707,\n",
       "       21.06190522, 21.05964804, 21.06020849, 21.06133707, 21.06420371,\n",
       "       21.05798188, 21.05853474, 21.06595508, 21.06304926, 21.0607715 ,\n",
       "       21.06020849, 21.05798188, 21.06304926, 21.0607715 , 21.05579547,\n",
       "       21.0607715 , 21.06133707, 21.06020849, 21.05798188, 21.0671359 ,\n",
       "       21.06420371, 21.06773032, 21.06362518, 21.05853474, 21.05853474,\n",
       "       21.05964804, 21.05853474, 21.05688369, 21.05743153, 21.05743153,\n",
       "       21.05743153, 21.06595508, 21.06420371, 21.06420371, 21.0671359 ,\n",
       "       21.06773032, 21.06536865, 21.06304926, 21.06420371, 21.06304926,\n",
       "       21.06420371, 21.0671359 , 21.06020849, 21.05964804, 21.05798188,\n",
       "       21.05798188, 21.05853474, 21.05798188, 21.05853474, 21.05743153,\n",
       "       21.05909012, 21.05853474, 21.05798188, 21.05964804, 21.06133707,\n",
       "       21.0607715 , 21.05688369, 21.06595508, 21.06247594, 21.0607715 ,\n",
       "       21.06247594, 21.06304926, 21.06362518, 21.06304926, 21.05964804,\n",
       "       21.06595508, 21.06020849, 21.06247594, 21.06247594, 21.06190522,\n",
       "       21.06362518, 21.06832741, 21.06536865, 21.06362518, 21.06362518,\n",
       "       21.06420371, 21.06478487, 21.05936876, 21.05853474, 21.05825799,\n",
       "       21.05770639, 21.06190522, 21.06190522, 21.06304926, 21.06219026,\n",
       "       21.06595508, 21.0633369 , 21.06595508, 21.06832741, 21.0607715 ,\n",
       "       21.05964804, 21.05992795, 21.05936876, 21.06624929, 21.06773032,\n",
       "       21.06536865, 21.06449396, 21.0607715 , 21.05688369, 21.06020849,\n",
       "       21.06020849, 21.05881211, 21.05881211, 21.05688369, 21.05688369,\n",
       "       21.05688369, 21.06743277, 21.06654416, 21.07013491, 21.06391412,\n",
       "       21.06862697, 21.05936876, 21.05909012, 21.05825799, 21.05798188,\n",
       "       21.05936876, 21.06105397, 21.06020849, 21.05992795, 21.05853474,\n",
       "       21.05825799, 21.05825799, 21.05853474, 21.06595508, 21.0633369 ,\n",
       "       21.06420371, 21.06391412, 21.0668397 , 21.06862697, 21.06654416,\n",
       "       21.0668397 , 21.06190522, 21.06162082, 21.06162082, 21.07451084,\n",
       "       21.07019558, 21.06820778, 21.07221306, 21.07019558, 21.06071509,\n",
       "       21.06043339, 21.06088441, 21.06032089, 21.06105397, 21.06088441,\n",
       "       21.06368292, 21.06105397, 21.06043339, 21.06111054, 21.06122375,\n",
       "       21.059984  , 21.05970397, 21.06032089, 21.05948039, 21.05970397,\n",
       "       21.05936876, 21.06654416, 21.06507643, 21.06490141, 21.06707661,\n",
       "       21.06139377, 21.0625904 , 21.06293439, 21.06299181, 21.0609409 ,\n",
       "       21.05909012, 21.06167765, 21.05864561, 21.06743277, 21.06624929,\n",
       "       21.06162082, 21.0606587 , 21.06207616, 21.06088441, 21.06111054,\n",
       "       21.05909012, 21.05942456, 21.05881211, 21.05975992, 21.05903447,\n",
       "       21.05825799, 21.06032089, 21.05992795, 21.06767075, 21.06898733,\n",
       "       21.06995306, 21.06501806, 21.06385628, 21.06247594, 21.06490141,\n",
       "       21.06299181, 21.06904749, 21.06922812, 21.06761122, 21.07092576,\n",
       "       21.0656029 , 21.06583758, 21.06466842, 21.06862697, 21.07351254,\n",
       "       21.07141473, 21.06778991, 21.07086476, 21.06536865, 21.06443586,\n",
       "       21.06322176, 21.06026468, 21.06910767, 21.06642613, 21.06731394,\n",
       "       21.07074284, 21.06784952, 21.07671967, 21.06531015, 21.07307802,\n",
       "       21.07526427, 21.07469882, 21.07037776, 21.06654416, 21.07545326,\n",
       "       21.07314001, 21.06880703, 21.06642613, 21.068148  , 21.06287699,\n",
       "       21.0695297 , 21.06281962, 21.06796883, 21.06490141, 21.06455209,\n",
       "       21.0640878 , 21.06276228, 21.06654416, 21.07202842, 21.07196693,\n",
       "       21.0695901 , 21.06790916, 21.07074284, 21.07117002, 21.06898733,\n",
       "       21.06934867, 21.06916788, 21.06648513, 21.06832741, 21.06922812,\n",
       "       21.06874699, 21.06796883, 21.06826758, 21.06749223, 21.06542717,\n",
       "       21.0669581 , 21.06385628, 21.06316424, 21.0621332 , 21.06455209,\n",
       "       21.06088441, 21.05942456, 21.06536865, 21.06478487, 21.06892721,\n",
       "       21.0671359 , 21.06595508, 21.06478487, 21.06304926, 21.06247594,\n",
       "       21.07013491, 21.07074284, 21.0671359 , 21.07135351, 21.07013491,\n",
       "       21.07013491, 21.07013491, 21.06892721, 21.07135351, 21.06773032,\n",
       "       21.07135351, 21.06362518, 21.07135351, 21.06420371, 21.06190522,\n",
       "       21.06773032, 21.07013491, 21.06478487, 21.06478487, 21.07507553,\n",
       "       21.06773032, 21.06536865, 21.0671359 ])"
      ]
     },
     "execution_count": 51,
     "metadata": {},
     "output_type": "execute_result"
    }
   ],
   "source": [
    "model2.predict(X=df[['mpg']])"
   ]
  },
  {
   "cell_type": "code",
   "execution_count": 53,
   "id": "8756ccdb-c10d-4683-a420-93cc23c56e63",
   "metadata": {},
   "outputs": [],
   "source": [
    "dfsel['pred_sv'] = model2.predict(X=df[['weight']])\n"
   ]
  },
  {
   "cell_type": "code",
   "execution_count": 54,
   "id": "79fe2b10-6be2-4e3a-8d7f-2ee86b14ed09",
   "metadata": {},
   "outputs": [
    {
     "data": {
      "text/html": [
       "<div>\n",
       "<style scoped>\n",
       "    .dataframe tbody tr th:only-of-type {\n",
       "        vertical-align: middle;\n",
       "    }\n",
       "\n",
       "    .dataframe tbody tr th {\n",
       "        vertical-align: top;\n",
       "    }\n",
       "\n",
       "    .dataframe thead th {\n",
       "        text-align: right;\n",
       "    }\n",
       "</style>\n",
       "<table border=\"1\" class=\"dataframe\">\n",
       "  <thead>\n",
       "    <tr style=\"text-align: right;\">\n",
       "      <th></th>\n",
       "      <th>weight</th>\n",
       "      <th>mpg</th>\n",
       "      <th>pred_lr</th>\n",
       "      <th>pred_sv</th>\n",
       "    </tr>\n",
       "  </thead>\n",
       "  <tbody>\n",
       "    <tr>\n",
       "      <th>0</th>\n",
       "      <td>3504</td>\n",
       "      <td>18.0</td>\n",
       "      <td>19.418523</td>\n",
       "      <td>17.929213</td>\n",
       "    </tr>\n",
       "    <tr>\n",
       "      <th>1</th>\n",
       "      <td>3693</td>\n",
       "      <td>15.0</td>\n",
       "      <td>17.967643</td>\n",
       "      <td>16.988791</td>\n",
       "    </tr>\n",
       "    <tr>\n",
       "      <th>2</th>\n",
       "      <td>3436</td>\n",
       "      <td>18.0</td>\n",
       "      <td>19.940532</td>\n",
       "      <td>18.297229</td>\n",
       "    </tr>\n",
       "    <tr>\n",
       "      <th>3</th>\n",
       "      <td>3433</td>\n",
       "      <td>16.0</td>\n",
       "      <td>19.963562</td>\n",
       "      <td>18.313906</td>\n",
       "    </tr>\n",
       "    <tr>\n",
       "      <th>4</th>\n",
       "      <td>3449</td>\n",
       "      <td>17.0</td>\n",
       "      <td>19.840736</td>\n",
       "      <td>18.225404</td>\n",
       "    </tr>\n",
       "    <tr>\n",
       "      <th>...</th>\n",
       "      <td>...</td>\n",
       "      <td>...</td>\n",
       "      <td>...</td>\n",
       "      <td>...</td>\n",
       "    </tr>\n",
       "    <tr>\n",
       "      <th>393</th>\n",
       "      <td>2790</td>\n",
       "      <td>27.0</td>\n",
       "      <td>24.899622</td>\n",
       "      <td>23.018389</td>\n",
       "    </tr>\n",
       "    <tr>\n",
       "      <th>394</th>\n",
       "      <td>2130</td>\n",
       "      <td>44.0</td>\n",
       "      <td>29.966185</td>\n",
       "      <td>29.949321</td>\n",
       "    </tr>\n",
       "    <tr>\n",
       "      <th>395</th>\n",
       "      <td>2295</td>\n",
       "      <td>32.0</td>\n",
       "      <td>28.699544</td>\n",
       "      <td>28.299468</td>\n",
       "    </tr>\n",
       "    <tr>\n",
       "      <th>396</th>\n",
       "      <td>2625</td>\n",
       "      <td>28.0</td>\n",
       "      <td>26.166263</td>\n",
       "      <td>24.660799</td>\n",
       "    </tr>\n",
       "    <tr>\n",
       "      <th>397</th>\n",
       "      <td>2720</td>\n",
       "      <td>31.0</td>\n",
       "      <td>25.436985</td>\n",
       "      <td>23.692152</td>\n",
       "    </tr>\n",
       "  </tbody>\n",
       "</table>\n",
       "<p>398 rows × 4 columns</p>\n",
       "</div>"
      ],
      "text/plain": [
       "     weight   mpg    pred_lr    pred_sv\n",
       "0      3504  18.0  19.418523  17.929213\n",
       "1      3693  15.0  17.967643  16.988791\n",
       "2      3436  18.0  19.940532  18.297229\n",
       "3      3433  16.0  19.963562  18.313906\n",
       "4      3449  17.0  19.840736  18.225404\n",
       "..      ...   ...        ...        ...\n",
       "393    2790  27.0  24.899622  23.018389\n",
       "394    2130  44.0  29.966185  29.949321\n",
       "395    2295  32.0  28.699544  28.299468\n",
       "396    2625  28.0  26.166263  24.660799\n",
       "397    2720  31.0  25.436985  23.692152\n",
       "\n",
       "[398 rows x 4 columns]"
      ]
     },
     "execution_count": 54,
     "metadata": {},
     "output_type": "execute_result"
    }
   ],
   "source": [
    "dfsel"
   ]
  },
  {
   "cell_type": "code",
   "execution_count": 55,
   "id": "fe50b399-7212-42e6-9471-746ea7721841",
   "metadata": {},
   "outputs": [
    {
     "data": {
      "text/plain": [
       "<AxesSubplot:xlabel='weight', ylabel='mpg'>"
      ]
     },
     "execution_count": 55,
     "metadata": {},
     "output_type": "execute_result"
    },
    {
     "data": {
      "image/png": "[encoded data removed]",
      "text/plain": [
       "<Figure size 432x288 with 1 Axes>"
      ]
     },
     "metadata": {
      "needs_background": "light"
     },
     "output_type": "display_data"
    }
   ],
   "source": [
    "sns.scatterplot(x='weight', y='mpg', data=df)\n",
    "sns.lineplot(x='weight', y='pred_lr', data=dfsel, color='red')\n",
    "sns.lineplot(x='weight', y='pred_sv', data=dfsel, color='green')"
   ]
  },
  {
   "cell_type": "code",
   "execution_count": 57,
   "id": "97ab55d7-1b40-4e98-aee5-0f95216b340a",
   "metadata": {},
   "outputs": [
    {
     "data": {
      "text/plain": [
       "0.702445706061313"
      ]
     },
     "execution_count": 57,
     "metadata": {},
     "output_type": "execute_result"
    }
   ],
   "source": [
    "model2.score(X=df[['weight']],y=df['mpg'])"
   ]
  },
  {
   "cell_type": "code",
   "execution_count": null,
   "id": "fc394117-aaea-4086-9f17-631235058238",
   "metadata": {},
   "outputs": [],
   "source": []
  }
 ],
 "metadata": {
  "kernelspec": {
   "display_name": "Python 3 (ipykernel)",
   "language": "python",
   "name": "python3"
  },
  "language_info": {
   "codemirror_mode": {
    "name": "ipython",
    "version": 3
   },
   "file_extension": ".py",
   "mimetype": "text/x-python",
   "name": "python",
   "nbconvert_exporter": "python",
   "pygments_lexer": "ipython3",
   "version": "3.9.7"
  }
 },
 "nbformat": 4,
 "nbformat_minor": 5
}
