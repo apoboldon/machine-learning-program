{
 "cells": [
  {
   "cell_type": "markdown",
   "metadata": {},
   "source": [
    "<font size=\"+5\">#02. Machine Learning & Linear Regression</font>"
   ]
  },
  {
   "cell_type": "markdown",
   "metadata": {},
   "source": [
    "<ul>\n",
    "    <li>Doubts? → Ask me in <img src=\"https://emoji.gg/assets/emoji/3970-discord.png\" style=\"height: 1em; vertical-align: middle;\"> <a href=\"https://discord.gg/cmB3KGsqMy\">Discord</a></li>\n",
    "    <li>Tutorials → <img src=\"https://openmoji.org/php/download_asset.php?type=emoji&emoji_hexcode=E044&emoji_variant=color\" style=\"height: 1em; vertical-align: middle;\"> <a href=\"https://www.youtube.com/channel/UCovCte2I3loteQE_kRsfQcw\">YouTube</a></li>\n",
    "    <li>Book Private Lessons → <span style=\"color: orange\">@</span> <a href=\"https://sotastica.com/reservar\">sotastica</a></li>\n",
    "</ul>"
   ]
  },
  {
   "cell_type": "markdown",
   "metadata": {},
   "source": [
    "# Load the Data"
   ]
  },
  {
   "cell_type": "markdown",
   "metadata": {},
   "source": [
    "> - Simply execute the following lines of code to load the data.\n",
    "> - This dataset contains **statistics about Car Accidents** (columns)\n",
    "> - In each one of **USA States** (rows)"
   ]
  },
  {
   "cell_type": "code",
   "execution_count": 3,
   "metadata": {},
   "outputs": [
    {
     "data": {
      "text/html": [
       "<div>\n",
       "<style scoped>\n",
       "    .dataframe tbody tr th:only-of-type {\n",
       "        vertical-align: middle;\n",
       "    }\n",
       "\n",
       "    .dataframe tbody tr th {\n",
       "        vertical-align: top;\n",
       "    }\n",
       "\n",
       "    .dataframe thead th {\n",
       "        text-align: right;\n",
       "    }\n",
       "</style>\n",
       "<table border=\"1\" class=\"dataframe\">\n",
       "  <thead>\n",
       "    <tr style=\"text-align: right;\">\n",
       "      <th></th>\n",
       "      <th>total</th>\n",
       "      <th>speeding</th>\n",
       "      <th>alcohol</th>\n",
       "      <th>not_distracted</th>\n",
       "      <th>no_previous</th>\n",
       "      <th>ins_premium</th>\n",
       "      <th>ins_losses</th>\n",
       "    </tr>\n",
       "    <tr>\n",
       "      <th>abbrev</th>\n",
       "      <th></th>\n",
       "      <th></th>\n",
       "      <th></th>\n",
       "      <th></th>\n",
       "      <th></th>\n",
       "      <th></th>\n",
       "      <th></th>\n",
       "    </tr>\n",
       "  </thead>\n",
       "  <tbody>\n",
       "    <tr>\n",
       "      <th>AK</th>\n",
       "      <td>18.1</td>\n",
       "      <td>7.421</td>\n",
       "      <td>4.525</td>\n",
       "      <td>16.290</td>\n",
       "      <td>17.014</td>\n",
       "      <td>1053.48</td>\n",
       "      <td>133.93</td>\n",
       "    </tr>\n",
       "    <tr>\n",
       "      <th>NC</th>\n",
       "      <td>16.8</td>\n",
       "      <td>6.552</td>\n",
       "      <td>5.208</td>\n",
       "      <td>15.792</td>\n",
       "      <td>13.608</td>\n",
       "      <td>708.24</td>\n",
       "      <td>127.82</td>\n",
       "    </tr>\n",
       "    <tr>\n",
       "      <th>TX</th>\n",
       "      <td>19.4</td>\n",
       "      <td>7.760</td>\n",
       "      <td>7.372</td>\n",
       "      <td>17.654</td>\n",
       "      <td>16.878</td>\n",
       "      <td>1004.75</td>\n",
       "      <td>156.83</td>\n",
       "    </tr>\n",
       "    <tr>\n",
       "      <th>VA</th>\n",
       "      <td>12.7</td>\n",
       "      <td>2.413</td>\n",
       "      <td>3.429</td>\n",
       "      <td>11.049</td>\n",
       "      <td>11.176</td>\n",
       "      <td>768.95</td>\n",
       "      <td>153.72</td>\n",
       "    </tr>\n",
       "    <tr>\n",
       "      <th>KS</th>\n",
       "      <td>17.8</td>\n",
       "      <td>4.806</td>\n",
       "      <td>4.272</td>\n",
       "      <td>13.706</td>\n",
       "      <td>15.130</td>\n",
       "      <td>780.45</td>\n",
       "      <td>133.80</td>\n",
       "    </tr>\n",
       "    <tr>\n",
       "      <th>WA</th>\n",
       "      <td>10.6</td>\n",
       "      <td>4.452</td>\n",
       "      <td>3.498</td>\n",
       "      <td>8.692</td>\n",
       "      <td>9.116</td>\n",
       "      <td>890.03</td>\n",
       "      <td>111.62</td>\n",
       "    </tr>\n",
       "    <tr>\n",
       "      <th>OR</th>\n",
       "      <td>12.8</td>\n",
       "      <td>4.224</td>\n",
       "      <td>3.328</td>\n",
       "      <td>8.576</td>\n",
       "      <td>11.520</td>\n",
       "      <td>804.71</td>\n",
       "      <td>104.61</td>\n",
       "    </tr>\n",
       "    <tr>\n",
       "      <th>MD</th>\n",
       "      <td>12.5</td>\n",
       "      <td>4.250</td>\n",
       "      <td>4.000</td>\n",
       "      <td>8.875</td>\n",
       "      <td>12.375</td>\n",
       "      <td>1048.78</td>\n",
       "      <td>192.70</td>\n",
       "    </tr>\n",
       "    <tr>\n",
       "      <th>DE</th>\n",
       "      <td>16.2</td>\n",
       "      <td>6.156</td>\n",
       "      <td>4.860</td>\n",
       "      <td>14.094</td>\n",
       "      <td>16.038</td>\n",
       "      <td>1137.87</td>\n",
       "      <td>151.48</td>\n",
       "    </tr>\n",
       "    <tr>\n",
       "      <th>WI</th>\n",
       "      <td>13.8</td>\n",
       "      <td>4.968</td>\n",
       "      <td>4.554</td>\n",
       "      <td>5.382</td>\n",
       "      <td>11.592</td>\n",
       "      <td>670.31</td>\n",
       "      <td>106.62</td>\n",
       "    </tr>\n",
       "  </tbody>\n",
       "</table>\n",
       "</div>"
      ],
      "text/plain": [
       "        total  speeding  alcohol  not_distracted  no_previous  ins_premium  \\\n",
       "abbrev                                                                       \n",
       "AK       18.1     7.421    4.525          16.290       17.014      1053.48   \n",
       "NC       16.8     6.552    5.208          15.792       13.608       708.24   \n",
       "TX       19.4     7.760    7.372          17.654       16.878      1004.75   \n",
       "VA       12.7     2.413    3.429          11.049       11.176       768.95   \n",
       "KS       17.8     4.806    4.272          13.706       15.130       780.45   \n",
       "WA       10.6     4.452    3.498           8.692        9.116       890.03   \n",
       "OR       12.8     4.224    3.328           8.576       11.520       804.71   \n",
       "MD       12.5     4.250    4.000           8.875       12.375      1048.78   \n",
       "DE       16.2     6.156    4.860          14.094       16.038      1137.87   \n",
       "WI       13.8     4.968    4.554           5.382       11.592       670.31   \n",
       "\n",
       "        ins_losses  \n",
       "abbrev              \n",
       "AK          133.93  \n",
       "NC          127.82  \n",
       "TX          156.83  \n",
       "VA          153.72  \n",
       "KS          133.80  \n",
       "WA          111.62  \n",
       "OR          104.61  \n",
       "MD          192.70  \n",
       "DE          151.48  \n",
       "WI          106.62  "
      ]
     },
     "execution_count": 3,
     "metadata": {},
     "output_type": "execute_result"
    }
   ],
   "source": [
    "import seaborn as sns\n",
    "\n",
    "df = sns.load_dataset(name='car_crashes', index_col='abbrev')\n",
    "df.sample(10)"
   ]
  },
  {
   "cell_type": "code",
   "execution_count": null,
   "metadata": {},
   "outputs": [
    {
     "data": {
      "text/plain": [
       "total              15.790196\n",
       "speeding            4.998196\n",
       "alcohol             4.886784\n",
       "not_distracted     13.573176\n",
       "no_previous        14.004882\n",
       "ins_premium       886.957647\n",
       "ins_losses        134.493137\n",
       "dtype: float64"
      ]
     },
     "execution_count": 4,
     "metadata": {},
     "output_type": "execute_result"
    }
   ],
   "source": [
    "df.mean()"
   ]
  },
  {
   "cell_type": "code",
   "execution_count": 10,
   "metadata": {},
   "outputs": [
    {
     "name": "stdout",
     "output_type": "stream",
     "text": [
      "15.79019607843137\n",
      "4.998196078431373\n",
      "4.88678431372549\n",
      "13.573176470588232\n",
      "14.004882352941172\n",
      "886.9576470588232\n",
      "134.49313725490197\n"
     ]
    }
   ],
   "source": [
    "for i in df:\n",
    "    suma = sum(df[i])\n",
    "    n_personas = len(df[i])\n",
    "    \n",
    "    media = suma/n_personas\n",
    "    print(media)"
   ]
  },
  {
   "cell_type": "markdown",
   "metadata": {},
   "source": [
    "# Data Visualization to Analyize Patterns"
   ]
  },
  {
   "cell_type": "markdown",
   "metadata": {},
   "source": [
    "> Choose two variables that have a relationship. For example, would the `total` number of accidents **increase** if alcohol also increases?\n",
    "> As the 2 variables are **numerical**, visualize the data with a `scatterplot()`.\n",
    "> \n",
    "> - Is there a figure that can represents the relationship between these 2 variables? Which one?"
   ]
  },
  {
   "cell_type": "code",
   "execution_count": 3,
   "metadata": {},
   "outputs": [
    {
     "data": {
      "text/plain": [
       "<AxesSubplot:xlabel='alcohol', ylabel='total'>"
      ]
     },
     "execution_count": 3,
     "metadata": {},
     "output_type": "execute_result"
    },
    {
     "data": {
      "image/png": "[encoded data removed]",
      "text/plain": [
       "<Figure size 432x288 with 1 Axes>"
      ]
     },
     "metadata": {
      "needs_background": "light"
     },
     "output_type": "display_data"
    }
   ],
   "source": [
    "sns.scatterplot(x='alcohol',y='total',data=df)"
   ]
  },
  {
   "cell_type": "markdown",
   "metadata": {
    "tags": []
   },
   "source": [
    "# Machine Learning, what does it mean?"
   ]
  },
  {
   "cell_type": "markdown",
   "metadata": {},
   "source": [
    "> - The Machine Learns...\n",
    ">\n",
    "> But, **what does it learn?**"
   ]
  },
  {
   "cell_type": "code",
   "execution_count": 4,
   "metadata": {},
   "outputs": [
    {
     "data": {
      "text/html": [
       "<blockquote class=\"twitter-tweet\" data-lang=\"en\"><p lang=\"en\" dir=\"ltr\">Machine Learning, what does it mean? ⏯<br><br>· The machine learns...<br><br>Ha ha, not funny! 🤨 What does it learn?<br><br>· A mathematical equation. For example: <a href=\"https://t.co/sjtq9F2pq7\">pic.twitter.com/sjtq9F2pq7</a></p>&mdash; Jesús López (@sotastica) <a href=\"https://twitter.com/sotastica/status/1449735653328031745?ref_src=twsrc%5Etfw\">October 17, 2021</a></blockquote> <script async src=\"https://platform.twitter.com/widgets.js\" charset=\"utf-8\"></script>\n"
      ],
      "text/plain": [
       "<IPython.core.display.HTML object>"
      ]
     },
     "metadata": {},
     "output_type": "display_data"
    }
   ],
   "source": [
    "%%HTML\n",
    "<blockquote class=\"twitter-tweet\" data-lang=\"en\"><p lang=\"en\" dir=\"ltr\">Machine Learning, what does it mean? ⏯<br><br>· The machine learns...<br><br>Ha ha, not funny! 🤨 What does it learn?<br><br>· A mathematical equation. For example: <a href=\"https://t.co/sjtq9F2pq7\">pic.twitter.com/sjtq9F2pq7</a></p>&mdash; Jesús López (@sotastica) <a href=\"https://twitter.com/sotastica/status/1449735653328031745?ref_src=twsrc%5Etfw\">October 17, 2021</a></blockquote> <script async src=\"https://platform.twitter.com/widgets.js\" charset=\"utf-8\"></script>"
   ]
  },
  {
   "cell_type": "markdown",
   "metadata": {},
   "source": [
    "# How does the Machine Learn?"
   ]
  },
  {
   "cell_type": "markdown",
   "metadata": {},
   "source": [
    "## In a Linear Regression"
   ]
  },
  {
   "cell_type": "code",
   "execution_count": 1,
   "metadata": {},
   "outputs": [
    {
     "data": {
      "text/html": [
       "<iframe width=\"560\" height=\"315\" src=\"https://www.youtube.com/embed/Ht3rYS-JilE\" title=\"YouTube video player\" frameborder=\"0\" allow=\"accelerometer; autoplay; clipboard-write; encrypted-media; gyroscope; picture-in-picture\" allowfullscreen></iframe>\n"
      ],
      "text/plain": [
       "<IPython.core.display.HTML object>"
      ]
     },
     "metadata": {},
     "output_type": "display_data"
    }
   ],
   "source": [
    "%%HTML\n",
    "<iframe width=\"560\" height=\"315\" src=\"https://www.youtube.com/embed/Ht3rYS-JilE\" title=\"YouTube video player\" frameborder=\"0\" allow=\"accelerometer; autoplay; clipboard-write; encrypted-media; gyroscope; picture-in-picture\" allowfullscreen></iframe>"
   ]
  },
  {
   "cell_type": "markdown",
   "metadata": {},
   "source": [
    "## In a Neural Network"
   ]
  },
  {
   "cell_type": "code",
   "execution_count": 11,
   "metadata": {},
   "outputs": [
    {
     "data": {
      "text/html": [
       "<iframe width=\"560\" height=\"315\" src=\"https://www.youtube.com/embed/IHZwWFHWa-w?start=36\" title=\"YouTube video player\" frameborder=\"0\" allow=\"accelerometer; autoplay; clipboard-write; encrypted-media; gyroscope; picture-in-picture\" allowfullscreen></iframe>\n"
      ],
      "text/plain": [
       "<IPython.core.display.HTML object>"
      ]
     },
     "metadata": {},
     "output_type": "display_data"
    }
   ],
   "source": [
    "%%HTML\n",
    "<iframe width=\"560\" height=\"315\" src=\"https://www.youtube.com/embed/IHZwWFHWa-w?start=36\" title=\"YouTube video player\" frameborder=\"0\" allow=\"accelerometer; autoplay; clipboard-write; encrypted-media; gyroscope; picture-in-picture\" allowfullscreen></iframe>"
   ]
  },
  {
   "cell_type": "markdown",
   "metadata": {},
   "source": [
    "A Practical Example → [Tesla Autopilot](https://www.tesla.com/AI)"
   ]
  },
  {
   "cell_type": "markdown",
   "metadata": {},
   "source": [
    "An Example where It Fails → [Tesla Confuses Moon with Semaphore](https://twitter.com/Carnage4Life/status/1418920100086784000?s=20)"
   ]
  },
  {
   "cell_type": "markdown",
   "metadata": {
    "tags": []
   },
   "source": [
    "# `LinearRegression()` Model in Python"
   ]
  },
  {
   "cell_type": "markdown",
   "metadata": {},
   "source": [
    "## Build the Model"
   ]
  },
  {
   "cell_type": "markdown",
   "metadata": {},
   "source": [
    "> 1. **Necesity**: Build Model\n",
    "> 2. **Google**: How do you search for the solution?\n",
    "> 3. **Solution**: Find the `function()` that makes it happen"
   ]
  },
  {
   "cell_type": "markdown",
   "metadata": {},
   "source": [
    "## Code Thinking\n",
    "\n",
    "> Which function computes the Model?\n",
    "> - `fit()`\n",
    ">\n",
    "> How could can you **import the function in Python**?"
   ]
  },
  {
   "cell_type": "code",
   "execution_count": 2,
   "metadata": {},
   "outputs": [
    {
     "ename": "NameError",
     "evalue": "name 'df' is not defined",
     "output_type": "error",
     "traceback": [
      "\u001b[0;31m---------------------------------------------------------------------------\u001b[0m",
      "\u001b[0;31mNameError\u001b[0m                                 Traceback (most recent call last)",
      "\u001b[0;32m/var/folders/24/tg28vxls25l9mjvqrnh0plc80000gn/T/ipykernel_33073/1396537375.py\u001b[0m in \u001b[0;36m<module>\u001b[0;34m\u001b[0m\n\u001b[0;32m----> 1\u001b[0;31m \u001b[0mdf\u001b[0m\u001b[0;34m\u001b[0m\u001b[0;34m\u001b[0m\u001b[0m\n\u001b[0m",
      "\u001b[0;31mNameError\u001b[0m: name 'df' is not defined"
     ]
    }
   ],
   "source": [
    "df"
   ]
  },
  {
   "cell_type": "code",
   "execution_count": 7,
   "metadata": {},
   "outputs": [
    {
     "ename": "NameError",
     "evalue": "name 'fit' is not defined",
     "output_type": "error",
     "traceback": [
      "\u001b[0;31m---------------------------------------------------------------------------\u001b[0m",
      "\u001b[0;31mNameError\u001b[0m                                 Traceback (most recent call last)",
      "\u001b[0;32m/var/folders/24/tg28vxls25l9mjvqrnh0plc80000gn/T/ipykernel_33236/3324602025.py\u001b[0m in \u001b[0;36m<module>\u001b[0;34m\u001b[0m\n\u001b[0;32m----> 1\u001b[0;31m \u001b[0mfit\u001b[0m\u001b[0;34m(\u001b[0m\u001b[0;34m)\u001b[0m\u001b[0;34m\u001b[0m\u001b[0;34m\u001b[0m\u001b[0m\n\u001b[0m",
      "\u001b[0;31mNameError\u001b[0m: name 'fit' is not defined"
     ]
    }
   ],
   "source": [
    "fit()"
   ]
  },
  {
   "cell_type": "markdown",
   "metadata": {},
   "source": [
    "`algo.fit()`"
   ]
  },
  {
   "cell_type": "code",
   "execution_count": 8,
   "metadata": {},
   "outputs": [
    {
     "ename": "NameError",
     "evalue": "name 'algo' is not defined",
     "output_type": "error",
     "traceback": [
      "\u001b[0;31m---------------------------------------------------------------------------\u001b[0m",
      "\u001b[0;31mNameError\u001b[0m                                 Traceback (most recent call last)",
      "\u001b[0;32m/var/folders/24/tg28vxls25l9mjvqrnh0plc80000gn/T/ipykernel_33236/22777151.py\u001b[0m in \u001b[0;36m<module>\u001b[0;34m\u001b[0m\n\u001b[0;32m----> 1\u001b[0;31m \u001b[0malgo\u001b[0m\u001b[0;34m.\u001b[0m\u001b[0mfit\u001b[0m\u001b[0;34m(\u001b[0m\u001b[0;34m)\u001b[0m\u001b[0;34m\u001b[0m\u001b[0;34m\u001b[0m\u001b[0m\n\u001b[0m",
      "\u001b[0;31mNameError\u001b[0m: name 'algo' is not defined"
     ]
    }
   ],
   "source": [
    "algo.fit()"
   ]
  },
  {
   "cell_type": "markdown",
   "metadata": {},
   "source": [
    "`algo = ?`"
   ]
  },
  {
   "cell_type": "code",
   "execution_count": 9,
   "metadata": {},
   "outputs": [
    {
     "ename": "NameError",
     "evalue": "name 'LinearRegression' is not defined",
     "output_type": "error",
     "traceback": [
      "\u001b[0;31m---------------------------------------------------------------------------\u001b[0m",
      "\u001b[0;31mNameError\u001b[0m                                 Traceback (most recent call last)",
      "\u001b[0;32m/var/folders/24/tg28vxls25l9mjvqrnh0plc80000gn/T/ipykernel_33236/3004910424.py\u001b[0m in \u001b[0;36m<module>\u001b[0;34m\u001b[0m\n\u001b[0;32m----> 1\u001b[0;31m \u001b[0malgo\u001b[0m \u001b[0;34m=\u001b[0m \u001b[0mLinearRegression\u001b[0m\u001b[0;34m(\u001b[0m\u001b[0;34m)\u001b[0m\u001b[0;34m\u001b[0m\u001b[0;34m\u001b[0m\u001b[0m\n\u001b[0m",
      "\u001b[0;31mNameError\u001b[0m: name 'LinearRegression' is not defined"
     ]
    }
   ],
   "source": [
    "algo = LinearRegression()"
   ]
  },
  {
   "cell_type": "code",
   "execution_count": 10,
   "metadata": {},
   "outputs": [],
   "source": [
    "from sklearn.linear_model import LinearRegression"
   ]
  },
  {
   "cell_type": "code",
   "execution_count": 11,
   "metadata": {},
   "outputs": [],
   "source": [
    "algo = LinearRegression()"
   ]
  },
  {
   "cell_type": "code",
   "execution_count": 12,
   "metadata": {},
   "outputs": [
    {
     "data": {
      "text/plain": [
       "{'fit_intercept': True,\n",
       " 'normalize': False,\n",
       " 'copy_X': True,\n",
       " 'n_jobs': None,\n",
       " 'positive': False}"
      ]
     },
     "execution_count": 12,
     "metadata": {},
     "output_type": "execute_result"
    }
   ],
   "source": [
    "algo.__dict__"
   ]
  },
  {
   "cell_type": "code",
   "execution_count": 13,
   "metadata": {},
   "outputs": [
    {
     "ename": "TypeError",
     "evalue": "fit() missing 2 required positional arguments: 'X' and 'y'",
     "output_type": "error",
     "traceback": [
      "\u001b[0;31m---------------------------------------------------------------------------\u001b[0m",
      "\u001b[0;31mTypeError\u001b[0m                                 Traceback (most recent call last)",
      "\u001b[0;32m/var/folders/24/tg28vxls25l9mjvqrnh0plc80000gn/T/ipykernel_33236/22777151.py\u001b[0m in \u001b[0;36m<module>\u001b[0;34m\u001b[0m\n\u001b[0;32m----> 1\u001b[0;31m \u001b[0malgo\u001b[0m\u001b[0;34m.\u001b[0m\u001b[0mfit\u001b[0m\u001b[0;34m(\u001b[0m\u001b[0;34m)\u001b[0m\u001b[0;34m\u001b[0m\u001b[0;34m\u001b[0m\u001b[0m\n\u001b[0m",
      "\u001b[0;31mTypeError\u001b[0m: fit() missing 2 required positional arguments: 'X' and 'y'"
     ]
    }
   ],
   "source": [
    "algo.fit()"
   ]
  },
  {
   "cell_type": "markdown",
   "metadata": {
    "tags": []
   },
   "source": [
    "### Separate Variables for the Model\n",
    "\n",
    "> Regarding their role:\n",
    "> 1. **Target Variable `y`**\n",
    ">\n",
    "> What would you like **to predict**?\n",
    ">\n",
    "> Total number of accients? Or Alcohol?\n",
    ">\n",
    "> 2. **Explanatory Variable `X`**\n",
    ">\n",
    "> Which variable will you use **to explain** the target?"
   ]
  },
  {
   "cell_type": "code",
   "execution_count": 17,
   "metadata": {
    "tags": []
   },
   "outputs": [],
   "source": [
    "explanatory = df[['alcohol']]\n",
    "target = df['total']"
   ]
  },
  {
   "cell_type": "markdown",
   "metadata": {},
   "source": [
    "### Finally `fit()` the Model"
   ]
  },
  {
   "cell_type": "code",
   "execution_count": 18,
   "metadata": {},
   "outputs": [
    {
     "data": {
      "text/plain": [
       "LinearRegression()"
      ]
     },
     "execution_count": 18,
     "metadata": {},
     "output_type": "execute_result"
    }
   ],
   "source": [
    "algo.fit(X=explanatory, y=target)"
   ]
  },
  {
   "cell_type": "code",
   "execution_count": 19,
   "metadata": {},
   "outputs": [
    {
     "data": {
      "text/plain": [
       "{'fit_intercept': True,\n",
       " 'normalize': False,\n",
       " 'copy_X': True,\n",
       " 'n_jobs': None,\n",
       " 'positive': False,\n",
       " 'n_features_in_': 1,\n",
       " 'coef_': array([2.0325063]),\n",
       " '_residues': 231.9688865331006,\n",
       " 'rank_': 1,\n",
       " 'singular_': array([12.22681605]),\n",
       " 'intercept_': 5.857776154826299}"
      ]
     },
     "execution_count": 19,
     "metadata": {},
     "output_type": "execute_result"
    }
   ],
   "source": [
    "algo.__dict__"
   ]
  },
  {
   "cell_type": "markdown",
   "metadata": {},
   "source": [
    "## Model's Mathematical Equation"
   ]
  },
  {
   "cell_type": "markdown",
   "metadata": {},
   "source": [
    "> A model is nothing more than a mathematical equation that **helps you to calculate** something. For example:\n",
    ">\n",
    "> 1. **Churn**: which is the probability for this client not to buy me anymore?\n",
    "> 2. **Credit Approval**: which is the probability for this client to pay the credit?\n",
    "> 3. **Athlete's Injury**: which is the probability for this athlete to have an injury in the next game?\n",
    "> 4. **Car Rental**: how many cars will people rent tomorrow?\n",
    ">\n",
    "> For our case: **how many accidents** the State will have (based on alcohol)?\n",
    "> - Which is the mathematical equation?"
   ]
  },
  {
   "cell_type": "markdown",
   "metadata": {},
   "source": [
    "$$\n",
    "accidents = 5.85 + 2.03 \\cdot alcohol\n",
    "$$"
   ]
  },
  {
   "cell_type": "markdown",
   "metadata": {},
   "source": [
    "## Model Interpretation"
   ]
  },
  {
   "cell_type": "markdown",
   "metadata": {},
   "source": [
    "> - How many accidents will happen for every **one unit increase in alcohol**?"
   ]
  },
  {
   "cell_type": "code",
   "execution_count": null,
   "metadata": {},
   "outputs": [],
   "source": []
  },
  {
   "cell_type": "markdown",
   "metadata": {},
   "source": [
    "## External Code Execution"
   ]
  },
  {
   "cell_type": "markdown",
   "metadata": {},
   "source": [
    "> - What have happened **inside the computer** to get the model equation?"
   ]
  },
  {
   "cell_type": "code",
   "execution_count": null,
   "metadata": {},
   "outputs": [],
   "source": []
  },
  {
   "cell_type": "markdown",
   "metadata": {},
   "source": [
    "## Calculate a Prediction with the Model"
   ]
  },
  {
   "cell_type": "markdown",
   "metadata": {},
   "source": [
    "> **Programming thiking:**\n",
    ">\n",
    "> - Which `function()` can we use to make a prediction?\n",
    "> - How can you answer yourself **without searching in Google**?"
   ]
  },
  {
   "cell_type": "code",
   "execution_count": null,
   "metadata": {},
   "outputs": [],
   "source": []
  },
  {
   "cell_type": "markdown",
   "metadata": {},
   "source": [
    "## Model Visualization"
   ]
  },
  {
   "cell_type": "markdown",
   "metadata": {},
   "source": [
    "> 1. What would happend if you **plot the predictions**?\n",
    "> 2. And the **real data**?"
   ]
  },
  {
   "cell_type": "code",
   "execution_count": null,
   "metadata": {},
   "outputs": [],
   "source": []
  },
  {
   "cell_type": "markdown",
   "metadata": {},
   "source": [
    "# How good is my model? **Goodness of Fit**"
   ]
  },
  {
   "cell_type": "markdown",
   "metadata": {},
   "source": [
    "> - How can we compare **reality vs. predictions**?"
   ]
  },
  {
   "cell_type": "code",
   "execution_count": null,
   "metadata": {},
   "outputs": [],
   "source": []
  },
  {
   "cell_type": "markdown",
   "metadata": {},
   "source": [
    "# Other Regression Models to Calculate Accidents"
   ]
  },
  {
   "cell_type": "markdown",
   "metadata": {},
   "source": [
    "> Tutorial → [Why All Machine Learning Models Are the Same](https://blogsotastico.com/why-all-machine-learning-models-are-the-same)"
   ]
  },
  {
   "cell_type": "markdown",
   "metadata": {},
   "source": [
    "## `RandomForestRegression()`"
   ]
  },
  {
   "cell_type": "code",
   "execution_count": 5,
   "metadata": {},
   "outputs": [],
   "source": [
    "from sklearn.ensemble import RandomForestRegressor\n",
    "model3=RandomForestRegressor()"
   ]
  },
  {
   "cell_type": "code",
   "execution_count": 7,
   "metadata": {},
   "outputs": [],
   "source": [
    "import seaborn as sns\n",
    "sns.load_dataset('mpg')\n",
    "df=sns.load_dataset('mpg')\n"
   ]
  },
  {
   "cell_type": "code",
   "execution_count": 8,
   "metadata": {},
   "outputs": [
    {
     "data": {
      "text/plain": [
       "RandomForestRegressor()"
      ]
     },
     "execution_count": 8,
     "metadata": {},
     "output_type": "execute_result"
    }
   ],
   "source": [
    "model3.fit(X=df[['weight']],y=df['mpg'])"
   ]
  },
  {
   "cell_type": "code",
   "execution_count": 9,
   "metadata": {},
   "outputs": [
    {
     "data": {
      "text/plain": [
       "{'base_estimator': DecisionTreeRegressor(),\n",
       " 'n_estimators': 100,\n",
       " 'estimator_params': ('criterion',\n",
       "  'max_depth',\n",
       "  'min_samples_split',\n",
       "  'min_samples_leaf',\n",
       "  'min_weight_fraction_leaf',\n",
       "  'max_features',\n",
       "  'max_leaf_nodes',\n",
       "  'min_impurity_decrease',\n",
       "  'min_impurity_split',\n",
       "  'random_state',\n",
       "  'ccp_alpha'),\n",
       " 'bootstrap': True,\n",
       " 'oob_score': False,\n",
       " 'n_jobs': None,\n",
       " 'random_state': None,\n",
       " 'verbose': 0,\n",
       " 'warm_start': False,\n",
       " 'class_weight': None,\n",
       " 'max_samples': None,\n",
       " 'criterion': 'mse',\n",
       " 'max_depth': None,\n",
       " 'min_samples_split': 2,\n",
       " 'min_samples_leaf': 1,\n",
       " 'min_weight_fraction_leaf': 0.0,\n",
       " 'max_features': 'auto',\n",
       " 'max_leaf_nodes': None,\n",
       " 'min_impurity_decrease': 0.0,\n",
       " 'min_impurity_split': None,\n",
       " 'ccp_alpha': 0.0,\n",
       " 'n_features_in_': 1,\n",
       " 'n_features_': 1,\n",
       " 'n_outputs_': 1,\n",
       " 'base_estimator_': DecisionTreeRegressor(),\n",
       " 'estimators_': [DecisionTreeRegressor(max_features='auto', random_state=1391804610),\n",
       "  DecisionTreeRegressor(max_features='auto', random_state=828222369),\n",
       "  DecisionTreeRegressor(max_features='auto', random_state=660351594),\n",
       "  DecisionTreeRegressor(max_features='auto', random_state=593963548),\n",
       "  DecisionTreeRegressor(max_features='auto', random_state=1185458450),\n",
       "  DecisionTreeRegressor(max_features='auto', random_state=237483255),\n",
       "  DecisionTreeRegressor(max_features='auto', random_state=564936640),\n",
       "  DecisionTreeRegressor(max_features='auto', random_state=763213007),\n",
       "  DecisionTreeRegressor(max_features='auto', random_state=627440967),\n",
       "  DecisionTreeRegressor(max_features='auto', random_state=959842004),\n",
       "  DecisionTreeRegressor(max_features='auto', random_state=1848217421),\n",
       "  DecisionTreeRegressor(max_features='auto', random_state=1509977691),\n",
       "  DecisionTreeRegressor(max_features='auto', random_state=887310693),\n",
       "  DecisionTreeRegressor(max_features='auto', random_state=312656801),\n",
       "  DecisionTreeRegressor(max_features='auto', random_state=969775118),\n",
       "  DecisionTreeRegressor(max_features='auto', random_state=108619893),\n",
       "  DecisionTreeRegressor(max_features='auto', random_state=1558274074),\n",
       "  DecisionTreeRegressor(max_features='auto', random_state=1721347227),\n",
       "  DecisionTreeRegressor(max_features='auto', random_state=1550157292),\n",
       "  DecisionTreeRegressor(max_features='auto', random_state=1326758971),\n",
       "  DecisionTreeRegressor(max_features='auto', random_state=741670669),\n",
       "  DecisionTreeRegressor(max_features='auto', random_state=1737569966),\n",
       "  DecisionTreeRegressor(max_features='auto', random_state=454993863),\n",
       "  DecisionTreeRegressor(max_features='auto', random_state=898844344),\n",
       "  DecisionTreeRegressor(max_features='auto', random_state=141182347),\n",
       "  DecisionTreeRegressor(max_features='auto', random_state=560623132),\n",
       "  DecisionTreeRegressor(max_features='auto', random_state=902080618),\n",
       "  DecisionTreeRegressor(max_features='auto', random_state=668827402),\n",
       "  DecisionTreeRegressor(max_features='auto', random_state=1272353526),\n",
       "  DecisionTreeRegressor(max_features='auto', random_state=994639444),\n",
       "  DecisionTreeRegressor(max_features='auto', random_state=515074496),\n",
       "  DecisionTreeRegressor(max_features='auto', random_state=447142975),\n",
       "  DecisionTreeRegressor(max_features='auto', random_state=1112492931),\n",
       "  DecisionTreeRegressor(max_features='auto', random_state=1587559131),\n",
       "  DecisionTreeRegressor(max_features='auto', random_state=779308314),\n",
       "  DecisionTreeRegressor(max_features='auto', random_state=2102118779),\n",
       "  DecisionTreeRegressor(max_features='auto', random_state=49460174),\n",
       "  DecisionTreeRegressor(max_features='auto', random_state=1750166770),\n",
       "  DecisionTreeRegressor(max_features='auto', random_state=639134028),\n",
       "  DecisionTreeRegressor(max_features='auto', random_state=1992085473),\n",
       "  DecisionTreeRegressor(max_features='auto', random_state=854402400),\n",
       "  DecisionTreeRegressor(max_features='auto', random_state=949723846),\n",
       "  DecisionTreeRegressor(max_features='auto', random_state=2114559126),\n",
       "  DecisionTreeRegressor(max_features='auto', random_state=762222857),\n",
       "  DecisionTreeRegressor(max_features='auto', random_state=670445941),\n",
       "  DecisionTreeRegressor(max_features='auto', random_state=1545184394),\n",
       "  DecisionTreeRegressor(max_features='auto', random_state=423017644),\n",
       "  DecisionTreeRegressor(max_features='auto', random_state=770027461),\n",
       "  DecisionTreeRegressor(max_features='auto', random_state=1150100922),\n",
       "  DecisionTreeRegressor(max_features='auto', random_state=251641214),\n",
       "  DecisionTreeRegressor(max_features='auto', random_state=1935458349),\n",
       "  DecisionTreeRegressor(max_features='auto', random_state=1213910079),\n",
       "  DecisionTreeRegressor(max_features='auto', random_state=656451720),\n",
       "  DecisionTreeRegressor(max_features='auto', random_state=2015921991),\n",
       "  DecisionTreeRegressor(max_features='auto', random_state=807743736),\n",
       "  DecisionTreeRegressor(max_features='auto', random_state=1673860745),\n",
       "  DecisionTreeRegressor(max_features='auto', random_state=460498310),\n",
       "  DecisionTreeRegressor(max_features='auto', random_state=665413715),\n",
       "  DecisionTreeRegressor(max_features='auto', random_state=1371779544),\n",
       "  DecisionTreeRegressor(max_features='auto', random_state=1399270986),\n",
       "  DecisionTreeRegressor(max_features='auto', random_state=1674262417),\n",
       "  DecisionTreeRegressor(max_features='auto', random_state=1827196776),\n",
       "  DecisionTreeRegressor(max_features='auto', random_state=338583756),\n",
       "  DecisionTreeRegressor(max_features='auto', random_state=2007687056),\n",
       "  DecisionTreeRegressor(max_features='auto', random_state=870800626),\n",
       "  DecisionTreeRegressor(max_features='auto', random_state=2131928658),\n",
       "  DecisionTreeRegressor(max_features='auto', random_state=731589115),\n",
       "  DecisionTreeRegressor(max_features='auto', random_state=1625174855),\n",
       "  DecisionTreeRegressor(max_features='auto', random_state=313196527),\n",
       "  DecisionTreeRegressor(max_features='auto', random_state=571991745),\n",
       "  DecisionTreeRegressor(max_features='auto', random_state=567002215),\n",
       "  DecisionTreeRegressor(max_features='auto', random_state=363859617),\n",
       "  DecisionTreeRegressor(max_features='auto', random_state=418630815),\n",
       "  DecisionTreeRegressor(max_features='auto', random_state=860613630),\n",
       "  DecisionTreeRegressor(max_features='auto', random_state=1632280005),\n",
       "  DecisionTreeRegressor(max_features='auto', random_state=1828537017),\n",
       "  DecisionTreeRegressor(max_features='auto', random_state=643709006),\n",
       "  DecisionTreeRegressor(max_features='auto', random_state=280619123),\n",
       "  DecisionTreeRegressor(max_features='auto', random_state=126866324),\n",
       "  DecisionTreeRegressor(max_features='auto', random_state=1894719990),\n",
       "  DecisionTreeRegressor(max_features='auto', random_state=367185829),\n",
       "  DecisionTreeRegressor(max_features='auto', random_state=703136091),\n",
       "  DecisionTreeRegressor(max_features='auto', random_state=1581067063),\n",
       "  DecisionTreeRegressor(max_features='auto', random_state=987647816),\n",
       "  DecisionTreeRegressor(max_features='auto', random_state=1120559055),\n",
       "  DecisionTreeRegressor(max_features='auto', random_state=456411703),\n",
       "  DecisionTreeRegressor(max_features='auto', random_state=1416020439),\n",
       "  DecisionTreeRegressor(max_features='auto', random_state=488344079),\n",
       "  DecisionTreeRegressor(max_features='auto', random_state=504683070),\n",
       "  DecisionTreeRegressor(max_features='auto', random_state=493646923),\n",
       "  DecisionTreeRegressor(max_features='auto', random_state=670616820),\n",
       "  DecisionTreeRegressor(max_features='auto', random_state=1605233245),\n",
       "  DecisionTreeRegressor(max_features='auto', random_state=302029764),\n",
       "  DecisionTreeRegressor(max_features='auto', random_state=1011463222),\n",
       "  DecisionTreeRegressor(max_features='auto', random_state=342894437),\n",
       "  DecisionTreeRegressor(max_features='auto', random_state=48632604),\n",
       "  DecisionTreeRegressor(max_features='auto', random_state=902036463),\n",
       "  DecisionTreeRegressor(max_features='auto', random_state=2059326416),\n",
       "  DecisionTreeRegressor(max_features='auto', random_state=1615078691),\n",
       "  DecisionTreeRegressor(max_features='auto', random_state=1768125266)]}"
      ]
     },
     "execution_count": 9,
     "metadata": {},
     "output_type": "execute_result"
    }
   ],
   "source": [
    "model3.__dict__"
   ]
  },
  {
   "cell_type": "code",
   "execution_count": 10,
   "metadata": {},
   "outputs": [],
   "source": [
    "model3.predict(X=df[['weight']])\n",
    "pred=model3.predict(X=df[['weight']])"
   ]
  },
  {
   "cell_type": "code",
   "execution_count": 11,
   "metadata": {},
   "outputs": [
    {
     "data": {
      "text/plain": [
       "array([18.016     , 14.976     , 17.36525   , 16.17525   , 17.105     ,\n",
       "       15.206     , 14.716     , 14.39      , 13.79      , 15.82      ,\n",
       "       16.618     , 15.758     , 14.63      , 17.295     , 26.298     ,\n",
       "       21.915     , 18.48      , 22.123     , 33.7896627 , 32.62693333,\n",
       "       25.22866667, 27.671     , 24.798     , 27.174     , 23.2145    ,\n",
       "       10.7       , 11.629     , 12.454     , 10.85      , 33.7896627 ,\n",
       "       27.7529    , 24.406     , 27.99793333, 22.62197619, 16.553     ,\n",
       "       16.986     , 18.64      , 18.054     , 14.8795    , 13.54825   ,\n",
       "       14.58      , 13.73      , 11.98      , 12.73      , 12.49      ,\n",
       "       19.144     , 21.27183333, 18.074     , 18.21      , 24.72      ,\n",
       "       26.2485    , 31.6895    , 31.8956    , 32.45      , 34.505     ,\n",
       "       29.31018333, 26.95416667, 23.62      , 28.05242857, 24.3948    ,\n",
       "       21.27183333, 22.718     , 13.83      , 13.274     , 15.        ,\n",
       "       14.46      , 15.267     , 11.92      , 13.17633333, 12.72916667,\n",
       "       13.35      , 26.085     , 15.835     , 13.39      , 13.65      ,\n",
       "       14.99      , 19.3975    , 22.63      , 20.32      , 28.752     ,\n",
       "       27.012     , 28.74      , 24.277     , 27.64766667, 27.69633333,\n",
       "       13.23      , 15.267     , 14.135     , 14.19      , 15.46      ,\n",
       "       11.98      , 13.54825   , 14.163     , 14.58      , 12.33      ,\n",
       "       11.99      , 14.181     , 18.175     , 16.934     , 21.89166667,\n",
       "       24.97      , 23.016     , 28.43333333, 11.43      , 11.99      ,\n",
       "       13.56      , 13.08633333, 20.484     , 22.14      , 22.652     ,\n",
       "       24.276     , 21.1775    , 21.63411667, 22.41      , 27.66675714,\n",
       "       15.33      , 14.92      , 31.684     , 28.06166667, 21.82      ,\n",
       "       21.128     , 15.94108333, 25.8925    , 22.044     , 13.038     ,\n",
       "       18.829     , 22.255     , 21.316     , 16.142     , 28.43333333,\n",
       "       26.51      , 32.1805    , 28.00375   , 15.86      , 17.338     ,\n",
       "       17.444     , 15.695     , 13.22      , 13.56916667, 13.39      ,\n",
       "       13.89      , 26.82933333, 30.2905    , 25.97388095, 33.105     ,\n",
       "       32.39966667, 33.19459524, 28.2734    , 27.559     , 25.394     ,\n",
       "       26.662     , 32.00966667, 19.54      , 17.775     , 15.72525   ,\n",
       "       19.291     , 15.05      , 14.36      , 14.64633333, 13.92      ,\n",
       "       18.775     , 17.135     , 17.6145    , 16.99      , 21.67      ,\n",
       "       21.543     , 18.015     , 28.34216667, 24.75864286, 23.686     ,\n",
       "       24.153     , 24.609     , 24.458     , 25.91745   , 18.819     ,\n",
       "       29.164     , 19.187     , 24.266     , 21.836     , 21.89166667,\n",
       "       25.88852381, 33.507     , 25.91      , 24.72      , 26.135     ,\n",
       "       25.5048    , 29.809     , 15.8295    , 15.5275    , 15.68583333,\n",
       "       15.8295    , 23.023     , 21.236     , 26.58      , 20.44      ,\n",
       "       31.26483333, 27.64766667, 29.164     , 33.507     , 17.891     ,\n",
       "       18.388     , 18.401     , 20.514     , 32.4165    , 32.34719286,\n",
       "       29.19250794, 26.855     , 19.72      , 15.47733333, 19.192     ,\n",
       "       21.18416667, 15.616     , 14.619     , 13.64      , 14.47      ,\n",
       "       14.172     , 32.05893333, 29.19250794, 32.4165    , 25.97388095,\n",
       "       31.57416667, 16.28      , 15.64      , 15.515     , 14.49      ,\n",
       "       18.057     , 20.01263333, 18.388     , 18.547     , 15.87      ,\n",
       "       15.195     , 15.48      , 15.699     , 29.13833333, 25.027     ,\n",
       "       27.66675714, 24.613     , 31.78333333, 32.8795    , 34.84687857,\n",
       "       31.357     , 21.9       , 24.296     , 25.883025  , 34.84687857,\n",
       "       35.64725   , 34.84687857, 36.66683333, 35.64725   , 20.229     ,\n",
       "       18.4205    , 19.18      , 20.615     , 19.21      , 20.024     ,\n",
       "       25.883025  , 18.778     , 19.326     , 20.067     , 20.616     ,\n",
       "       18.288     , 17.8645    , 20.01263333, 17.351     , 18.623     ,\n",
       "       16.395     , 29.19250794, 28.84      , 25.97388095, 28.155     ,\n",
       "       22.144     , 23.996     , 23.174     , 22.9125    , 21.065     ,\n",
       "       17.78      , 23.377     , 17.8645    , 32.34719286, 31.116     ,\n",
       "       24.062     , 19.725     , 22.507     , 19.648     , 20.508     ,\n",
       "       16.884     , 21.158     , 16.12583333, 16.239     , 15.537     ,\n",
       "       14.715     , 17.838     , 15.47733333, 32.174     , 35.12483333,\n",
       "       33.96      , 27.45969048, 23.043     , 20.525     , 24.043     ,\n",
       "       22.95566667, 32.6695    , 33.912     , 33.402     , 33.7896627 ,\n",
       "       27.45969048, 26.469     , 26.065     , 31.043     , 38.073     ,\n",
       "       36.181     , 30.40283333, 35.724     , 27.08      , 23.94      ,\n",
       "       25.235     , 19.287     , 32.404     , 27.89773333, 28.00375   ,\n",
       "       31.831     , 27.66675714, 41.77436667, 25.557     , 41.77436667,\n",
       "       40.0655    , 35.161     , 30.68713333, 26.449     , 40.09133333,\n",
       "       32.62693333, 35.378     , 33.30458333, 28.893     , 23.429     ,\n",
       "       30.31      , 23.244     , 30.854     , 26.83      , 27.37264286,\n",
       "       27.604     , 24.31578333, 29.253     , 37.351     , 36.684     ,\n",
       "       35.711     , 31.8956    , 35.12483333, 34.44733333, 34.84687857,\n",
       "       32.48366667, 32.05893333, 27.91      , 31.357     , 28.22975   ,\n",
       "       33.869     , 33.236     , 30.627     , 27.37264286, 25.585     ,\n",
       "       24.873     , 23.388     , 21.18416667, 20.48291667, 21.158     ,\n",
       "       20.509     , 17.607     , 26.911     , 26.47864286, 27.012     ,\n",
       "       27.975     , 26.4865    , 26.1705    , 22.652     , 23.1       ,\n",
       "       35.86903333, 35.373     , 33.128     , 33.19459524, 33.19459524,\n",
       "       33.11125   , 33.498     , 30.999     , 34.8855    , 34.8855    ,\n",
       "       36.08975   , 21.89166667, 32.623     , 24.33      , 21.915     ,\n",
       "       29.0925    , 32.058     , 30.68713333, 23.904     , 33.7896627 ,\n",
       "       31.00203333, 27.031     , 25.883025  ])"
      ]
     },
     "execution_count": 11,
     "metadata": {},
     "output_type": "execute_result"
    }
   ],
   "source": [
    "pred"
   ]
  },
  {
   "cell_type": "code",
   "execution_count": 13,
   "metadata": {},
   "outputs": [],
   "source": [
    "dfsel = df[['weight', 'mpg']].copy()"
   ]
  },
  {
   "cell_type": "code",
   "execution_count": 14,
   "metadata": {},
   "outputs": [],
   "source": [
    "dfsel['pred_rfr'] = pred"
   ]
  },
  {
   "cell_type": "code",
   "execution_count": 15,
   "metadata": {},
   "outputs": [
    {
     "data": {
      "text/html": [
       "<div>\n",
       "<style scoped>\n",
       "    .dataframe tbody tr th:only-of-type {\n",
       "        vertical-align: middle;\n",
       "    }\n",
       "\n",
       "    .dataframe tbody tr th {\n",
       "        vertical-align: top;\n",
       "    }\n",
       "\n",
       "    .dataframe thead th {\n",
       "        text-align: right;\n",
       "    }\n",
       "</style>\n",
       "<table border=\"1\" class=\"dataframe\">\n",
       "  <thead>\n",
       "    <tr style=\"text-align: right;\">\n",
       "      <th></th>\n",
       "      <th>weight</th>\n",
       "      <th>mpg</th>\n",
       "      <th>pred_rfr</th>\n",
       "    </tr>\n",
       "  </thead>\n",
       "  <tbody>\n",
       "    <tr>\n",
       "      <th>0</th>\n",
       "      <td>3504</td>\n",
       "      <td>18.0</td>\n",
       "      <td>18.016000</td>\n",
       "    </tr>\n",
       "    <tr>\n",
       "      <th>1</th>\n",
       "      <td>3693</td>\n",
       "      <td>15.0</td>\n",
       "      <td>14.976000</td>\n",
       "    </tr>\n",
       "    <tr>\n",
       "      <th>2</th>\n",
       "      <td>3436</td>\n",
       "      <td>18.0</td>\n",
       "      <td>17.365250</td>\n",
       "    </tr>\n",
       "    <tr>\n",
       "      <th>3</th>\n",
       "      <td>3433</td>\n",
       "      <td>16.0</td>\n",
       "      <td>16.175250</td>\n",
       "    </tr>\n",
       "    <tr>\n",
       "      <th>4</th>\n",
       "      <td>3449</td>\n",
       "      <td>17.0</td>\n",
       "      <td>17.105000</td>\n",
       "    </tr>\n",
       "    <tr>\n",
       "      <th>...</th>\n",
       "      <td>...</td>\n",
       "      <td>...</td>\n",
       "      <td>...</td>\n",
       "    </tr>\n",
       "    <tr>\n",
       "      <th>393</th>\n",
       "      <td>2790</td>\n",
       "      <td>27.0</td>\n",
       "      <td>23.904000</td>\n",
       "    </tr>\n",
       "    <tr>\n",
       "      <th>394</th>\n",
       "      <td>2130</td>\n",
       "      <td>44.0</td>\n",
       "      <td>33.789663</td>\n",
       "    </tr>\n",
       "    <tr>\n",
       "      <th>395</th>\n",
       "      <td>2295</td>\n",
       "      <td>32.0</td>\n",
       "      <td>31.002033</td>\n",
       "    </tr>\n",
       "    <tr>\n",
       "      <th>396</th>\n",
       "      <td>2625</td>\n",
       "      <td>28.0</td>\n",
       "      <td>27.031000</td>\n",
       "    </tr>\n",
       "    <tr>\n",
       "      <th>397</th>\n",
       "      <td>2720</td>\n",
       "      <td>31.0</td>\n",
       "      <td>25.883025</td>\n",
       "    </tr>\n",
       "  </tbody>\n",
       "</table>\n",
       "<p>398 rows × 3 columns</p>\n",
       "</div>"
      ],
      "text/plain": [
       "     weight   mpg   pred_rfr\n",
       "0      3504  18.0  18.016000\n",
       "1      3693  15.0  14.976000\n",
       "2      3436  18.0  17.365250\n",
       "3      3433  16.0  16.175250\n",
       "4      3449  17.0  17.105000\n",
       "..      ...   ...        ...\n",
       "393    2790  27.0  23.904000\n",
       "394    2130  44.0  33.789663\n",
       "395    2295  32.0  31.002033\n",
       "396    2625  28.0  27.031000\n",
       "397    2720  31.0  25.883025\n",
       "\n",
       "[398 rows x 3 columns]"
      ]
     },
     "execution_count": 15,
     "metadata": {},
     "output_type": "execute_result"
    }
   ],
   "source": [
    "dfsel"
   ]
  },
  {
   "cell_type": "code",
   "execution_count": 16,
   "metadata": {},
   "outputs": [
    {
     "data": {
      "text/plain": [
       "0.915052481077816"
      ]
     },
     "execution_count": 16,
     "metadata": {},
     "output_type": "execute_result"
    }
   ],
   "source": [
    "model3.score(X=df[['weight']],y=df['mpg'])"
   ]
  },
  {
   "cell_type": "code",
   "execution_count": 17,
   "metadata": {},
   "outputs": [
    {
     "data": {
      "text/plain": [
       "<AxesSubplot:xlabel='weight', ylabel='mpg'>"
      ]
     },
     "execution_count": 17,
     "metadata": {},
     "output_type": "execute_result"
    },
    {
     "data": {
      "image/png": "[encoded data removed]",
      "text/plain": [
       "<Figure size 432x288 with 1 Axes>"
      ]
     },
     "metadata": {
      "needs_background": "light"
     },
     "output_type": "display_data"
    }
   ],
   "source": [
    "sns.scatterplot(x='weight', y='mpg', data=df)\n",
    "sns.lineplot(x='weight', y='pred_rfr', data=dfsel, color='red')"
   ]
  },
  {
   "cell_type": "markdown",
   "metadata": {},
   "source": [
    "## `SVR()`"
   ]
  },
  {
   "cell_type": "code",
   "execution_count": null,
   "metadata": {},
   "outputs": [],
   "source": []
  }
 ],
 "metadata": {
  "authors": [
   {
    "name": "Jesús López @sotastica"
   }
  ],
  "interpreter": {
   "hash": "414fd6d7c0f0aefb3d4e2db41edbeb0df03134e10d94a689550561b640a17652"
  },
  "kernelspec": {
   "display_name": "Python 3",
   "language": "python",
   "name": "python3"
  },
  "language_info": {
   "codemirror_mode": {
    "name": "ipython",
    "version": 3
   },
   "file_extension": ".py",
   "mimetype": "text/x-python",
   "name": "python",
   "nbconvert_exporter": "python",
   "pygments_lexer": "ipython3",
   "version": "3.8.8"
  },
  "toc-autonumbering": true
 },
 "nbformat": 4,
 "nbformat_minor": 4
}
